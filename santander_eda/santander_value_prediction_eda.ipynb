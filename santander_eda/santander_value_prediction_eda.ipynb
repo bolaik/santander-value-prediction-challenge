{
 "cells": [
  {
   "cell_type": "markdown",
   "metadata": {},
   "source": [
    "## Exploratory Data Analysis of the Santander III Dataset"
   ]
  },
  {
   "cell_type": "code",
   "execution_count": 1,
   "metadata": {
    "ExecuteTime": {
     "end_time": "2018-06-30T20:43:43.021051Z",
     "start_time": "2018-06-30T20:43:41.694780Z"
    },
    "collapsed": true
   },
   "outputs": [],
   "source": [
    "import numpy as np\n",
    "import pandas as pd\n",
    "import matplotlib.pyplot as plt\n",
    "%matplotlib inline\n",
    "import seaborn as sns\n",
    "sns.set(color_codes=True)"
   ]
  },
  {
   "cell_type": "markdown",
   "metadata": {},
   "source": [
    "### Load the data set"
   ]
  },
  {
   "cell_type": "code",
   "execution_count": 2,
   "metadata": {
    "ExecuteTime": {
     "end_time": "2018-06-30T20:44:38.234677Z",
     "start_time": "2018-06-30T20:43:43.022519Z"
    },
    "collapsed": true
   },
   "outputs": [],
   "source": [
    "train = pd.read_csv('../input/train.csv')\n",
    "test = pd.read_csv('../input/test.csv')"
   ]
  },
  {
   "cell_type": "markdown",
   "metadata": {},
   "source": [
    "After check, min value of the whole dataframe is 0.\n",
    "Only `ID` is object, all other columns are numerical."
   ]
  },
  {
   "cell_type": "code",
   "execution_count": 3,
   "metadata": {
    "ExecuteTime": {
     "end_time": "2018-06-30T20:44:38.240480Z",
     "start_time": "2018-06-30T20:44:38.236268Z"
    }
   },
   "outputs": [
    {
     "name": "stdout",
     "output_type": "stream",
     "text": [
      "train set shape: (4459, 4993)\n",
      "test set shape: (49342, 4992)\n"
     ]
    }
   ],
   "source": [
    "print('train set shape: {}'.format(train.shape))\n",
    "print('test set shape: {}'.format(test.shape))"
   ]
  },
  {
   "cell_type": "markdown",
   "metadata": {},
   "source": [
    "#### simple histogram of any selected columns"
   ]
  },
  {
   "cell_type": "code",
   "execution_count": 4,
   "metadata": {
    "ExecuteTime": {
     "end_time": "2018-06-30T20:44:38.685754Z",
     "start_time": "2018-06-30T20:44:38.242190Z"
    }
   },
   "outputs": [
    {
     "data": {
      "image/png": "[encoded data removed]",
      "text/plain": [
       "<Figure size 1296x288 with 3 Axes>"
      ]
     },
     "metadata": {},
     "output_type": "display_data"
    }
   ],
   "source": [
    "col = np.random.randint(low=2, high=4993, size=1)\n",
    "col = train.columns.values[col][0]\n",
    "#col = 'c5a231d81'\n",
    "col = 'f190486d6'\n",
    "#col = 'target'\n",
    "plt.figure(figsize=(18,4))\n",
    "plt.subplot(131, xlabel=col)\n",
    "train[col].hist(bins=50)\n",
    "plt.subplot(132, xlabel='log('+col+'+1)')\n",
    "np.log(train.loc[:,col]+1).hist(bins=50)\n",
    "plt.subplot(133, xlabel='log('+col+'+1)')\n",
    "np.log(train.loc[train[col]!=0,col]+1).hist(bins=50) # impute zero\n",
    "plt.show()"
   ]
  },
  {
   "cell_type": "markdown",
   "metadata": {},
   "source": [
    "### Calculate statistics\n",
    "\n",
    "#### custom code for Information Value"
   ]
  },
  {
   "cell_type": "code",
   "execution_count": 6,
   "metadata": {
    "ExecuteTime": {
     "end_time": "2018-06-30T22:15:04.592043Z",
     "start_time": "2018-06-30T22:15:04.141218Z"
    },
    "collapsed": true
   },
   "outputs": [],
   "source": [
    "# import packages\n",
    "import pandas as pd\n",
    "import numpy as np\n",
    "import pandas.core.algorithms as algos\n",
    "from pandas import Series\n",
    "import scipy.stats.stats as stats\n",
    "import re\n",
    "import traceback\n",
    "import string\n",
    "\n",
    "import warnings\n",
    "warnings.filterwarnings(\"ignore\", message=\"divide by zero encountered in log\")\n",
    "\n",
    "max_bin = 20\n",
    "force_bin = 5\n",
    "\n",
    "# define a binning function\n",
    "def mono_bin(Y, X, n = max_bin):\n",
    "    \n",
    "    df1 = pd.DataFrame({\"X\": X, \"Y\": Y})\n",
    "    justmiss = df1[['X','Y']][df1.X.isnull()]\n",
    "    notmiss = df1[['X','Y']][df1.X.notnull()]\n",
    "    r = 0\n",
    "    while np.abs(r) < 1:\n",
    "        try:\n",
    "            d1 = pd.DataFrame({\"X\": notmiss.X, \"Y\": notmiss.Y, \"Bucket\": pd.qcut(notmiss.X, n)})\n",
    "            d2 = d1.groupby('Bucket', as_index=True)\n",
    "            r, p = stats.spearmanr(d2.mean().X, d2.mean().Y)\n",
    "            n = n - 1 \n",
    "        except Exception as e:\n",
    "            n = n - 1\n",
    "\n",
    "    if len(d2) == 1:\n",
    "        n = force_bin         \n",
    "        bins = algos.quantile(notmiss.X, np.linspace(0, 1, n))\n",
    "        if len(np.unique(bins)) == 2:\n",
    "            bins = np.insert(bins, 0, 1)\n",
    "            bins[1] = bins[1]-(bins[1]/2)\n",
    "        d1 = pd.DataFrame({\"X\": notmiss.X, \"Y\": notmiss.Y, \"Bucket\": pd.cut(notmiss.X, np.unique(bins),include_lowest=True)}) \n",
    "        d2 = d1.groupby('Bucket', as_index=True)\n",
    "    \n",
    "    d3 = pd.DataFrame({},index=[])\n",
    "    d3[\"MIN_VALUE\"] = d2.min().X\n",
    "    d3[\"MAX_VALUE\"] = d2.max().X\n",
    "    d3[\"COUNT\"] = d2.count().Y\n",
    "    d3[\"EVENT\"] = d2.sum().Y\n",
    "    d3[\"NONEVENT\"] = d2.count().Y - d2.sum().Y\n",
    "    d3=d3.reset_index(drop=True)\n",
    "    \n",
    "    if len(justmiss.index) > 0:\n",
    "        d4 = pd.DataFrame({'MIN_VALUE':np.nan},index=[0])\n",
    "        d4[\"MAX_VALUE\"] = np.nan\n",
    "        d4[\"COUNT\"] = justmiss.count().Y\n",
    "        d4[\"EVENT\"] = justmiss.sum().Y\n",
    "        d4[\"NONEVENT\"] = justmiss.count().Y - justmiss.sum().Y\n",
    "        d3 = d3.append(d4,ignore_index=True)\n",
    "    \n",
    "    d3[\"EVENT_RATE\"] = d3.EVENT/d3.sum().EVENT\n",
    "    d3[\"NON_EVENT_RATE\"] = d3.NONEVENT/d3.sum().NONEVENT\n",
    "    d3[\"WOE\"] = np.log(d3.EVENT_RATE/d3.NON_EVENT_RATE)\n",
    "    d3[\"IV\"] = (d3.EVENT_RATE-d3.NON_EVENT_RATE)*np.log(d3.EVENT_RATE/d3.NON_EVENT_RATE)\n",
    "    d3[\"VAR_NAME\"] = \"VAR\"\n",
    "    d3 = d3[['VAR_NAME','MIN_VALUE', 'MAX_VALUE', 'COUNT', 'EVENT', 'EVENT_RATE', 'NONEVENT', 'NON_EVENT_RATE', 'WOE', 'IV']]       \n",
    "    d3 = d3.replace([np.inf, -np.inf], 0)\n",
    "    d3.IV = d3.IV.sum()\n",
    "    \n",
    "    return(d3)\n",
    "\n",
    "def char_bin(Y, X):\n",
    "        \n",
    "    df1 = pd.DataFrame({\"X\": X, \"Y\": Y})\n",
    "    df2 = df1.groupby('X',as_index=True)\n",
    "    \n",
    "    d3 = pd.DataFrame({},index=[])\n",
    "    d3[\"COUNT\"] = df2.count().Y\n",
    "    d3[\"MIN_VALUE\"] = df2.groups\n",
    "    d3[\"MAX_VALUE\"] = df2.groups\n",
    "    d3[\"EVENT\"] = df2.sum().Y\n",
    "    d3[\"NONEVENT\"] = df2.count().Y - df2.sum().Y     \n",
    "    d3[\"EVENT_RATE\"] = d3.EVENT/d3.sum().EVENT\n",
    "    d3[\"NON_EVENT_RATE\"] = d3.NONEVENT/d3.sum().NONEVENT\n",
    "    d3[\"WOE\"] = np.log(d3.EVENT_RATE/d3.NON_EVENT_RATE)\n",
    "    d3[\"IV\"] = (d3.EVENT_RATE-d3.NON_EVENT_RATE)*np.log(d3.EVENT_RATE/d3.NON_EVENT_RATE)\n",
    "    d3[\"VAR_NAME\"] = \"VAR\"\n",
    "    d3 = d3[['VAR_NAME','MIN_VALUE', 'MAX_VALUE', 'COUNT', 'EVENT', 'EVENT_RATE', 'NONEVENT', 'NON_EVENT_RATE', 'WOE', 'IV']]       \n",
    "    d3 = d3.replace([np.inf, -np.inf], 0)\n",
    "    d3.IV = d3.IV.sum()\n",
    "    d3 = d3.reset_index(drop=True)\n",
    "    \n",
    "    return(d3)\n",
    "\n",
    "def data_vars(df1, target):\n",
    "    \n",
    "    stack = traceback.extract_stack()\n",
    "    filename, lineno, function_name, code = stack[-2]\n",
    "    vars_name = re.compile(r'\\((.*?)\\).*$').search(code).groups()[0]\n",
    "    final = (re.findall(r\"[\\w']+\", vars_name))[-1]\n",
    "    \n",
    "    x = df1.dtypes.index\n",
    "    count = -1\n",
    "    \n",
    "    for i in x:\n",
    "        if i.upper() not in (final.upper()):\n",
    "            if np.issubdtype(df1[i], np.number) and len(Series.unique(df1[i])) > 2:\n",
    "                conv = mono_bin(target, df1[i])\n",
    "                conv[\"VAR_NAME\"] = i\n",
    "                count = count + 1\n",
    "            else:\n",
    "                conv = char_bin(target, df1[i])\n",
    "                conv[\"VAR_NAME\"] = i            \n",
    "                count = count + 1\n",
    "                \n",
    "            if count == 0:\n",
    "                iv_df = conv\n",
    "            else:\n",
    "                iv_df = iv_df.append(conv,ignore_index=True)\n",
    "    \n",
    "    iv = pd.DataFrame({'IV':iv_df.groupby('VAR_NAME').IV.max()})\n",
    "    iv = iv.reset_index()\n",
    "    return(iv_df,iv)"
   ]
  },
  {
   "cell_type": "markdown",
   "metadata": {},
   "source": [
    "#### column stats, such as mean, min, max, median, count, missingrate, skewness, kurtosis, uniquecount"
   ]
  },
  {
   "cell_type": "code",
   "execution_count": 7,
   "metadata": {
    "ExecuteTime": {
     "end_time": "2018-06-30T22:15:06.733135Z",
     "start_time": "2018-06-30T22:15:06.706415Z"
    },
    "collapsed": true
   },
   "outputs": [],
   "source": [
    "def ColumnStats(df, target='TARGET', exclude=[], regression=False, na_values=[]):\n",
    "    cols = list(set(df.columns.values) - set(exclude) - set([target]))\n",
    "    df.replace(0, np.nan, inplace=True)\n",
    "    if na_values:\n",
    "        df_stats = df[cols].describe(percentiles=[0.5]).transpose().reset_index().rename(columns={'index':'columnName', '50%':'median', 'count':'totalCnt'})\n",
    "    else:\n",
    "        df_stats = df[cols].describe(percentiles=[0.5]).transpose().reset_index().rename(columns={'index':'columnName', '50%':'median', 'count':'totalCnt'})\n",
    "    df_stats['missingRate'] = 1.0 - df_stats['totalCnt'] / df.shape[0] \n",
    "    df_stats['skewness'] = df[cols].skew().values\n",
    "    df_stats['kurtosis'] = df[cols].kurtosis().values\n",
    "    df_stats['uniqueCnt'] = df[cols].nunique(dropna=True).values\n",
    "    \n",
    "    if not regression:\n",
    "        final_iv, df_iv = data_vars(df[cols],df[target])\n",
    "        df_iv.rename(columns={'VAR_NAME':'columnName'}, inplace=True)\n",
    "        df_stats = df_stats.merge(df_iv, on='columnName', how='left')\n",
    "    return df_stats"
   ]
  },
  {
   "cell_type": "code",
   "execution_count": 8,
   "metadata": {
    "ExecuteTime": {
     "end_time": "2018-06-30T22:16:17.176216Z",
     "start_time": "2018-06-30T22:15:07.632585Z"
    },
    "collapsed": true
   },
   "outputs": [],
   "source": [
    "df_stats = ColumnStats(pd.concat([train,test]), target='target', exclude=['ID'], regression=True, na_values=[0])"
   ]
  },
  {
   "cell_type": "code",
   "execution_count": 9,
   "metadata": {
    "ExecuteTime": {
     "end_time": "2018-06-30T22:16:21.611207Z",
     "start_time": "2018-06-30T22:16:21.568611Z"
    }
   },
   "outputs": [
    {
     "data": {
      "text/html": [
       "<div>\n",
       "<style>\n",
       "    .dataframe thead tr:only-child th {\n",
       "        text-align: right;\n",
       "    }\n",
       "\n",
       "    .dataframe thead th {\n",
       "        text-align: left;\n",
       "    }\n",
       "\n",
       "    .dataframe tbody tr th {\n",
       "        vertical-align: top;\n",
       "    }\n",
       "</style>\n",
       "<table border=\"1\" class=\"dataframe\">\n",
       "  <thead>\n",
       "    <tr style=\"text-align: right;\">\n",
       "      <th></th>\n",
       "      <th>columnName</th>\n",
       "      <th>totalCnt</th>\n",
       "      <th>mean</th>\n",
       "      <th>std</th>\n",
       "      <th>min</th>\n",
       "      <th>median</th>\n",
       "      <th>max</th>\n",
       "      <th>missingRate</th>\n",
       "      <th>skewness</th>\n",
       "      <th>kurtosis</th>\n",
       "      <th>uniqueCnt</th>\n",
       "    </tr>\n",
       "  </thead>\n",
       "  <tbody>\n",
       "    <tr>\n",
       "      <th>842</th>\n",
       "      <td>f416800e9</td>\n",
       "      <td>162.0</td>\n",
       "      <td>1.838612e+07</td>\n",
       "      <td>3.641569e+07</td>\n",
       "      <td>3387.676294</td>\n",
       "      <td>4.011743e+06</td>\n",
       "      <td>2.138927e+08</td>\n",
       "      <td>0.996989</td>\n",
       "      <td>3.269710</td>\n",
       "      <td>11.482903</td>\n",
       "      <td>161</td>\n",
       "    </tr>\n",
       "    <tr>\n",
       "      <th>4597</th>\n",
       "      <td>5a1183b8c</td>\n",
       "      <td>170.0</td>\n",
       "      <td>1.380166e+07</td>\n",
       "      <td>2.896057e+07</td>\n",
       "      <td>1047.748652</td>\n",
       "      <td>4.113643e+06</td>\n",
       "      <td>2.380439e+08</td>\n",
       "      <td>0.996840</td>\n",
       "      <td>4.494104</td>\n",
       "      <td>25.888488</td>\n",
       "      <td>170</td>\n",
       "    </tr>\n",
       "    <tr>\n",
       "      <th>3424</th>\n",
       "      <td>73a32cd05</td>\n",
       "      <td>171.0</td>\n",
       "      <td>1.749587e+07</td>\n",
       "      <td>3.969564e+07</td>\n",
       "      <td>635.233153</td>\n",
       "      <td>4.669647e+06</td>\n",
       "      <td>3.305519e+08</td>\n",
       "      <td>0.996822</td>\n",
       "      <td>5.105378</td>\n",
       "      <td>32.056128</td>\n",
       "      <td>170</td>\n",
       "    </tr>\n",
       "    <tr>\n",
       "      <th>3417</th>\n",
       "      <td>ac2e428a9</td>\n",
       "      <td>173.0</td>\n",
       "      <td>1.806603e+07</td>\n",
       "      <td>4.210079e+07</td>\n",
       "      <td>340.222678</td>\n",
       "      <td>4.886962e+06</td>\n",
       "      <td>4.088735e+08</td>\n",
       "      <td>0.996784</td>\n",
       "      <td>5.891364</td>\n",
       "      <td>45.935694</td>\n",
       "      <td>173</td>\n",
       "    </tr>\n",
       "    <tr>\n",
       "      <th>3127</th>\n",
       "      <td>770d3a11c</td>\n",
       "      <td>173.0</td>\n",
       "      <td>1.974573e+07</td>\n",
       "      <td>3.841030e+07</td>\n",
       "      <td>963.585502</td>\n",
       "      <td>3.794171e+06</td>\n",
       "      <td>2.909470e+08</td>\n",
       "      <td>0.996784</td>\n",
       "      <td>3.691740</td>\n",
       "      <td>17.879602</td>\n",
       "      <td>173</td>\n",
       "    </tr>\n",
       "    <tr>\n",
       "      <th>419</th>\n",
       "      <td>ae82c2c99</td>\n",
       "      <td>174.0</td>\n",
       "      <td>1.706296e+07</td>\n",
       "      <td>3.878872e+07</td>\n",
       "      <td>209.906123</td>\n",
       "      <td>4.098667e+06</td>\n",
       "      <td>2.884592e+08</td>\n",
       "      <td>0.996766</td>\n",
       "      <td>4.622652</td>\n",
       "      <td>24.765908</td>\n",
       "      <td>174</td>\n",
       "    </tr>\n",
       "    <tr>\n",
       "      <th>3175</th>\n",
       "      <td>d0e4129cb</td>\n",
       "      <td>175.0</td>\n",
       "      <td>1.470622e+07</td>\n",
       "      <td>3.521705e+07</td>\n",
       "      <td>342.226468</td>\n",
       "      <td>3.966839e+06</td>\n",
       "      <td>3.038120e+08</td>\n",
       "      <td>0.996747</td>\n",
       "      <td>5.552527</td>\n",
       "      <td>36.815661</td>\n",
       "      <td>174</td>\n",
       "    </tr>\n",
       "    <tr>\n",
       "      <th>1256</th>\n",
       "      <td>1b6c8debf</td>\n",
       "      <td>176.0</td>\n",
       "      <td>1.487451e+07</td>\n",
       "      <td>3.137502e+07</td>\n",
       "      <td>1011.109223</td>\n",
       "      <td>3.472173e+06</td>\n",
       "      <td>3.059394e+08</td>\n",
       "      <td>0.996729</td>\n",
       "      <td>5.453962</td>\n",
       "      <td>42.964591</td>\n",
       "      <td>173</td>\n",
       "    </tr>\n",
       "    <tr>\n",
       "      <th>4652</th>\n",
       "      <td>969d32625</td>\n",
       "      <td>176.0</td>\n",
       "      <td>2.438392e+07</td>\n",
       "      <td>7.036363e+07</td>\n",
       "      <td>1557.733095</td>\n",
       "      <td>3.943271e+06</td>\n",
       "      <td>5.863988e+08</td>\n",
       "      <td>0.996729</td>\n",
       "      <td>5.479486</td>\n",
       "      <td>33.941188</td>\n",
       "      <td>174</td>\n",
       "    </tr>\n",
       "    <tr>\n",
       "      <th>4919</th>\n",
       "      <td>9c740daca</td>\n",
       "      <td>176.0</td>\n",
       "      <td>1.506838e+07</td>\n",
       "      <td>2.738339e+07</td>\n",
       "      <td>5199.945361</td>\n",
       "      <td>5.457390e+06</td>\n",
       "      <td>2.001947e+08</td>\n",
       "      <td>0.996729</td>\n",
       "      <td>3.676396</td>\n",
       "      <td>16.713897</td>\n",
       "      <td>176</td>\n",
       "    </tr>\n",
       "  </tbody>\n",
       "</table>\n",
       "</div>"
      ],
      "text/plain": [
       "     columnName  totalCnt          mean           std          min  \\\n",
       "842   f416800e9     162.0  1.838612e+07  3.641569e+07  3387.676294   \n",
       "4597  5a1183b8c     170.0  1.380166e+07  2.896057e+07  1047.748652   \n",
       "3424  73a32cd05     171.0  1.749587e+07  3.969564e+07   635.233153   \n",
       "3417  ac2e428a9     173.0  1.806603e+07  4.210079e+07   340.222678   \n",
       "3127  770d3a11c     173.0  1.974573e+07  3.841030e+07   963.585502   \n",
       "419   ae82c2c99     174.0  1.706296e+07  3.878872e+07   209.906123   \n",
       "3175  d0e4129cb     175.0  1.470622e+07  3.521705e+07   342.226468   \n",
       "1256  1b6c8debf     176.0  1.487451e+07  3.137502e+07  1011.109223   \n",
       "4652  969d32625     176.0  2.438392e+07  7.036363e+07  1557.733095   \n",
       "4919  9c740daca     176.0  1.506838e+07  2.738339e+07  5199.945361   \n",
       "\n",
       "            median           max  missingRate  skewness   kurtosis  uniqueCnt  \n",
       "842   4.011743e+06  2.138927e+08     0.996989  3.269710  11.482903        161  \n",
       "4597  4.113643e+06  2.380439e+08     0.996840  4.494104  25.888488        170  \n",
       "3424  4.669647e+06  3.305519e+08     0.996822  5.105378  32.056128        170  \n",
       "3417  4.886962e+06  4.088735e+08     0.996784  5.891364  45.935694        173  \n",
       "3127  3.794171e+06  2.909470e+08     0.996784  3.691740  17.879602        173  \n",
       "419   4.098667e+06  2.884592e+08     0.996766  4.622652  24.765908        174  \n",
       "3175  3.966839e+06  3.038120e+08     0.996747  5.552527  36.815661        174  \n",
       "1256  3.472173e+06  3.059394e+08     0.996729  5.453962  42.964591        173  \n",
       "4652  3.943271e+06  5.863988e+08     0.996729  5.479486  33.941188        174  \n",
       "4919  5.457390e+06  2.001947e+08     0.996729  3.676396  16.713897        176  "
      ]
     },
     "execution_count": 9,
     "metadata": {},
     "output_type": "execute_result"
    }
   ],
   "source": [
    "df_stats[df_stats.uniqueCnt>2].sort_values(by=['missingRate'], ascending=False).head(10)"
   ]
  },
  {
   "cell_type": "markdown",
   "metadata": {},
   "source": [
    "#### Check high missingRate volumn"
   ]
  },
  {
   "cell_type": "code",
   "execution_count": 38,
   "metadata": {
    "ExecuteTime": {
     "end_time": "2018-07-01T00:04:19.053809Z",
     "start_time": "2018-07-01T00:04:18.541593Z"
    }
   },
   "outputs": [
    {
     "data": {
      "image/png": "[encoded data removed]",
      "text/plain": [
       "<Figure size 432x288 with 1 Axes>"
      ]
     },
     "metadata": {},
     "output_type": "display_data"
    }
   ],
   "source": [
    "p = df_stats.missingRate.hist(bins=50)\n",
    "plt.xlabel('missingRate')\n",
    "plt.yscale('log')"
   ]
  },
  {
   "cell_type": "code",
   "execution_count": 19,
   "metadata": {
    "ExecuteTime": {
     "end_time": "2018-06-30T22:22:07.004788Z",
     "start_time": "2018-06-30T22:22:06.999546Z"
    }
   },
   "outputs": [
    {
     "name": "stdout",
     "output_type": "stream",
     "text": [
      "number of high missingRate features : 687\n"
     ]
    }
   ],
   "source": [
    "cols_high_misRate = df_stats.loc[df_stats.missingRate>=0.996, 'columnName'].tolist()\n",
    "print('number of high missingRate features : {}'.format(len(cols_high_misRate)))"
   ]
  },
  {
   "cell_type": "markdown",
   "metadata": {},
   "source": [
    "#### Columns with only constant zero, will be removed from the feature list"
   ]
  },
  {
   "cell_type": "code",
   "execution_count": 25,
   "metadata": {
    "ExecuteTime": {
     "end_time": "2018-06-30T23:42:36.268199Z",
     "start_time": "2018-06-30T23:42:36.263463Z"
    }
   },
   "outputs": [
    {
     "name": "stdout",
     "output_type": "stream",
     "text": [
      "number of constant features : 0\n"
     ]
    }
   ],
   "source": [
    "cols_cnst = df_stats.loc[df_stats.uniqueCnt==1, 'columnName'].tolist()\n",
    "print('number of constant features : {}'.format(len(cols_cnst)))"
   ]
  },
  {
   "cell_type": "markdown",
   "metadata": {},
   "source": [
    "#### Check how many columns are exact duplicates except constant zero columns\n",
    "\n",
    "Although only around half of the \"constant\" features in train also belongs to high missingrate features in col_high_misRate, these features might need to be excluded due to the fact that we cannot learn useful informations from these features."
   ]
  },
  {
   "cell_type": "code",
   "execution_count": 36,
   "metadata": {
    "ExecuteTime": {
     "end_time": "2018-06-30T23:55:04.963413Z",
     "start_time": "2018-06-30T23:54:59.632840Z"
    }
   },
   "outputs": [
    {
     "name": "stdout",
     "output_type": "stream",
     "text": [
      "number of duplicated columns in train set (including constant features : 260\n"
     ]
    }
   ],
   "source": [
    "is_dup_t_f = train.loc[:,~train.columns.isin(cols_cnst)].T.duplicated()\n",
    "cols_dup = train.loc[:,~train.columns.isin(cols_cnst)].columns[is_dup_t_f].tolist()\n",
    "print('number of duplicated columns in train set (including constant features : {}'.format(len(cols_dup)))"
   ]
  },
  {
   "cell_type": "markdown",
   "metadata": {},
   "source": [
    "#### Identify Highly Correlated Features"
   ]
  },
  {
   "cell_type": "code",
   "execution_count": 39,
   "metadata": {
    "ExecuteTime": {
     "end_time": "2018-07-01T00:36:42.278897Z",
     "start_time": "2018-07-01T00:09:23.051720Z"
    },
    "collapsed": true
   },
   "outputs": [],
   "source": [
    "# Create correlation matrix\n",
    "all_df = pd.concat([train.drop(['target'],axis=1), test])\n",
    "corr_matrix = all_df.drop(['ID'], axis=1).corr().abs()\n",
    "\n",
    "# Select upper triangle of correlation matrix\n",
    "upper = corr_matrix.where(np.triu(np.ones(corr_matrix.shape), k=1).astype(np.bool))"
   ]
  },
  {
   "cell_type": "code",
   "execution_count": 40,
   "metadata": {
    "ExecuteTime": {
     "end_time": "2018-07-01T00:36:43.060910Z",
     "start_time": "2018-07-01T00:36:42.283062Z"
    }
   },
   "outputs": [
    {
     "data": {
      "image/png": "[encoded data removed]",
      "text/plain": [
       "<Figure size 432x288 with 1 Axes>"
      ]
     },
     "metadata": {},
     "output_type": "display_data"
    }
   ],
   "source": [
    "upper_array = upper.values.reshape(1,-1)\n",
    "plt.hist(upper_array[~np.isnan(upper_array)], bins=100)\n",
    "plt.yscale('log')\n",
    "plt.xlabel('correlation')\n",
    "plt.ylabel('count')\n",
    "plt.show()"
   ]
  },
  {
   "cell_type": "markdown",
   "metadata": {},
   "source": [
    "Find index of feature columns with correlation greater than 0.99"
   ]
  },
  {
   "cell_type": "code",
   "execution_count": 58,
   "metadata": {
    "ExecuteTime": {
     "end_time": "2018-07-01T00:42:27.838507Z",
     "start_time": "2018-07-01T00:42:26.784895Z"
    }
   },
   "outputs": [
    {
     "name": "stdout",
     "output_type": "stream",
     "text": [
      "features drop due to high correlations : 1\n"
     ]
    }
   ],
   "source": [
    "cols_high_corr = [column for column in upper.columns if any(upper[column] > 0.9)]\n",
    "print('features drop due to high correlations : {}'.format(len(cols_high_corr)))"
   ]
  },
  {
   "cell_type": "markdown",
   "metadata": {},
   "source": [
    "Examine highly correlated row-column pairs"
   ]
  },
  {
   "cell_type": "code",
   "execution_count": 48,
   "metadata": {
    "ExecuteTime": {
     "end_time": "2018-07-01T00:38:46.551888Z",
     "start_time": "2018-07-01T00:38:45.845329Z"
    },
    "collapsed": true
   },
   "outputs": [],
   "source": [
    "to_drop_pairs = pd.DataFrame([(upper.index[i], upper.columns[j], upper.iloc[i,j]) for i, j in np.argwhere(upper.fillna(0).values > 0.9)],\n",
    "                             columns=['row', 'column', 'correlation']).sort_values(by=['correlation'], ascending=False)"
   ]
  },
  {
   "cell_type": "code",
   "execution_count": 49,
   "metadata": {
    "ExecuteTime": {
     "end_time": "2018-07-01T00:38:47.219485Z",
     "start_time": "2018-07-01T00:38:47.211786Z"
    }
   },
   "outputs": [
    {
     "data": {
      "text/html": [
       "<div>\n",
       "<style>\n",
       "    .dataframe thead tr:only-child th {\n",
       "        text-align: right;\n",
       "    }\n",
       "\n",
       "    .dataframe thead th {\n",
       "        text-align: left;\n",
       "    }\n",
       "\n",
       "    .dataframe tbody tr th {\n",
       "        vertical-align: top;\n",
       "    }\n",
       "</style>\n",
       "<table border=\"1\" class=\"dataframe\">\n",
       "  <thead>\n",
       "    <tr style=\"text-align: right;\">\n",
       "      <th></th>\n",
       "      <th>row</th>\n",
       "      <th>column</th>\n",
       "      <th>correlation</th>\n",
       "    </tr>\n",
       "  </thead>\n",
       "  <tbody>\n",
       "    <tr>\n",
       "      <th>0</th>\n",
       "      <td>2f7b3364a</td>\n",
       "      <td>bf8150471</td>\n",
       "      <td>0.933257</td>\n",
       "    </tr>\n",
       "  </tbody>\n",
       "</table>\n",
       "</div>"
      ],
      "text/plain": [
       "         row     column  correlation\n",
       "0  2f7b3364a  bf8150471     0.933257"
      ]
     },
     "execution_count": 49,
     "metadata": {},
     "output_type": "execute_result"
    }
   ],
   "source": [
    "to_drop_pairs.head()"
   ]
  },
  {
   "cell_type": "code",
   "execution_count": 57,
   "metadata": {
    "ExecuteTime": {
     "end_time": "2018-07-01T00:40:03.596593Z",
     "start_time": "2018-07-01T00:40:03.151930Z"
    }
   },
   "outputs": [
    {
     "name": "stdout",
     "output_type": "stream",
     "text": [
      "0 2f7b3364a bf8150471 0.9332572076017851\n"
     ]
    },
    {
     "data": {
      "image/png": "[encoded data removed]",
      "text/plain": [
       "<Figure size 864x288 with 2 Axes>"
      ]
     },
     "metadata": {},
     "output_type": "display_data"
    }
   ],
   "source": [
    "import random\n",
    "ind = random.randint(0, to_drop_pairs.shape[0]-1)\n",
    "row, col, corr = to_drop_pairs.iloc[ind, :]\n",
    "print(ind, row, col, corr)\n",
    "plt.figure(figsize=(12,4))\n",
    "plt.subplot(121, ylabel='feature string')\n",
    "plt.plot(all_df[row], 'o', markerfacecolor='None', markeredgewidth=1, label=row)\n",
    "plt.plot(all_df[col], '^', markerfacecolor='None', markeredgewidth=1, label=col)\n",
    "plt.legend(loc='best')\n",
    "plt.subplot(122, xlabel=row, ylabel=col)\n",
    "plt.plot(all_df[row], all_df[col], '.')\n",
    "plt.show()"
   ]
  },
  {
   "cell_type": "markdown",
   "metadata": {},
   "source": [
    "#### Calculate PSI for train vs test set\n",
    "\n",
    "For description of concept : http://ucanalytics.com/blogs/population-stability-index-psi-banking-case-study/\n",
    "\n",
    "For code implementation : https://github.com/mwburke/population-stability-index"
   ]
  },
  {
   "cell_type": "code",
   "execution_count": 59,
   "metadata": {
    "ExecuteTime": {
     "end_time": "2018-07-01T00:42:53.780441Z",
     "start_time": "2018-07-01T00:42:53.766921Z"
    },
    "collapsed": true
   },
   "outputs": [],
   "source": [
    "from psi import calculate_psi\n",
    "def calc_psi(train_col, test_col, buckettype='quantiles', buckets=20):\n",
    "    uniqueCnt = pd.concat([train_col, test_col]).nunique()\n",
    "    buckets = np.min([uniqueCnt, buckets])\n",
    "    psi = calculate_psi(train_col, test_col, buckettype=buckettype, buckets=buckets, axis=1)\n",
    "    return psi"
   ]
  },
  {
   "cell_type": "code",
   "execution_count": 60,
   "metadata": {
    "ExecuteTime": {
     "end_time": "2018-07-01T00:43:32.033703Z",
     "start_time": "2018-07-01T00:42:54.539118Z"
    },
    "collapsed": true
   },
   "outputs": [],
   "source": [
    "df_stats['PSI'] = df_stats.columnName.apply(lambda x: calc_psi(train[x], test[x]))"
   ]
  },
  {
   "cell_type": "code",
   "execution_count": 61,
   "metadata": {
    "ExecuteTime": {
     "end_time": "2018-07-01T00:43:32.133586Z",
     "start_time": "2018-07-01T00:43:32.035288Z"
    }
   },
   "outputs": [
    {
     "data": {
      "image/png": "[encoded data removed]",
      "text/plain": [
       "<Figure size 432x288 with 1 Axes>"
      ]
     },
     "metadata": {},
     "output_type": "display_data"
    }
   ],
   "source": [
    "cnts, breakpoints = np.histogram(df_stats.PSI, [0, 0.1, 0.25, np.infty])\n",
    "plt.bar(range(len(cnts)), cnts)\n",
    "plt.xticks(range(len(cnts)), ['<0.1', '0.1~0.25', '>0.25'])\n",
    "plt.xlabel('PSI value bins')\n",
    "plt.ylabel('Population')\n",
    "plt.show()"
   ]
  },
  {
   "cell_type": "code",
   "execution_count": 62,
   "metadata": {
    "ExecuteTime": {
     "end_time": "2018-07-01T00:43:32.140699Z",
     "start_time": "2018-07-01T00:43:32.135477Z"
    }
   },
   "outputs": [
    {
     "name": "stdout",
     "output_type": "stream",
     "text": [
      "features drop due to high PSI : 178\n"
     ]
    }
   ],
   "source": [
    "cols_high_psi = df_stats.loc[df_stats.PSI>0.1, 'columnName'].tolist()\n",
    "print('features drop due to high PSI : {}'.format(len(cols_high_psi)))"
   ]
  },
  {
   "cell_type": "markdown",
   "metadata": {},
   "source": [
    "#### Calculate KS (Kolmogorov–Smirnov) for train vs test set"
   ]
  },
  {
   "cell_type": "code",
   "execution_count": 63,
   "metadata": {
    "ExecuteTime": {
     "end_time": "2018-07-01T00:43:32.146537Z",
     "start_time": "2018-07-01T00:43:32.142661Z"
    },
    "collapsed": true
   },
   "outputs": [],
   "source": [
    "from scipy.stats import ks_2samp\n",
    "def calc_ks(train_col, test_col):\n",
    "    ks, pvalue = ks_2samp(train_col.values, test_col.values)\n",
    "    return (ks, pvalue)"
   ]
  },
  {
   "cell_type": "code",
   "execution_count": 64,
   "metadata": {
    "ExecuteTime": {
     "end_time": "2018-07-01T00:43:54.840737Z",
     "start_time": "2018-07-01T00:43:32.148082Z"
    },
    "collapsed": true
   },
   "outputs": [],
   "source": [
    "df_stats[['KS', 'KS_Pvalue']] = pd.DataFrame.from_records(df_stats.columnName.apply(lambda x: calc_ks(train[x], test[x])).tolist())"
   ]
  },
  {
   "cell_type": "code",
   "execution_count": 65,
   "metadata": {
    "ExecuteTime": {
     "end_time": "2018-07-01T00:44:00.635331Z",
     "start_time": "2018-07-01T00:43:54.842805Z"
    }
   },
   "outputs": [
    {
     "name": "stdout",
     "output_type": "stream",
     "text": [
      "number of colmns with high KS : 150\n"
     ]
    },
    {
     "data": {
      "text/html": [
       "<div>\n",
       "<style>\n",
       "    .dataframe thead tr:only-child th {\n",
       "        text-align: right;\n",
       "    }\n",
       "\n",
       "    .dataframe thead th {\n",
       "        text-align: left;\n",
       "    }\n",
       "\n",
       "    .dataframe tbody tr th {\n",
       "        vertical-align: top;\n",
       "    }\n",
       "</style>\n",
       "<table border=\"1\" class=\"dataframe\">\n",
       "  <thead>\n",
       "    <tr style=\"text-align: right;\">\n",
       "      <th></th>\n",
       "      <th>KS</th>\n",
       "      <th>KS_Pvalue</th>\n",
       "      <th>columnName</th>\n",
       "    </tr>\n",
       "  </thead>\n",
       "  <tbody>\n",
       "    <tr>\n",
       "      <th>84</th>\n",
       "      <td>0.27</td>\n",
       "      <td>0.0</td>\n",
       "      <td>0ff32eb98</td>\n",
       "    </tr>\n",
       "    <tr>\n",
       "      <th>64</th>\n",
       "      <td>0.25</td>\n",
       "      <td>0.0</td>\n",
       "      <td>c5a231d81</td>\n",
       "    </tr>\n",
       "    <tr>\n",
       "      <th>33</th>\n",
       "      <td>0.24</td>\n",
       "      <td>0.0</td>\n",
       "      <td>c47340d97</td>\n",
       "    </tr>\n",
       "    <tr>\n",
       "      <th>121</th>\n",
       "      <td>0.24</td>\n",
       "      <td>0.0</td>\n",
       "      <td>adb64ff71</td>\n",
       "    </tr>\n",
       "    <tr>\n",
       "      <th>130</th>\n",
       "      <td>0.23</td>\n",
       "      <td>0.0</td>\n",
       "      <td>190db8488</td>\n",
       "    </tr>\n",
       "  </tbody>\n",
       "</table>\n",
       "</div>"
      ],
      "text/plain": [
       "       KS  KS_Pvalue columnName\n",
       "84   0.27        0.0  0ff32eb98\n",
       "64   0.25        0.0  c5a231d81\n",
       "33   0.24        0.0  c47340d97\n",
       "121  0.24        0.0  adb64ff71\n",
       "130  0.23        0.0  190db8488"
      ]
     },
     "execution_count": 65,
     "metadata": {},
     "output_type": "execute_result"
    }
   ],
   "source": [
    "KS_diff_cols = []\n",
    "for col in df_stats.columnName:\n",
    "    ks_stat = df_stats.loc[df_stats.columnName==col, 'KS'].values[0]\n",
    "    pvalue = df_stats.loc[df_stats.columnName==col, 'KS_Pvalue'].values[0]\n",
    "    if  pvalue <= 0.05 and np.abs(ks_stat) > 0.1:\n",
    "        KS_diff_cols.append({'columnName': col, 'KS': np.round(np.abs(ks_stat), 2), 'KS_Pvalue': np.round(pvalue, 5)})\n",
    "KS_diff_df = pd.DataFrame(KS_diff_cols).sort_values(by='KS', ascending=False)\n",
    "print('number of colmns with high KS : {}'.format(KS_diff_df.shape[0]))\n",
    "KS_diff_df.head()"
   ]
  },
  {
   "cell_type": "markdown",
   "metadata": {},
   "source": [
    "### Summarize to drop features and dump to file"
   ]
  },
  {
   "cell_type": "code",
   "execution_count": 72,
   "metadata": {
    "ExecuteTime": {
     "end_time": "2018-07-01T01:32:12.065448Z",
     "start_time": "2018-07-01T01:32:12.061336Z"
    }
   },
   "outputs": [
    {
     "name": "stdout",
     "output_type": "stream",
     "text": [
      "number of features to drop : 688\n"
     ]
    }
   ],
   "source": [
    "to_drop = list(set(cols_high_misRate) | set(cols_cnst) | set(cols_high_corr))\n",
    "print(\"number of features to drop : {}\".format(len(to_drop)))\n"
   ]
  },
  {
   "cell_type": "code",
   "execution_count": 73,
   "metadata": {
    "ExecuteTime": {
     "end_time": "2018-07-01T01:32:18.701666Z",
     "start_time": "2018-07-01T01:32:18.691530Z"
    },
    "collapsed": true
   },
   "outputs": [],
   "source": [
    "out_file = open('../output/columns/forceremove.column.names', 'w')\n",
    "for var in to_drop:\n",
    "    out_file.write(\"%s\\n\" % var)\n",
    "out_file.close()"
   ]
  },
  {
   "cell_type": "markdown",
   "metadata": {},
   "source": [
    "### Check with Model top variables"
   ]
  },
  {
   "cell_type": "code",
   "execution_count": 71,
   "metadata": {
    "ExecuteTime": {
     "end_time": "2018-07-01T01:10:06.970986Z",
     "start_time": "2018-07-01T01:10:06.946293Z"
    }
   },
   "outputs": [
    {
     "data": {
      "text/html": [
       "<div>\n",
       "<style>\n",
       "    .dataframe thead tr:only-child th {\n",
       "        text-align: right;\n",
       "    }\n",
       "\n",
       "    .dataframe thead th {\n",
       "        text-align: left;\n",
       "    }\n",
       "\n",
       "    .dataframe tbody tr th {\n",
       "        vertical-align: top;\n",
       "    }\n",
       "</style>\n",
       "<table border=\"1\" class=\"dataframe\">\n",
       "  <thead>\n",
       "    <tr style=\"text-align: right;\">\n",
       "      <th></th>\n",
       "      <th>columnName</th>\n",
       "      <th>totalCnt</th>\n",
       "      <th>mean</th>\n",
       "      <th>std</th>\n",
       "      <th>min</th>\n",
       "      <th>median</th>\n",
       "      <th>max</th>\n",
       "      <th>missingRate</th>\n",
       "      <th>skewness</th>\n",
       "      <th>kurtosis</th>\n",
       "      <th>uniqueCnt</th>\n",
       "      <th>PSI</th>\n",
       "      <th>KS</th>\n",
       "      <th>KS_Pvalue</th>\n",
       "    </tr>\n",
       "  </thead>\n",
       "  <tbody>\n",
       "    <tr>\n",
       "      <th>371</th>\n",
       "      <td>eeb9cd3aa</td>\n",
       "      <td>9298.0</td>\n",
       "      <td>9.023746e+06</td>\n",
       "      <td>1.568020e+07</td>\n",
       "      <td>148.100438</td>\n",
       "      <td>3.000000e+06</td>\n",
       "      <td>3.367845e+08</td>\n",
       "      <td>0.827178</td>\n",
       "      <td>5.277508</td>\n",
       "      <td>60.267518</td>\n",
       "      <td>2646</td>\n",
       "      <td>1.598322e-01</td>\n",
       "      <td>0.181475</td>\n",
       "      <td>7.496841e-118</td>\n",
       "    </tr>\n",
       "    <tr>\n",
       "      <th>682</th>\n",
       "      <td>f74e8f13d</td>\n",
       "      <td>8413.0</td>\n",
       "      <td>8.696299e+06</td>\n",
       "      <td>1.491496e+07</td>\n",
       "      <td>51.636933</td>\n",
       "      <td>2.780000e+06</td>\n",
       "      <td>3.779308e+08</td>\n",
       "      <td>0.843627</td>\n",
       "      <td>4.991567</td>\n",
       "      <td>63.459346</td>\n",
       "      <td>2449</td>\n",
       "      <td>1.979558e-01</td>\n",
       "      <td>0.194969</td>\n",
       "      <td>5.791170e-136</td>\n",
       "    </tr>\n",
       "    <tr>\n",
       "      <th>971</th>\n",
       "      <td>b43a7cfd5</td>\n",
       "      <td>8695.0</td>\n",
       "      <td>9.241614e+06</td>\n",
       "      <td>1.600563e+07</td>\n",
       "      <td>501.261062</td>\n",
       "      <td>3.000000e+06</td>\n",
       "      <td>3.436712e+08</td>\n",
       "      <td>0.838386</td>\n",
       "      <td>5.159771</td>\n",
       "      <td>58.623665</td>\n",
       "      <td>2571</td>\n",
       "      <td>1.694327e-01</td>\n",
       "      <td>0.175520</td>\n",
       "      <td>2.855974e-110</td>\n",
       "    </tr>\n",
       "    <tr>\n",
       "      <th>996</th>\n",
       "      <td>491b9ee45</td>\n",
       "      <td>7883.0</td>\n",
       "      <td>9.162406e+06</td>\n",
       "      <td>1.857852e+07</td>\n",
       "      <td>213.676001</td>\n",
       "      <td>2.848000e+06</td>\n",
       "      <td>8.656981e+08</td>\n",
       "      <td>0.853479</td>\n",
       "      <td>15.728182</td>\n",
       "      <td>603.373781</td>\n",
       "      <td>2345</td>\n",
       "      <td>2.309738e-01</td>\n",
       "      <td>0.212741</td>\n",
       "      <td>8.456947e-162</td>\n",
       "    </tr>\n",
       "    <tr>\n",
       "      <th>1070</th>\n",
       "      <td>f190486d6</td>\n",
       "      <td>9595.0</td>\n",
       "      <td>8.705141e+06</td>\n",
       "      <td>1.442387e+07</td>\n",
       "      <td>319.622360</td>\n",
       "      <td>2.906996e+06</td>\n",
       "      <td>3.196120e+08</td>\n",
       "      <td>0.821658</td>\n",
       "      <td>4.248919</td>\n",
       "      <td>40.611344</td>\n",
       "      <td>2718</td>\n",
       "      <td>1.547018e-01</td>\n",
       "      <td>0.183180</td>\n",
       "      <td>4.557184e-120</td>\n",
       "    </tr>\n",
       "    <tr>\n",
       "      <th>1097</th>\n",
       "      <td>fb0f5dbfe</td>\n",
       "      <td>9030.0</td>\n",
       "      <td>8.947227e+06</td>\n",
       "      <td>1.512078e+07</td>\n",
       "      <td>952.430314</td>\n",
       "      <td>3.000000e+06</td>\n",
       "      <td>3.196120e+08</td>\n",
       "      <td>0.832159</td>\n",
       "      <td>4.720525</td>\n",
       "      <td>47.623911</td>\n",
       "      <td>2581</td>\n",
       "      <td>1.657984e-01</td>\n",
       "      <td>0.182628</td>\n",
       "      <td>2.389075e-119</td>\n",
       "    </tr>\n",
       "    <tr>\n",
       "      <th>1217</th>\n",
       "      <td>20aa07010</td>\n",
       "      <td>8958.0</td>\n",
       "      <td>9.025211e+06</td>\n",
       "      <td>1.545493e+07</td>\n",
       "      <td>8.215890</td>\n",
       "      <td>3.000000e+06</td>\n",
       "      <td>3.435658e+08</td>\n",
       "      <td>0.833498</td>\n",
       "      <td>5.605095</td>\n",
       "      <td>76.792672</td>\n",
       "      <td>2595</td>\n",
       "      <td>1.691527e-01</td>\n",
       "      <td>0.183883</td>\n",
       "      <td>5.468869e-121</td>\n",
       "    </tr>\n",
       "    <tr>\n",
       "      <th>1438</th>\n",
       "      <td>1702b5bf0</td>\n",
       "      <td>8734.0</td>\n",
       "      <td>9.135415e+06</td>\n",
       "      <td>1.568652e+07</td>\n",
       "      <td>508.472742</td>\n",
       "      <td>3.000000e+06</td>\n",
       "      <td>3.869182e+08</td>\n",
       "      <td>0.837661</td>\n",
       "      <td>5.357410</td>\n",
       "      <td>69.881101</td>\n",
       "      <td>2553</td>\n",
       "      <td>1.854329e-01</td>\n",
       "      <td>0.189911</td>\n",
       "      <td>5.068695e-129</td>\n",
       "    </tr>\n",
       "    <tr>\n",
       "      <th>2145</th>\n",
       "      <td>c5a231d81</td>\n",
       "      <td>6417.0</td>\n",
       "      <td>8.745982e+06</td>\n",
       "      <td>1.730561e+07</td>\n",
       "      <td>410.254916</td>\n",
       "      <td>2.649000e+06</td>\n",
       "      <td>4.673775e+08</td>\n",
       "      <td>0.880727</td>\n",
       "      <td>8.632352</td>\n",
       "      <td>155.851150</td>\n",
       "      <td>2146</td>\n",
       "      <td>4.155492e-01</td>\n",
       "      <td>0.252702</td>\n",
       "      <td>4.062619e-228</td>\n",
       "    </tr>\n",
       "    <tr>\n",
       "      <th>2560</th>\n",
       "      <td>6eef030c1</td>\n",
       "      <td>9106.0</td>\n",
       "      <td>9.028521e+06</td>\n",
       "      <td>1.559269e+07</td>\n",
       "      <td>261.378184</td>\n",
       "      <td>3.011500e+06</td>\n",
       "      <td>3.433333e+08</td>\n",
       "      <td>0.830747</td>\n",
       "      <td>4.600881</td>\n",
       "      <td>43.655893</td>\n",
       "      <td>2595</td>\n",
       "      <td>1.512744e-01</td>\n",
       "      <td>0.171327</td>\n",
       "      <td>4.375911e-105</td>\n",
       "    </tr>\n",
       "    <tr>\n",
       "      <th>2573</th>\n",
       "      <td>15ace8c9f</td>\n",
       "      <td>9089.0</td>\n",
       "      <td>8.938975e+06</td>\n",
       "      <td>1.553930e+07</td>\n",
       "      <td>454.238985</td>\n",
       "      <td>3.000000e+06</td>\n",
       "      <td>3.196120e+08</td>\n",
       "      <td>0.831063</td>\n",
       "      <td>4.902020</td>\n",
       "      <td>48.994121</td>\n",
       "      <td>2606</td>\n",
       "      <td>1.616948e-01</td>\n",
       "      <td>0.178987</td>\n",
       "      <td>1.182741e-114</td>\n",
       "    </tr>\n",
       "    <tr>\n",
       "      <th>2625</th>\n",
       "      <td>58232a6fb</td>\n",
       "      <td>8686.0</td>\n",
       "      <td>9.135667e+06</td>\n",
       "      <td>1.590526e+07</td>\n",
       "      <td>69.574310</td>\n",
       "      <td>3.000000e+06</td>\n",
       "      <td>3.196120e+08</td>\n",
       "      <td>0.838553</td>\n",
       "      <td>5.058902</td>\n",
       "      <td>51.826262</td>\n",
       "      <td>2543</td>\n",
       "      <td>1.734864e-01</td>\n",
       "      <td>0.187175</td>\n",
       "      <td>2.416232e-125</td>\n",
       "    </tr>\n",
       "    <tr>\n",
       "      <th>2776</th>\n",
       "      <td>58e2e02e6</td>\n",
       "      <td>9317.0</td>\n",
       "      <td>8.959018e+06</td>\n",
       "      <td>1.579623e+07</td>\n",
       "      <td>161.366535</td>\n",
       "      <td>3.000000e+06</td>\n",
       "      <td>3.433333e+08</td>\n",
       "      <td>0.826825</td>\n",
       "      <td>5.417880</td>\n",
       "      <td>62.045512</td>\n",
       "      <td>2622</td>\n",
       "      <td>1.588591e-01</td>\n",
       "      <td>0.181396</td>\n",
       "      <td>9.506992e-118</td>\n",
       "    </tr>\n",
       "    <tr>\n",
       "      <th>2863</th>\n",
       "      <td>64e483341</td>\n",
       "      <td>3011.0</td>\n",
       "      <td>8.543881e+06</td>\n",
       "      <td>1.658716e+07</td>\n",
       "      <td>58.000000</td>\n",
       "      <td>2.706000e+06</td>\n",
       "      <td>1.829280e+08</td>\n",
       "      <td>0.944034</td>\n",
       "      <td>4.288265</td>\n",
       "      <td>24.241422</td>\n",
       "      <td>1429</td>\n",
       "      <td>7.308466e-02</td>\n",
       "      <td>0.085798</td>\n",
       "      <td>1.132379e-26</td>\n",
       "    </tr>\n",
       "    <tr>\n",
       "      <th>3123</th>\n",
       "      <td>9fd594eec</td>\n",
       "      <td>9300.0</td>\n",
       "      <td>9.031229e+06</td>\n",
       "      <td>1.623316e+07</td>\n",
       "      <td>1000.339105</td>\n",
       "      <td>3.000000e+06</td>\n",
       "      <td>3.433333e+08</td>\n",
       "      <td>0.827141</td>\n",
       "      <td>6.192798</td>\n",
       "      <td>81.717460</td>\n",
       "      <td>2640</td>\n",
       "      <td>1.620618e-01</td>\n",
       "      <td>0.183330</td>\n",
       "      <td>2.898010e-120</td>\n",
       "    </tr>\n",
       "    <tr>\n",
       "      <th>3449</th>\n",
       "      <td>f8b733d3f</td>\n",
       "      <td>688.0</td>\n",
       "      <td>5.427082e+06</td>\n",
       "      <td>2.002421e+07</td>\n",
       "      <td>556.348215</td>\n",
       "      <td>7.000000e+05</td>\n",
       "      <td>3.659729e+08</td>\n",
       "      <td>0.987212</td>\n",
       "      <td>11.430108</td>\n",
       "      <td>175.276559</td>\n",
       "      <td>378</td>\n",
       "      <td>1.483055e-07</td>\n",
       "      <td>0.020105</td>\n",
       "      <td>7.241322e-02</td>\n",
       "    </tr>\n",
       "    <tr>\n",
       "      <th>3736</th>\n",
       "      <td>58e056e12</td>\n",
       "      <td>8887.0</td>\n",
       "      <td>9.142585e+06</td>\n",
       "      <td>1.595294e+07</td>\n",
       "      <td>150.787616</td>\n",
       "      <td>3.000000e+06</td>\n",
       "      <td>3.433333e+08</td>\n",
       "      <td>0.834817</td>\n",
       "      <td>5.349590</td>\n",
       "      <td>62.923057</td>\n",
       "      <td>2544</td>\n",
       "      <td>1.653210e-01</td>\n",
       "      <td>0.177762</td>\n",
       "      <td>4.277133e-113</td>\n",
       "    </tr>\n",
       "    <tr>\n",
       "      <th>3970</th>\n",
       "      <td>d6bb78916</td>\n",
       "      <td>8677.0</td>\n",
       "      <td>9.203632e+06</td>\n",
       "      <td>1.986244e+07</td>\n",
       "      <td>1052.867338</td>\n",
       "      <td>3.000000e+06</td>\n",
       "      <td>9.586569e+08</td>\n",
       "      <td>0.838720</td>\n",
       "      <td>18.994164</td>\n",
       "      <td>744.912273</td>\n",
       "      <td>2506</td>\n",
       "      <td>1.685322e-01</td>\n",
       "      <td>0.175620</td>\n",
       "      <td>2.140674e-110</td>\n",
       "    </tr>\n",
       "    <tr>\n",
       "      <th>3985</th>\n",
       "      <td>45f6d00da</td>\n",
       "      <td>3836.0</td>\n",
       "      <td>6.344100e+06</td>\n",
       "      <td>1.386754e+07</td>\n",
       "      <td>798.648218</td>\n",
       "      <td>1.400000e+06</td>\n",
       "      <td>3.117940e+08</td>\n",
       "      <td>0.928700</td>\n",
       "      <td>6.314119</td>\n",
       "      <td>79.845746</td>\n",
       "      <td>1193</td>\n",
       "      <td>5.373737e-02</td>\n",
       "      <td>0.081264</td>\n",
       "      <td>5.685039e-24</td>\n",
       "    </tr>\n",
       "    <tr>\n",
       "      <th>4381</th>\n",
       "      <td>024c577b9</td>\n",
       "      <td>8801.0</td>\n",
       "      <td>9.161488e+06</td>\n",
       "      <td>1.576164e+07</td>\n",
       "      <td>1552.000000</td>\n",
       "      <td>2.900000e+06</td>\n",
       "      <td>3.546716e+08</td>\n",
       "      <td>0.836416</td>\n",
       "      <td>5.181415</td>\n",
       "      <td>63.652303</td>\n",
       "      <td>2529</td>\n",
       "      <td>1.565550e-01</td>\n",
       "      <td>0.166219</td>\n",
       "      <td>6.143073e-99</td>\n",
       "    </tr>\n",
       "  </tbody>\n",
       "</table>\n",
       "</div>"
      ],
      "text/plain": [
       "     columnName  totalCnt          mean           std          min  \\\n",
       "371   eeb9cd3aa    9298.0  9.023746e+06  1.568020e+07   148.100438   \n",
       "682   f74e8f13d    8413.0  8.696299e+06  1.491496e+07    51.636933   \n",
       "971   b43a7cfd5    8695.0  9.241614e+06  1.600563e+07   501.261062   \n",
       "996   491b9ee45    7883.0  9.162406e+06  1.857852e+07   213.676001   \n",
       "1070  f190486d6    9595.0  8.705141e+06  1.442387e+07   319.622360   \n",
       "1097  fb0f5dbfe    9030.0  8.947227e+06  1.512078e+07   952.430314   \n",
       "1217  20aa07010    8958.0  9.025211e+06  1.545493e+07     8.215890   \n",
       "1438  1702b5bf0    8734.0  9.135415e+06  1.568652e+07   508.472742   \n",
       "2145  c5a231d81    6417.0  8.745982e+06  1.730561e+07   410.254916   \n",
       "2560  6eef030c1    9106.0  9.028521e+06  1.559269e+07   261.378184   \n",
       "2573  15ace8c9f    9089.0  8.938975e+06  1.553930e+07   454.238985   \n",
       "2625  58232a6fb    8686.0  9.135667e+06  1.590526e+07    69.574310   \n",
       "2776  58e2e02e6    9317.0  8.959018e+06  1.579623e+07   161.366535   \n",
       "2863  64e483341    3011.0  8.543881e+06  1.658716e+07    58.000000   \n",
       "3123  9fd594eec    9300.0  9.031229e+06  1.623316e+07  1000.339105   \n",
       "3449  f8b733d3f     688.0  5.427082e+06  2.002421e+07   556.348215   \n",
       "3736  58e056e12    8887.0  9.142585e+06  1.595294e+07   150.787616   \n",
       "3970  d6bb78916    8677.0  9.203632e+06  1.986244e+07  1052.867338   \n",
       "3985  45f6d00da    3836.0  6.344100e+06  1.386754e+07   798.648218   \n",
       "4381  024c577b9    8801.0  9.161488e+06  1.576164e+07  1552.000000   \n",
       "\n",
       "            median           max  missingRate   skewness    kurtosis  \\\n",
       "371   3.000000e+06  3.367845e+08     0.827178   5.277508   60.267518   \n",
       "682   2.780000e+06  3.779308e+08     0.843627   4.991567   63.459346   \n",
       "971   3.000000e+06  3.436712e+08     0.838386   5.159771   58.623665   \n",
       "996   2.848000e+06  8.656981e+08     0.853479  15.728182  603.373781   \n",
       "1070  2.906996e+06  3.196120e+08     0.821658   4.248919   40.611344   \n",
       "1097  3.000000e+06  3.196120e+08     0.832159   4.720525   47.623911   \n",
       "1217  3.000000e+06  3.435658e+08     0.833498   5.605095   76.792672   \n",
       "1438  3.000000e+06  3.869182e+08     0.837661   5.357410   69.881101   \n",
       "2145  2.649000e+06  4.673775e+08     0.880727   8.632352  155.851150   \n",
       "2560  3.011500e+06  3.433333e+08     0.830747   4.600881   43.655893   \n",
       "2573  3.000000e+06  3.196120e+08     0.831063   4.902020   48.994121   \n",
       "2625  3.000000e+06  3.196120e+08     0.838553   5.058902   51.826262   \n",
       "2776  3.000000e+06  3.433333e+08     0.826825   5.417880   62.045512   \n",
       "2863  2.706000e+06  1.829280e+08     0.944034   4.288265   24.241422   \n",
       "3123  3.000000e+06  3.433333e+08     0.827141   6.192798   81.717460   \n",
       "3449  7.000000e+05  3.659729e+08     0.987212  11.430108  175.276559   \n",
       "3736  3.000000e+06  3.433333e+08     0.834817   5.349590   62.923057   \n",
       "3970  3.000000e+06  9.586569e+08     0.838720  18.994164  744.912273   \n",
       "3985  1.400000e+06  3.117940e+08     0.928700   6.314119   79.845746   \n",
       "4381  2.900000e+06  3.546716e+08     0.836416   5.181415   63.652303   \n",
       "\n",
       "      uniqueCnt           PSI        KS      KS_Pvalue  \n",
       "371        2646  1.598322e-01  0.181475  7.496841e-118  \n",
       "682        2449  1.979558e-01  0.194969  5.791170e-136  \n",
       "971        2571  1.694327e-01  0.175520  2.855974e-110  \n",
       "996        2345  2.309738e-01  0.212741  8.456947e-162  \n",
       "1070       2718  1.547018e-01  0.183180  4.557184e-120  \n",
       "1097       2581  1.657984e-01  0.182628  2.389075e-119  \n",
       "1217       2595  1.691527e-01  0.183883  5.468869e-121  \n",
       "1438       2553  1.854329e-01  0.189911  5.068695e-129  \n",
       "2145       2146  4.155492e-01  0.252702  4.062619e-228  \n",
       "2560       2595  1.512744e-01  0.171327  4.375911e-105  \n",
       "2573       2606  1.616948e-01  0.178987  1.182741e-114  \n",
       "2625       2543  1.734864e-01  0.187175  2.416232e-125  \n",
       "2776       2622  1.588591e-01  0.181396  9.506992e-118  \n",
       "2863       1429  7.308466e-02  0.085798   1.132379e-26  \n",
       "3123       2640  1.620618e-01  0.183330  2.898010e-120  \n",
       "3449        378  1.483055e-07  0.020105   7.241322e-02  \n",
       "3736       2544  1.653210e-01  0.177762  4.277133e-113  \n",
       "3970       2506  1.685322e-01  0.175620  2.140674e-110  \n",
       "3985       1193  5.373737e-02  0.081264   5.685039e-24  \n",
       "4381       2529  1.565550e-01  0.166219   6.143073e-99  "
      ]
     },
     "execution_count": 71,
     "metadata": {},
     "output_type": "execute_result"
    }
   ],
   "source": [
    "df_stats[df_stats.columnName.isin(['f190486d6', 'eeb9cd3aa', '58e2e02e6', '9fd594eec', '15ace8c9f', 'b43a7cfd5', '491b9ee45', '6eef030c1', '024c577b9', '1702b5bf0', '20aa07010', '58232a6fb', 'f74e8f13d', 'd6bb78916', 'fb0f5dbfe', '58e056e12', 'c5a231d81', '64e483341', '45f6d00da', 'f8b733d3f'])]"
   ]
  },
  {
   "cell_type": "code",
   "execution_count": null,
   "metadata": {
    "collapsed": true
   },
   "outputs": [],
   "source": []
  }
 ],
 "metadata": {
  "kernelspec": {
   "display_name": "Python 3",
   "language": "python",
   "name": "python3"
  },
  "language_info": {
   "codemirror_mode": {
    "name": "ipython",
    "version": 3
   },
   "file_extension": ".py",
   "mimetype": "text/x-python",
   "name": "python",
   "nbconvert_exporter": "python",
   "pygments_lexer": "ipython3",
   "version": "3.6.4"
  },
  "latex_envs": {
   "LaTeX_envs_menu_present": true,
   "autoclose": false,
   "autocomplete": true,
   "bibliofile": "biblio.bib",
   "cite_by": "apalike",
   "current_citInitial": 1,
   "eqLabelWithNumbers": true,
   "eqNumInitial": 1,
   "hotkeys": {
    "equation": "Ctrl-E",
    "itemize": "Ctrl-I"
   },
   "labels_anchors": false,
   "latex_user_defs": false,
   "report_style_numbering": false,
   "user_envs_cfg": false
  },
  "toc": {
   "nav_menu": {},
   "number_sections": true,
   "sideBar": true,
   "skip_h1_title": false,
   "title_cell": "Table of Contents",
   "title_sidebar": "Contents",
   "toc_cell": false,
   "toc_position": {},
   "toc_section_display": true,
   "toc_window_display": false
  }
 },
 "nbformat": 4,
 "nbformat_minor": 2
}
