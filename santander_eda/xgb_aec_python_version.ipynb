{
 "cells": [
  {
   "cell_type": "markdown",
   "metadata": {},
   "source": [
    "## Reimplementation of XGB After Feature Extraction With H2O Auto-Encoder "
   ]
  },
  {
   "cell_type": "code",
   "execution_count": 41,
   "metadata": {
    "ExecuteTime": {
     "end_time": "2018-07-02T02:48:12.084279Z",
     "start_time": "2018-07-02T02:48:12.060913Z"
    },
    "collapsed": true
   },
   "outputs": [],
   "source": [
    "import pandas as pd\n",
    "import numpy as np\n",
    "from sklearn.model_selection import train_test_split\n",
    "from sklearn.preprocessing import minmax_scale\n",
    "import matplotlib.pyplot as plt\n",
    "%matplotlib inline\n",
    "import seaborn as sns\n",
    "sns.set(color_codes=True)\n",
    "import gc\n",
    "import h2o\n",
    "from h2o.estimators.deeplearning import H2OAutoEncoderEstimator"
   ]
  },
  {
   "cell_type": "markdown",
   "metadata": {},
   "source": [
    "### Load Dataset"
   ]
  },
  {
   "cell_type": "code",
   "execution_count": 42,
   "metadata": {
    "ExecuteTime": {
     "end_time": "2018-07-02T02:49:13.449952Z",
     "start_time": "2018-07-02T02:48:15.420119Z"
    }
   },
   "outputs": [
    {
     "name": "stdout",
     "output_type": "stream",
     "text": [
      "train set shape: (4459, 4993)\n",
      "test set shape: (49342, 4992)\n"
     ]
    }
   ],
   "source": [
    "train = pd.read_csv('../input/train.csv')\n",
    "test = pd.read_csv('../input/test.csv')\n",
    "print('train set shape: {}'.format(train.shape))\n",
    "print('test set shape: {}'.format(test.shape))"
   ]
  },
  {
   "cell_type": "code",
   "execution_count": 43,
   "metadata": {
    "ExecuteTime": {
     "end_time": "2018-07-02T02:49:13.504012Z",
     "start_time": "2018-07-02T02:49:13.451542Z"
    },
    "collapsed": true
   },
   "outputs": [],
   "source": [
    "y_train = train.target\n",
    "ids = pd.concat([train.ID, test.ID])"
   ]
  },
  {
   "cell_type": "markdown",
   "metadata": {},
   "source": [
    "#### Remove part of the original features"
   ]
  },
  {
   "cell_type": "code",
   "execution_count": 44,
   "metadata": {
    "ExecuteTime": {
     "end_time": "2018-07-02T02:49:15.836998Z",
     "start_time": "2018-07-02T02:49:13.505456Z"
    },
    "collapsed": true
   },
   "outputs": [],
   "source": [
    "train.drop(['ID', 'target'], axis=1, inplace=True)\n",
    "test.drop(['ID'], axis=1, inplace=True)"
   ]
  },
  {
   "cell_type": "code",
   "execution_count": 20,
   "metadata": {
    "ExecuteTime": {
     "end_time": "2018-07-01T21:10:24.768114Z",
     "start_time": "2018-07-01T21:10:24.314194Z"
    }
   },
   "outputs": [
    {
     "name": "stdout",
     "output_type": "stream",
     "text": [
      "number of constant features : 256\n"
     ]
    }
   ],
   "source": [
    "unique_cnts = train.nunique().reset_index()\n",
    "unique_cnts.columns = ['columnName', 'uniqueCnt']\n",
    "cols_cnst = unique_cnts.loc[unique_cnts.uniqueCnt==1, 'columnName'].tolist()\n",
    "print('number of constant features : {}'.format(len(cols_cnst)))"
   ]
  },
  {
   "cell_type": "code",
   "execution_count": 22,
   "metadata": {
    "ExecuteTime": {
     "end_time": "2018-07-01T21:12:04.316069Z",
     "start_time": "2018-07-01T21:12:02.951424Z"
    }
   },
   "outputs": [
    {
     "name": "stdout",
     "output_type": "stream",
     "text": [
      "number of duplicated columns in train set excluding constant features : 5\n"
     ]
    }
   ],
   "source": [
    "is_dup_t_f = train.loc[:,~train.columns.isin(cols_cnst)].T.duplicated()\n",
    "cols_dup = train.loc[:,~train.columns.isin(cols_cnst)].columns[is_dup_t_f].tolist()\n",
    "print('number of duplicated columns in train set excluding constant features : {}'.format(len(cols_dup)))"
   ]
  },
  {
   "cell_type": "code",
   "execution_count": 25,
   "metadata": {
    "ExecuteTime": {
     "end_time": "2018-07-01T22:01:29.230158Z",
     "start_time": "2018-07-01T21:25:07.686451Z"
    }
   },
   "outputs": [
    {
     "name": "stdout",
     "output_type": "stream",
     "text": [
      "features drop due to high correlations : 40\n"
     ]
    }
   ],
   "source": [
    "corr_matrix = train.loc[:,~train.columns.isin(cols_cnst+cols_dup)].corr(method='spearman').abs()\n",
    "# Select upper triangle of correlation matrix\n",
    "upper = corr_matrix.where(np.triu(np.ones(corr_matrix.shape), k=1).astype(np.bool))\n",
    "cols_corr = [column for column in upper.columns if any(upper[column] > 0.98)]\n",
    "print('features drop due to high correlations : {}'.format(len(cols_corr)))"
   ]
  },
  {
   "cell_type": "code",
   "execution_count": 45,
   "metadata": {
    "ExecuteTime": {
     "end_time": "2018-07-02T02:49:40.565434Z",
     "start_time": "2018-07-02T02:49:15.838947Z"
    }
   },
   "outputs": [
    {
     "name": "stdout",
     "output_type": "stream",
     "text": [
      "stacked dataframe shape : (53801, 4690)\n"
     ]
    }
   ],
   "source": [
    "df_all = pd.concat([train, test], axis=0)\n",
    "del [train, test]\n",
    "gc.collect()\n",
    "df_all.drop(cols_cnst+cols_dup+cols_corr, axis=1, inplace=True)\n",
    "print('stacked dataframe shape : {}'.format(df_all.shape))"
   ]
  },
  {
   "cell_type": "markdown",
   "metadata": {},
   "source": [
    "#### Feature normalizatino : log1p and minmax transform"
   ]
  },
  {
   "cell_type": "code",
   "execution_count": 33,
   "metadata": {
    "ExecuteTime": {
     "end_time": "2018-07-02T02:13:28.533635Z",
     "start_time": "2018-07-02T02:13:19.201381Z"
    },
    "collapsed": true
   },
   "outputs": [],
   "source": [
    "df_all = np.log1p(df_all)\n",
    "df_all = minmax_scale(df_all, axis = 0)"
   ]
  },
  {
   "cell_type": "markdown",
   "metadata": {},
   "source": [
    "#### Train-Test Split"
   ]
  },
  {
   "cell_type": "code",
   "execution_count": 46,
   "metadata": {
    "ExecuteTime": {
     "end_time": "2018-07-02T02:49:42.447000Z",
     "start_time": "2018-07-02T02:49:40.567222Z"
    },
    "collapsed": true
   },
   "outputs": [],
   "source": [
    "x_tr, x_te = train_test_split(df_all, test_size=0.2, random_state=8668)"
   ]
  },
  {
   "cell_type": "markdown",
   "metadata": {},
   "source": [
    "### Train Auto-Encoder with h2o"
   ]
  },
  {
   "cell_type": "code",
   "execution_count": 48,
   "metadata": {
    "ExecuteTime": {
     "end_time": "2018-07-02T02:49:56.797471Z",
     "start_time": "2018-07-02T02:49:51.930625Z"
    }
   },
   "outputs": [
    {
     "name": "stdout",
     "output_type": "stream",
     "text": [
      "Checking whether there is an H2O instance running at http://localhost:54321..... not found.\n",
      "Attempting to start a local H2O server...\n",
      "  Java Version: java version \"1.8.0_162\"; Java(TM) SE Runtime Environment (build 1.8.0_162-b12); Java HotSpot(TM) 64-Bit Server VM (build 25.162-b12, mixed mode)\n",
      "  Starting server from /Users/weixu1/anaconda3/lib/python3.6/site-packages/h2o/backend/bin/h2o.jar\n",
      "  Ice root: /var/folders/hs/84cnr0797g76c094s5594s103kgn2m/T/tmpx2772qq9\n",
      "  JVM stdout: /var/folders/hs/84cnr0797g76c094s5594s103kgn2m/T/tmpx2772qq9/h2o_weixu1_started_from_python.out\n",
      "  JVM stderr: /var/folders/hs/84cnr0797g76c094s5594s103kgn2m/T/tmpx2772qq9/h2o_weixu1_started_from_python.err\n",
      "  Server is running at http://127.0.0.1:54321\n",
      "Connecting to H2O server at http://127.0.0.1:54321... successful.\n",
      "Warning: Your H2O cluster version is too old (5 months and 15 days)! Please download and install the latest version from http://h2o.ai/download/\n"
     ]
    },
    {
     "data": {
      "text/html": [
       "<div style=\"overflow:auto\"><table style=\"width:50%\"><tr><td>H2O cluster uptime:</td>\n",
       "<td>02 secs</td></tr>\n",
       "<tr><td>H2O cluster version:</td>\n",
       "<td>3.16.0.4</td></tr>\n",
       "<tr><td>H2O cluster version age:</td>\n",
       "<td>5 months and 15 days !!!</td></tr>\n",
       "<tr><td>H2O cluster name:</td>\n",
       "<td>H2O_from_python_weixu1_ca8nc1</td></tr>\n",
       "<tr><td>H2O cluster total nodes:</td>\n",
       "<td>1</td></tr>\n",
       "<tr><td>H2O cluster free memory:</td>\n",
       "<td>3.556 Gb</td></tr>\n",
       "<tr><td>H2O cluster total cores:</td>\n",
       "<td>8</td></tr>\n",
       "<tr><td>H2O cluster allowed cores:</td>\n",
       "<td>8</td></tr>\n",
       "<tr><td>H2O cluster status:</td>\n",
       "<td>accepting new members, healthy</td></tr>\n",
       "<tr><td>H2O connection url:</td>\n",
       "<td>http://127.0.0.1:54321</td></tr>\n",
       "<tr><td>H2O connection proxy:</td>\n",
       "<td>None</td></tr>\n",
       "<tr><td>H2O internal security:</td>\n",
       "<td>False</td></tr>\n",
       "<tr><td>H2O API Extensions:</td>\n",
       "<td>XGBoost, Algos, AutoML, Core V3, Core V4</td></tr>\n",
       "<tr><td>Python version:</td>\n",
       "<td>3.6.4 final</td></tr></table></div>"
      ],
      "text/plain": [
       "--------------------------  ----------------------------------------\n",
       "H2O cluster uptime:         02 secs\n",
       "H2O cluster version:        3.16.0.4\n",
       "H2O cluster version age:    5 months and 15 days !!!\n",
       "H2O cluster name:           H2O_from_python_weixu1_ca8nc1\n",
       "H2O cluster total nodes:    1\n",
       "H2O cluster free memory:    3.556 Gb\n",
       "H2O cluster total cores:    8\n",
       "H2O cluster allowed cores:  8\n",
       "H2O cluster status:         accepting new members, healthy\n",
       "H2O connection url:         http://127.0.0.1:54321\n",
       "H2O connection proxy:\n",
       "H2O internal security:      False\n",
       "H2O API Extensions:         XGBoost, Algos, AutoML, Core V3, Core V4\n",
       "Python version:             3.6.4 final\n",
       "--------------------------  ----------------------------------------"
      ]
     },
     "metadata": {},
     "output_type": "display_data"
    }
   ],
   "source": [
    "h2o.init(nthreads=-1, enable_assertions = False)"
   ]
  },
  {
   "cell_type": "markdown",
   "metadata": {},
   "source": [
    "#### Load data to h2o"
   ]
  },
  {
   "cell_type": "code",
   "execution_count": 49,
   "metadata": {
    "ExecuteTime": {
     "end_time": "2018-07-02T02:52:01.737620Z",
     "start_time": "2018-07-02T02:49:57.075594Z"
    }
   },
   "outputs": [
    {
     "name": "stdout",
     "output_type": "stream",
     "text": [
      "Parse progress: |████████████████████████████████████████████████████████████| 100%\n",
      "Parse progress: |█████████████████████████████████████████████████████████| 100%\n"
     ]
    }
   ],
   "source": [
    "x_tr_h2o = h2o.H2OFrame(x_tr)\n",
    "x_te_h2o = h2o.H2OFrame(x_te)"
   ]
  },
  {
   "cell_type": "markdown",
   "metadata": {},
   "source": [
    "#### setup and train h2o model"
   ]
  },
  {
   "cell_type": "code",
   "execution_count": 54,
   "metadata": {
    "ExecuteTime": {
     "end_time": "2018-07-02T03:04:43.089586Z",
     "start_time": "2018-07-02T03:04:43.079030Z"
    },
    "code_folding": [],
    "collapsed": true
   },
   "outputs": [],
   "source": [
    "encoding_dim = 20\n",
    "m_aec = H2OAutoEncoderEstimator(activation = \"tanh\",\n",
    "                                autoencoder = True,\n",
    "                                hidden = [128, encoding_dim, 128],\n",
    "                                sparse = True,\n",
    "                                reproducible = True,\n",
    "                                max_w2 = 5.0,\n",
    "                                epochs = 10,\n",
    "                                seed = 0)"
   ]
  },
  {
   "cell_type": "code",
   "execution_count": null,
   "metadata": {
    "ExecuteTime": {
     "start_time": "2018-07-02T03:04:43.865Z"
    }
   },
   "outputs": [
    {
     "name": "stdout",
     "output_type": "stream",
     "text": [
      "deeplearning Model Build progress: |██████████████████████████████████████"
     ]
    }
   ],
   "source": [
    "m_aec.train(x = list(range(x_tr.shape[1])),\n",
    "            training_frame = x_tr_h2o,\n",
    "            validation_frame = x_te_h2o,\n",
    "            verbose=False)"
   ]
  },
  {
   "cell_type": "code",
   "execution_count": null,
   "metadata": {
    "ExecuteTime": {
     "start_time": "2018-07-02T03:04:46.672Z"
    }
   },
   "outputs": [],
   "source": [
    "m_aec.score_history()"
   ]
  },
  {
   "cell_type": "code",
   "execution_count": 47,
   "metadata": {
    "ExecuteTime": {
     "end_time": "2018-07-02T02:49:42.696764Z",
     "start_time": "2018-07-02T02:49:42.448770Z"
    }
   },
   "outputs": [
    {
     "name": "stdout",
     "output_type": "stream",
     "text": [
      "H2O session _sid_a330 closed.\n"
     ]
    }
   ],
   "source": [
    "h2o.cluster().shutdown()"
   ]
  },
  {
   "cell_type": "code",
   "execution_count": null,
   "metadata": {
    "collapsed": true
   },
   "outputs": [],
   "source": []
  }
 ],
 "metadata": {
  "kernelspec": {
   "display_name": "Python 3",
   "language": "python",
   "name": "python3"
  },
  "language_info": {
   "codemirror_mode": {
    "name": "ipython",
    "version": 3
   },
   "file_extension": ".py",
   "mimetype": "text/x-python",
   "name": "python",
   "nbconvert_exporter": "python",
   "pygments_lexer": "ipython3",
   "version": "3.6.4"
  },
  "latex_envs": {
   "LaTeX_envs_menu_present": true,
   "autoclose": false,
   "autocomplete": true,
   "bibliofile": "biblio.bib",
   "cite_by": "apalike",
   "current_citInitial": 1,
   "eqLabelWithNumbers": true,
   "eqNumInitial": 1,
   "hotkeys": {
    "equation": "Ctrl-E",
    "itemize": "Ctrl-I"
   },
   "labels_anchors": false,
   "latex_user_defs": false,
   "report_style_numbering": false,
   "user_envs_cfg": false
  },
  "toc": {
   "nav_menu": {},
   "number_sections": true,
   "sideBar": true,
   "skip_h1_title": false,
   "title_cell": "Table of Contents",
   "title_sidebar": "Contents",
   "toc_cell": false,
   "toc_position": {},
   "toc_section_display": true,
   "toc_window_display": false
  }
 },
 "nbformat": 4,
 "nbformat_minor": 2
}
