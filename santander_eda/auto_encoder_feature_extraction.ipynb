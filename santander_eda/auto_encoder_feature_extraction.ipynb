{
 "cells": [
  {
   "cell_type": "markdown",
   "metadata": {},
   "source": [
    "## This kernel try to train an Auto-Encoder to extract important features from the dataset"
   ]
  },
  {
   "cell_type": "code",
   "execution_count": 66,
   "metadata": {
    "ExecuteTime": {
     "end_time": "2018-07-01T18:53:24.095042Z",
     "start_time": "2018-07-01T18:53:24.068363Z"
    }
   },
   "outputs": [],
   "source": [
    "import pandas as pd\n",
    "import numpy as np\n",
    "import pickle\n",
    "import gc\n",
    "from scipy import stats\n",
    "import tensorflow as tf\n",
    "from pylab import rcParams\n",
    "from sklearn.model_selection import train_test_split\n",
    "from sklearn.preprocessing import minmax_scale\n",
    "from keras.models import Model, load_model\n",
    "from keras.layers import Input, Dense\n",
    "from keras.callbacks import ModelCheckpoint, TensorBoard\n",
    "from keras import regularizers\n",
    "import matplotlib.pyplot as plt\n",
    "%matplotlib inline\n",
    "import seaborn as sns\n",
    "sns.set(color_codes=True)"
   ]
  },
  {
   "cell_type": "code",
   "execution_count": 34,
   "metadata": {
    "ExecuteTime": {
     "end_time": "2018-07-01T17:48:25.991286Z",
     "start_time": "2018-07-01T17:48:25.980699Z"
    }
   },
   "outputs": [
    {
     "name": "stdout",
     "output_type": "stream",
     "text": [
      "number of features removed: 688\n"
     ]
    }
   ],
   "source": [
    "rmv_names_path = '../output/columns/forceremove.column.names'\n",
    "rmv_names = list(line.strip() for line in open(rmv_names_path, 'r'))\n",
    "print('number of features removed: {}'.format(len(rmv_names)))"
   ]
  },
  {
   "cell_type": "code",
   "execution_count": 35,
   "metadata": {
    "ExecuteTime": {
     "end_time": "2018-07-01T17:49:20.742086Z",
     "start_time": "2018-07-01T17:48:27.005552Z"
    }
   },
   "outputs": [
    {
     "name": "stdout",
     "output_type": "stream",
     "text": [
      "train set shape: (4459, 4993)\n",
      "test set shape: (49342, 4992)\n"
     ]
    }
   ],
   "source": [
    "train = pd.read_csv('../input/train.csv')\n",
    "test = pd.read_csv('../input/test.csv')\n",
    "print('train set shape: {}'.format(train.shape))\n",
    "print('test set shape: {}'.format(test.shape))"
   ]
  },
  {
   "cell_type": "code",
   "execution_count": 36,
   "metadata": {
    "ExecuteTime": {
     "end_time": "2018-07-01T17:49:20.754634Z",
     "start_time": "2018-07-01T17:49:20.743831Z"
    },
    "collapsed": true
   },
   "outputs": [],
   "source": [
    "y_train = train.target\n",
    "ids = pd.concat([train.ID, test.ID])"
   ]
  },
  {
   "cell_type": "code",
   "execution_count": 37,
   "metadata": {
    "ExecuteTime": {
     "end_time": "2018-07-01T17:49:23.637642Z",
     "start_time": "2018-07-01T17:49:20.756378Z"
    }
   },
   "outputs": [
    {
     "name": "stdout",
     "output_type": "stream",
     "text": [
      "stacked dataframe shape : (53801, 4303)\n"
     ]
    }
   ],
   "source": [
    "train.drop(['ID', 'target'] + rmv_names, axis=1, inplace=True)\n",
    "test.drop(['ID'] + rmv_names, axis=1, inplace=True)\n",
    "df_all = pd.concat([train, test], axis=0)\n",
    "del [train, test]\n",
    "gc.collect()\n",
    "print('stacked dataframe shape : {}'.format(df_all.shape))"
   ]
  },
  {
   "cell_type": "markdown",
   "metadata": {},
   "source": [
    "### Further drop some features with high missing rate"
   ]
  },
  {
   "cell_type": "code",
   "execution_count": 38,
   "metadata": {
    "ExecuteTime": {
     "end_time": "2018-07-01T17:49:23.643182Z",
     "start_time": "2018-07-01T17:49:23.639669Z"
    },
    "collapsed": true
   },
   "outputs": [],
   "source": [
    "def missingRate(pd_series, na_values=[np.nan]):\n",
    "    return np.sum(pd_series.isin(na_values)) / pd_series.shape[0]"
   ]
  },
  {
   "cell_type": "code",
   "execution_count": 39,
   "metadata": {
    "ExecuteTime": {
     "end_time": "2018-07-01T17:49:42.091430Z",
     "start_time": "2018-07-01T17:49:23.644965Z"
    }
   },
   "outputs": [],
   "source": [
    "misrate = pd.DataFrame(df_all.columns).apply(lambda x: missingRate(df_all[x], na_values=[0])).reset_index()\n",
    "misrate.columns = ['columnName', 'missingRate']"
   ]
  },
  {
   "cell_type": "code",
   "execution_count": 42,
   "metadata": {
    "ExecuteTime": {
     "end_time": "2018-07-01T17:55:29.477313Z",
     "start_time": "2018-07-01T17:55:29.473686Z"
    }
   },
   "outputs": [],
   "source": [
    "cols_high_misrate = misrate.loc[misrate.missingRate>0.97, 'columnName'].tolist()"
   ]
  },
  {
   "cell_type": "code",
   "execution_count": 43,
   "metadata": {
    "ExecuteTime": {
     "end_time": "2018-07-01T17:55:30.600817Z",
     "start_time": "2018-07-01T17:55:30.356002Z"
    }
   },
   "outputs": [
    {
     "name": "stdout",
     "output_type": "stream",
     "text": [
      "stacked dataframe shape after drop high missing rate features : (53801, 528)\n"
     ]
    }
   ],
   "source": [
    "df_all.drop(cols_high_misrate, axis=1, inplace=True)\n",
    "print('stacked dataframe shape after drop high missing rate features : {}'.format(df_all.shape))"
   ]
  },
  {
   "cell_type": "markdown",
   "metadata": {},
   "source": [
    "### Log Transformation of the dataset and Min-Max Transformatin"
   ]
  },
  {
   "cell_type": "code",
   "execution_count": 44,
   "metadata": {
    "ExecuteTime": {
     "end_time": "2018-07-01T17:55:33.509536Z",
     "start_time": "2018-07-01T17:55:33.282384Z"
    },
    "collapsed": true
   },
   "outputs": [],
   "source": [
    "df_all = np.log1p(df_all)"
   ]
  },
  {
   "cell_type": "code",
   "execution_count": 67,
   "metadata": {
    "ExecuteTime": {
     "end_time": "2018-07-01T18:53:56.990637Z",
     "start_time": "2018-07-01T18:53:56.326867Z"
    },
    "collapsed": true
   },
   "outputs": [],
   "source": [
    "df_all = minmax_scale(df_all, axis = 0)"
   ]
  },
  {
   "cell_type": "markdown",
   "metadata": {},
   "source": [
    "### Train-Validation split"
   ]
  },
  {
   "cell_type": "code",
   "execution_count": 74,
   "metadata": {
    "ExecuteTime": {
     "end_time": "2018-07-01T18:55:04.061601Z",
     "start_time": "2018-07-01T18:55:03.353924Z"
    },
    "collapsed": true
   },
   "outputs": [],
   "source": [
    "x_tr, x_te = train_test_split(df_all, test_size=0.2, random_state=8668)"
   ]
  },
  {
   "cell_type": "markdown",
   "metadata": {},
   "source": [
    "### Train Auto-Encoder\n",
    "\n",
    "We try to minimize the least square as the reconstruction error\n",
    "\n",
    "#### keras auto-encoder"
   ]
  },
  {
   "cell_type": "code",
   "execution_count": 75,
   "metadata": {
    "ExecuteTime": {
     "end_time": "2018-07-01T18:55:06.657885Z",
     "start_time": "2018-07-01T18:55:06.655315Z"
    },
    "collapsed": true
   },
   "outputs": [],
   "source": [
    "input_dim = x_tr.shape[1]\n",
    "encoding_dim = 10"
   ]
  },
  {
   "cell_type": "code",
   "execution_count": 78,
   "metadata": {
    "ExecuteTime": {
     "end_time": "2018-07-01T19:31:23.699854Z",
     "start_time": "2018-07-01T19:31:23.620705Z"
    }
   },
   "outputs": [
    {
     "name": "stdout",
     "output_type": "stream",
     "text": [
      "_________________________________________________________________\n",
      "Layer (type)                 Output Shape              Param #   \n",
      "=================================================================\n",
      "input_13 (InputLayer)        (None, 528)               0         \n",
      "_________________________________________________________________\n",
      "dense_61 (Dense)             (None, 264)               139656    \n",
      "_________________________________________________________________\n",
      "dense_62 (Dense)             (None, 52)                13780     \n",
      "_________________________________________________________________\n",
      "dense_63 (Dense)             (None, 10)                530       \n",
      "_________________________________________________________________\n",
      "dense_64 (Dense)             (None, 52)                572       \n",
      "_________________________________________________________________\n",
      "dense_65 (Dense)             (None, 264)               13992     \n",
      "_________________________________________________________________\n",
      "dense_66 (Dense)             (None, 528)               139920    \n",
      "=================================================================\n",
      "Total params: 308,450\n",
      "Trainable params: 308,450\n",
      "Non-trainable params: 0\n",
      "_________________________________________________________________\n"
     ]
    }
   ],
   "source": [
    "input_layer = Input(shape=(input_dim, ))\n",
    "\n",
    "# encoder\n",
    "encoder = Dense(int(input_dim/2), activation=\"tanh\")(input_layer)\n",
    "encoder = Dense(int(input_dim/10), activation=\"tanh\")(encoder)\n",
    "encoder = Dense(encoding_dim, activation=\"sigmoid\")(encoder)\n",
    "\n",
    "# decoder\n",
    "decoder = Dense(int(input_dim/10), activation='tanh')(encoder)\n",
    "decoder = Dense(int(input_dim/2), activation='tanh')(decoder)\n",
    "decoder = Dense(input_dim, activation='sigmoid')(decoder)\n",
    "\n",
    "autoencoder = Model(inputs=input_layer, outputs=decoder)\n",
    "autoencoder.summary()"
   ]
  },
  {
   "cell_type": "code",
   "execution_count": 79,
   "metadata": {
    "ExecuteTime": {
     "end_time": "2018-07-01T19:32:29.462048Z",
     "start_time": "2018-07-01T19:31:24.325085Z"
    }
   },
   "outputs": [
    {
     "name": "stdout",
     "output_type": "stream",
     "text": [
      "Train on 43040 samples, validate on 10761 samples\n",
      "Epoch 1/10\n",
      "43040/43040 [==============================] - 7s 151us/step - loss: 0.0276 - acc: 0.0087 - val_loss: 0.0251 - val_acc: 0.0040\n",
      "Epoch 2/10\n",
      "43040/43040 [==============================] - 6s 143us/step - loss: 0.0247 - acc: 0.0048 - val_loss: 0.0244 - val_acc: 0.0045\n",
      "Epoch 3/10\n",
      "43040/43040 [==============================] - 7s 152us/step - loss: 0.0238 - acc: 0.0111 - val_loss: 0.0235 - val_acc: 0.0044\n",
      "Epoch 4/10\n",
      "43040/43040 [==============================] - 6s 143us/step - loss: 0.0233 - acc: 0.0090 - val_loss: 0.0234 - val_acc: 0.0081\n",
      "Epoch 5/10\n",
      "43040/43040 [==============================] - 6s 145us/step - loss: 0.0229 - acc: 0.0112 - val_loss: 0.0228 - val_acc: 0.0114\n",
      "Epoch 6/10\n",
      "43040/43040 [==============================] - 6s 144us/step - loss: 0.0226 - acc: 0.0120 - val_loss: 0.0226 - val_acc: 0.0104\n",
      "Epoch 7/10\n",
      "43040/43040 [==============================] - 6s 146us/step - loss: 0.0225 - acc: 0.0131 - val_loss: 0.0225 - val_acc: 0.0126\n",
      "Epoch 8/10\n",
      "43040/43040 [==============================] - 6s 143us/step - loss: 0.0224 - acc: 0.0162 - val_loss: 0.0225 - val_acc: 0.0155\n",
      "Epoch 9/10\n",
      "43040/43040 [==============================] - 6s 144us/step - loss: 0.0224 - acc: 0.0177 - val_loss: 0.0224 - val_acc: 0.0190\n",
      "Epoch 10/10\n",
      "43040/43040 [==============================] - 6s 145us/step - loss: 0.0223 - acc: 0.0235 - val_loss: 0.0222 - val_acc: 0.0266\n"
     ]
    }
   ],
   "source": [
    "nb_epoch = 10\n",
    "batch_size = 32\n",
    "autoencoder.compile(optimizer='adam', loss='mean_squared_error', metrics=['accuracy'])\n",
    "checkpointer = ModelCheckpoint(filepath=\"model.h5\", verbose=0, save_best_only=True)\n",
    "tensorboard = TensorBoard(log_dir='./logs', histogram_freq=0, write_graph=True, write_images=True)\n",
    "history = autoencoder.fit(x_tr, x_tr,\n",
    "                    epochs=nb_epoch,\n",
    "                    batch_size=batch_size,\n",
    "                    shuffle=True,\n",
    "                    validation_data=(x_te, x_te),\n",
    "                    verbose=1,\n",
    "                    callbacks=[checkpointer, tensorboard]).history"
   ]
  },
  {
   "cell_type": "markdown",
   "metadata": {},
   "source": [
    "#### h2o deeplearning module with auto-encoder"
   ]
  },
  {
   "cell_type": "code",
   "execution_count": 80,
   "metadata": {
    "ExecuteTime": {
     "end_time": "2018-07-01T20:17:41.686437Z",
     "start_time": "2018-07-01T20:17:37.164399Z"
    }
   },
   "outputs": [
    {
     "name": "stdout",
     "output_type": "stream",
     "text": [
      "Checking whether there is an H2O instance running at http://localhost:54321..... not found.\n",
      "Attempting to start a local H2O server...\n",
      "  Java Version: java version \"1.8.0_162\"; Java(TM) SE Runtime Environment (build 1.8.0_162-b12); Java HotSpot(TM) 64-Bit Server VM (build 25.162-b12, mixed mode)\n",
      "  Starting server from /Users/weixu1/anaconda3/lib/python3.6/site-packages/h2o/backend/bin/h2o.jar\n",
      "  Ice root: /var/folders/hs/84cnr0797g76c094s5594s103kgn2m/T/tmpf8ndoo2w\n",
      "  JVM stdout: /var/folders/hs/84cnr0797g76c094s5594s103kgn2m/T/tmpf8ndoo2w/h2o_weixu1_started_from_python.out\n",
      "  JVM stderr: /var/folders/hs/84cnr0797g76c094s5594s103kgn2m/T/tmpf8ndoo2w/h2o_weixu1_started_from_python.err\n",
      "  Server is running at http://127.0.0.1:54321\n",
      "Connecting to H2O server at http://127.0.0.1:54321... successful.\n",
      "Warning: Your H2O cluster version is too old (5 months and 15 days)! Please download and install the latest version from http://h2o.ai/download/\n"
     ]
    },
    {
     "data": {
      "text/html": [
       "<div style=\"overflow:auto\"><table style=\"width:50%\"><tr><td>H2O cluster uptime:</td>\n",
       "<td>02 secs</td></tr>\n",
       "<tr><td>H2O cluster version:</td>\n",
       "<td>3.16.0.4</td></tr>\n",
       "<tr><td>H2O cluster version age:</td>\n",
       "<td>5 months and 15 days !!!</td></tr>\n",
       "<tr><td>H2O cluster name:</td>\n",
       "<td>H2O_from_python_weixu1_zspwhf</td></tr>\n",
       "<tr><td>H2O cluster total nodes:</td>\n",
       "<td>1</td></tr>\n",
       "<tr><td>H2O cluster free memory:</td>\n",
       "<td>3.556 Gb</td></tr>\n",
       "<tr><td>H2O cluster total cores:</td>\n",
       "<td>8</td></tr>\n",
       "<tr><td>H2O cluster allowed cores:</td>\n",
       "<td>8</td></tr>\n",
       "<tr><td>H2O cluster status:</td>\n",
       "<td>accepting new members, healthy</td></tr>\n",
       "<tr><td>H2O connection url:</td>\n",
       "<td>http://127.0.0.1:54321</td></tr>\n",
       "<tr><td>H2O connection proxy:</td>\n",
       "<td>None</td></tr>\n",
       "<tr><td>H2O internal security:</td>\n",
       "<td>False</td></tr>\n",
       "<tr><td>H2O API Extensions:</td>\n",
       "<td>XGBoost, Algos, AutoML, Core V3, Core V4</td></tr>\n",
       "<tr><td>Python version:</td>\n",
       "<td>3.6.4 final</td></tr></table></div>"
      ],
      "text/plain": [
       "--------------------------  ----------------------------------------\n",
       "H2O cluster uptime:         02 secs\n",
       "H2O cluster version:        3.16.0.4\n",
       "H2O cluster version age:    5 months and 15 days !!!\n",
       "H2O cluster name:           H2O_from_python_weixu1_zspwhf\n",
       "H2O cluster total nodes:    1\n",
       "H2O cluster free memory:    3.556 Gb\n",
       "H2O cluster total cores:    8\n",
       "H2O cluster allowed cores:  8\n",
       "H2O cluster status:         accepting new members, healthy\n",
       "H2O connection url:         http://127.0.0.1:54321\n",
       "H2O connection proxy:\n",
       "H2O internal security:      False\n",
       "H2O API Extensions:         XGBoost, Algos, AutoML, Core V3, Core V4\n",
       "Python version:             3.6.4 final\n",
       "--------------------------  ----------------------------------------"
      ]
     },
     "metadata": {},
     "output_type": "display_data"
    }
   ],
   "source": [
    "import h2o\n",
    "from h2o.estimators.deeplearning import H2OAutoEncoderEstimator\n",
    "h2o.init(nthreads=-1, enable_assertions = False)"
   ]
  },
  {
   "cell_type": "code",
   "execution_count": 81,
   "metadata": {
    "ExecuteTime": {
     "end_time": "2018-07-01T20:20:51.961074Z",
     "start_time": "2018-07-01T20:20:37.944449Z"
    }
   },
   "outputs": [
    {
     "name": "stdout",
     "output_type": "stream",
     "text": [
      "Parse progress: |█████████████████████████████████████████████████████████| 100%\n",
      "Parse progress: |█████████████████████████████████████████████████████████| 100%\n"
     ]
    }
   ],
   "source": [
    "x_tr_h2o = h2o.H2OFrame(x_tr)\n",
    "x_te_h2o = h2o.H2OFrame(x_te)"
   ]
  },
  {
   "cell_type": "code",
   "execution_count": 84,
   "metadata": {
    "ExecuteTime": {
     "end_time": "2018-07-01T20:40:07.570005Z",
     "start_time": "2018-07-01T20:40:07.565849Z"
    }
   },
   "outputs": [],
   "source": [
    "encoding_dim = 6\n",
    "m_aec = H2OAutoEncoderEstimator(activation = \"tanh\",\n",
    "                                autoencoder = True,\n",
    "                                hidden = [32, encoding_dim, 32],\n",
    "                                sparse = True,\n",
    "                                max_w2 = 5.0,\n",
    "                                epochs = 10,\n",
    "                                seed = 0)"
   ]
  },
  {
   "cell_type": "code",
   "execution_count": 86,
   "metadata": {
    "ExecuteTime": {
     "end_time": "2018-07-01T20:44:08.208708Z",
     "start_time": "2018-07-01T20:43:28.789759Z"
    }
   },
   "outputs": [
    {
     "name": "stdout",
     "output_type": "stream",
     "text": [
      "deeplearning Model Build progress: |██████████████████████████████████████| 100%\n"
     ]
    }
   ],
   "source": [
    "m_aec.train(x = list(range(x_tr.shape[1])),\n",
    "            training_frame = x_tr_h2o,\n",
    "            validation_frame = x_te_h2o,\n",
    "            verbose=False)"
   ]
  },
  {
   "cell_type": "code",
   "execution_count": 100,
   "metadata": {
    "ExecuteTime": {
     "end_time": "2018-07-01T20:48:44.454596Z",
     "start_time": "2018-07-01T20:48:44.437506Z"
    }
   },
   "outputs": [
    {
     "data": {
      "text/html": [
       "<div>\n",
       "<style>\n",
       "    .dataframe thead tr:only-child th {\n",
       "        text-align: right;\n",
       "    }\n",
       "\n",
       "    .dataframe thead th {\n",
       "        text-align: left;\n",
       "    }\n",
       "\n",
       "    .dataframe tbody tr th {\n",
       "        vertical-align: top;\n",
       "    }\n",
       "</style>\n",
       "<table border=\"1\" class=\"dataframe\">\n",
       "  <thead>\n",
       "    <tr style=\"text-align: right;\">\n",
       "      <th></th>\n",
       "      <th></th>\n",
       "      <th>timestamp</th>\n",
       "      <th>duration</th>\n",
       "      <th>training_speed</th>\n",
       "      <th>epochs</th>\n",
       "      <th>iterations</th>\n",
       "      <th>samples</th>\n",
       "      <th>training_rmse</th>\n",
       "      <th>training_mse</th>\n",
       "      <th>validation_rmse</th>\n",
       "      <th>validation_mse</th>\n",
       "    </tr>\n",
       "  </thead>\n",
       "  <tbody>\n",
       "    <tr>\n",
       "      <th>0</th>\n",
       "      <td></td>\n",
       "      <td>2018-07-01 13:43:29</td>\n",
       "      <td>0.817 sec</td>\n",
       "      <td>0.00000 obs/sec</td>\n",
       "      <td>0.0</td>\n",
       "      <td>0</td>\n",
       "      <td>0.0</td>\n",
       "      <td>0.181611</td>\n",
       "      <td>0.032983</td>\n",
       "      <td>0.180108</td>\n",
       "      <td>0.032439</td>\n",
       "    </tr>\n",
       "    <tr>\n",
       "      <th>1</th>\n",
       "      <td></td>\n",
       "      <td>2018-07-01 13:43:36</td>\n",
       "      <td>8.284 sec</td>\n",
       "      <td>12056 obs/sec</td>\n",
       "      <td>2.0</td>\n",
       "      <td>2</td>\n",
       "      <td>86080.0</td>\n",
       "      <td>0.154677</td>\n",
       "      <td>0.023925</td>\n",
       "      <td>0.154496</td>\n",
       "      <td>0.023869</td>\n",
       "    </tr>\n",
       "    <tr>\n",
       "      <th>2</th>\n",
       "      <td></td>\n",
       "      <td>2018-07-01 13:43:44</td>\n",
       "      <td>15.795 sec</td>\n",
       "      <td>12025 obs/sec</td>\n",
       "      <td>4.0</td>\n",
       "      <td>4</td>\n",
       "      <td>172160.0</td>\n",
       "      <td>0.155117</td>\n",
       "      <td>0.024061</td>\n",
       "      <td>0.154945</td>\n",
       "      <td>0.024008</td>\n",
       "    </tr>\n",
       "    <tr>\n",
       "      <th>3</th>\n",
       "      <td></td>\n",
       "      <td>2018-07-01 13:43:51</td>\n",
       "      <td>23.320 sec</td>\n",
       "      <td>12006 obs/sec</td>\n",
       "      <td>6.0</td>\n",
       "      <td>6</td>\n",
       "      <td>258240.0</td>\n",
       "      <td>0.155098</td>\n",
       "      <td>0.024055</td>\n",
       "      <td>0.154946</td>\n",
       "      <td>0.024008</td>\n",
       "    </tr>\n",
       "    <tr>\n",
       "      <th>4</th>\n",
       "      <td></td>\n",
       "      <td>2018-07-01 13:43:59</td>\n",
       "      <td>30.816 sec</td>\n",
       "      <td>12008 obs/sec</td>\n",
       "      <td>8.0</td>\n",
       "      <td>8</td>\n",
       "      <td>344320.0</td>\n",
       "      <td>0.156313</td>\n",
       "      <td>0.024434</td>\n",
       "      <td>0.156120</td>\n",
       "      <td>0.024374</td>\n",
       "    </tr>\n",
       "    <tr>\n",
       "      <th>5</th>\n",
       "      <td></td>\n",
       "      <td>2018-07-01 13:44:07</td>\n",
       "      <td>38.556 sec</td>\n",
       "      <td>11928 obs/sec</td>\n",
       "      <td>10.0</td>\n",
       "      <td>10</td>\n",
       "      <td>430400.0</td>\n",
       "      <td>0.155743</td>\n",
       "      <td>0.024256</td>\n",
       "      <td>0.155613</td>\n",
       "      <td>0.024216</td>\n",
       "    </tr>\n",
       "    <tr>\n",
       "      <th>6</th>\n",
       "      <td></td>\n",
       "      <td>2018-07-01 13:44:07</td>\n",
       "      <td>38.900 sec</td>\n",
       "      <td>11925 obs/sec</td>\n",
       "      <td>10.0</td>\n",
       "      <td>10</td>\n",
       "      <td>430400.0</td>\n",
       "      <td>0.154677</td>\n",
       "      <td>0.023925</td>\n",
       "      <td>0.154496</td>\n",
       "      <td>0.023869</td>\n",
       "    </tr>\n",
       "  </tbody>\n",
       "</table>\n",
       "</div>"
      ],
      "text/plain": [
       "               timestamp    duration   training_speed  epochs  iterations  \\\n",
       "0    2018-07-01 13:43:29   0.817 sec  0.00000 obs/sec     0.0           0   \n",
       "1    2018-07-01 13:43:36   8.284 sec    12056 obs/sec     2.0           2   \n",
       "2    2018-07-01 13:43:44  15.795 sec    12025 obs/sec     4.0           4   \n",
       "3    2018-07-01 13:43:51  23.320 sec    12006 obs/sec     6.0           6   \n",
       "4    2018-07-01 13:43:59  30.816 sec    12008 obs/sec     8.0           8   \n",
       "5    2018-07-01 13:44:07  38.556 sec    11928 obs/sec    10.0          10   \n",
       "6    2018-07-01 13:44:07  38.900 sec    11925 obs/sec    10.0          10   \n",
       "\n",
       "    samples  training_rmse  training_mse  validation_rmse  validation_mse  \n",
       "0       0.0       0.181611      0.032983         0.180108        0.032439  \n",
       "1   86080.0       0.154677      0.023925         0.154496        0.023869  \n",
       "2  172160.0       0.155117      0.024061         0.154945        0.024008  \n",
       "3  258240.0       0.155098      0.024055         0.154946        0.024008  \n",
       "4  344320.0       0.156313      0.024434         0.156120        0.024374  \n",
       "5  430400.0       0.155743      0.024256         0.155613        0.024216  \n",
       "6  430400.0       0.154677      0.023925         0.154496        0.023869  "
      ]
     },
     "execution_count": 100,
     "metadata": {},
     "output_type": "execute_result"
    }
   ],
   "source": [
    "m_aec.score_history()"
   ]
  },
  {
   "cell_type": "code",
   "execution_count": null,
   "metadata": {
    "collapsed": true
   },
   "outputs": [],
   "source": []
  }
 ],
 "metadata": {
  "kernelspec": {
   "display_name": "Python 3",
   "language": "python",
   "name": "python3"
  },
  "language_info": {
   "codemirror_mode": {
    "name": "ipython",
    "version": 3
   },
   "file_extension": ".py",
   "mimetype": "text/x-python",
   "name": "python",
   "nbconvert_exporter": "python",
   "pygments_lexer": "ipython3",
   "version": "3.6.4"
  },
  "latex_envs": {
   "LaTeX_envs_menu_present": true,
   "autoclose": false,
   "autocomplete": true,
   "bibliofile": "biblio.bib",
   "cite_by": "apalike",
   "current_citInitial": 1,
   "eqLabelWithNumbers": true,
   "eqNumInitial": 1,
   "hotkeys": {
    "equation": "Ctrl-E",
    "itemize": "Ctrl-I"
   },
   "labels_anchors": false,
   "latex_user_defs": false,
   "report_style_numbering": false,
   "user_envs_cfg": false
  },
  "toc": {
   "nav_menu": {},
   "number_sections": true,
   "sideBar": true,
   "skip_h1_title": false,
   "title_cell": "Table of Contents",
   "title_sidebar": "Contents",
   "toc_cell": false,
   "toc_position": {},
   "toc_section_display": true,
   "toc_window_display": false
  }
 },
 "nbformat": 4,
 "nbformat_minor": 2
}
