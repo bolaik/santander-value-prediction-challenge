{
 "cells": [
  {
   "cell_type": "markdown",
   "metadata": {},
   "source": [
    "## This kernel compare EDA selected feature list with Model feature importance list"
   ]
  },
  {
   "cell_type": "code",
   "execution_count": 1,
   "metadata": {
    "ExecuteTime": {
     "end_time": "2018-07-01T01:32:26.716449Z",
     "start_time": "2018-07-01T01:32:25.149687Z"
    },
    "collapsed": true
   },
   "outputs": [],
   "source": [
    "import pandas as pd\n",
    "import numpy as np\n",
    "import re\n",
    "import time\n",
    "import os\n",
    "import sys\n",
    "from IPython.display import clear_output\n",
    "from scipy import stats\n",
    "\n",
    "import matplotlib.pyplot as plt\n",
    "%matplotlib inline \n",
    "\n",
    "import seaborn as sns\n",
    "sns.set(color_codes=True)\n",
    "\n",
    "pd.set_option('display.max_columns', 500)\n",
    "pd.set_option('display.max_rows', 500)\n",
    "pd.set_option('display.width', 1000)\n",
    "\n",
    "import warnings\n",
    "warnings.filterwarnings(\"ignore\")"
   ]
  },
  {
   "cell_type": "code",
   "execution_count": 2,
   "metadata": {
    "ExecuteTime": {
     "end_time": "2018-07-01T01:32:27.760140Z",
     "start_time": "2018-07-01T01:32:27.756277Z"
    },
    "collapsed": true
   },
   "outputs": [],
   "source": [
    "rmv_names_path = '../output/columns/forceremove.column.names'\n",
    "rmv_names = list(line.strip() for line in open(rmv_names_path, 'r'))"
   ]
  },
  {
   "cell_type": "code",
   "execution_count": 3,
   "metadata": {
    "ExecuteTime": {
     "end_time": "2018-07-01T01:32:32.477019Z",
     "start_time": "2018-07-01T01:32:28.583880Z"
    },
    "collapsed": true
   },
   "outputs": [],
   "source": [
    "train = pd.read_csv('../input/train.csv')\n",
    "all_feats = train.columns.values.tolist()"
   ]
  },
  {
   "cell_type": "code",
   "execution_count": 4,
   "metadata": {
    "ExecuteTime": {
     "end_time": "2018-07-01T01:32:32.481797Z",
     "start_time": "2018-07-01T01:32:32.478905Z"
    },
    "collapsed": true
   },
   "outputs": [],
   "source": [
    "sel_feats = list(set(all_feats) - set(rmv_names))"
   ]
  },
  {
   "cell_type": "markdown",
   "metadata": {},
   "source": [
    "### Model 1: LGBM Baseline Model"
   ]
  },
  {
   "cell_type": "code",
   "execution_count": 5,
   "metadata": {
    "ExecuteTime": {
     "end_time": "2018-07-01T01:32:32.498888Z",
     "start_time": "2018-07-01T01:32:32.483665Z"
    }
   },
   "outputs": [
    {
     "data": {
      "text/html": [
       "<div>\n",
       "<style>\n",
       "    .dataframe thead tr:only-child th {\n",
       "        text-align: right;\n",
       "    }\n",
       "\n",
       "    .dataframe thead th {\n",
       "        text-align: left;\n",
       "    }\n",
       "\n",
       "    .dataframe tbody tr th {\n",
       "        vertical-align: top;\n",
       "    }\n",
       "</style>\n",
       "<table border=\"1\" class=\"dataframe\">\n",
       "  <thead>\n",
       "    <tr style=\"text-align: right;\">\n",
       "      <th></th>\n",
       "      <th>feature</th>\n",
       "      <th>gain</th>\n",
       "      <th>split</th>\n",
       "    </tr>\n",
       "  </thead>\n",
       "  <tbody>\n",
       "    <tr>\n",
       "      <th>0</th>\n",
       "      <td>f190486d6</td>\n",
       "      <td>12.508257</td>\n",
       "      <td>629</td>\n",
       "    </tr>\n",
       "    <tr>\n",
       "      <th>1</th>\n",
       "      <td>eeb9cd3aa</td>\n",
       "      <td>5.662622</td>\n",
       "      <td>419</td>\n",
       "    </tr>\n",
       "    <tr>\n",
       "      <th>2</th>\n",
       "      <td>58e2e02e6</td>\n",
       "      <td>3.781215</td>\n",
       "      <td>455</td>\n",
       "    </tr>\n",
       "    <tr>\n",
       "      <th>3</th>\n",
       "      <td>9fd594eec</td>\n",
       "      <td>3.012605</td>\n",
       "      <td>305</td>\n",
       "    </tr>\n",
       "    <tr>\n",
       "      <th>4</th>\n",
       "      <td>15ace8c9f</td>\n",
       "      <td>2.188851</td>\n",
       "      <td>286</td>\n",
       "    </tr>\n",
       "  </tbody>\n",
       "</table>\n",
       "</div>"
      ],
      "text/plain": [
       "     feature       gain  split\n",
       "0  f190486d6  12.508257    629\n",
       "1  eeb9cd3aa   5.662622    419\n",
       "2  58e2e02e6   3.781215    455\n",
       "3  9fd594eec   3.012605    305\n",
       "4  15ace8c9f   2.188851    286"
      ]
     },
     "execution_count": 5,
     "metadata": {},
     "output_type": "execute_result"
    }
   ],
   "source": [
    "sub_lgb_fi = pd.read_csv('../output/sub_lgb_bl_fe.csv')\n",
    "sub_lgb_fi = sub_lgb_fi[sub_lgb_fi.gain>0]\n",
    "sub_lgb_fi.head()"
   ]
  },
  {
   "cell_type": "code",
   "execution_count": 6,
   "metadata": {
    "ExecuteTime": {
     "end_time": "2018-07-01T01:32:32.648379Z",
     "start_time": "2018-07-01T01:32:32.644003Z"
    }
   },
   "outputs": [
    {
     "name": "stdout",
     "output_type": "stream",
     "text": [
      "['f190486d6', 'eeb9cd3aa', '58e2e02e6', '9fd594eec', '15ace8c9f', 'b43a7cfd5', '491b9ee45', '6eef030c1', '024c577b9', '1702b5bf0', '20aa07010', '58232a6fb', 'f74e8f13d', 'd6bb78916', 'fb0f5dbfe', '58e056e12', 'c5a231d81', '64e483341', '45f6d00da', 'f8b733d3f']\n"
     ]
    }
   ],
   "source": [
    "print(sub_lgb_fi.feature[:20].tolist())"
   ]
  },
  {
   "cell_type": "code",
   "execution_count": 7,
   "metadata": {
    "ExecuteTime": {
     "end_time": "2018-07-01T01:32:57.582218Z",
     "start_time": "2018-07-01T01:32:33.678522Z"
    },
    "collapsed": true
   },
   "outputs": [],
   "source": [
    "sel_ratios = []\n",
    "for nrows in np.arange(1, len(sub_lgb_fi), 1):\n",
    "    sel_ratios.append(np.sum([x in sel_feats for x in sub_lgb_fi.feature[:nrows]]) / nrows)"
   ]
  },
  {
   "cell_type": "code",
   "execution_count": 8,
   "metadata": {
    "ExecuteTime": {
     "end_time": "2018-07-01T01:32:57.710675Z",
     "start_time": "2018-07-01T01:32:57.583723Z"
    }
   },
   "outputs": [
    {
     "data": {
      "image/png": "[encoded data removed]",
      "text/plain": [
       "<Figure size 432x288 with 1 Axes>"
      ]
     },
     "metadata": {},
     "output_type": "display_data"
    }
   ],
   "source": [
    "plt.plot(np.arange(1, len(sub_lgb_fi), 1), sel_ratios)\n",
    "plt.xlabel('num of top features')\n",
    "plt.ylabel('ratio selected')\n",
    "plt.show()"
   ]
  },
  {
   "cell_type": "markdown",
   "metadata": {},
   "source": [
    "### Model 2: XGB with Auto-Encoder features"
   ]
  },
  {
   "cell_type": "code",
   "execution_count": 9,
   "metadata": {
    "ExecuteTime": {
     "end_time": "2018-07-01T01:32:57.725099Z",
     "start_time": "2018-07-01T01:32:57.712199Z"
    }
   },
   "outputs": [
    {
     "data": {
      "text/html": [
       "<div>\n",
       "<style>\n",
       "    .dataframe thead tr:only-child th {\n",
       "        text-align: right;\n",
       "    }\n",
       "\n",
       "    .dataframe thead th {\n",
       "        text-align: left;\n",
       "    }\n",
       "\n",
       "    .dataframe tbody tr th {\n",
       "        vertical-align: top;\n",
       "    }\n",
       "</style>\n",
       "<table border=\"1\" class=\"dataframe\">\n",
       "  <thead>\n",
       "    <tr style=\"text-align: right;\">\n",
       "      <th></th>\n",
       "      <th>Feature</th>\n",
       "      <th>Gain</th>\n",
       "      <th>Cover</th>\n",
       "      <th>Frequency</th>\n",
       "    </tr>\n",
       "  </thead>\n",
       "  <tbody>\n",
       "    <tr>\n",
       "      <th>1</th>\n",
       "      <td>DF.L2.C3</td>\n",
       "      <td>0.036050</td>\n",
       "      <td>0.013514</td>\n",
       "      <td>0.027066</td>\n",
       "    </tr>\n",
       "    <tr>\n",
       "      <th>2</th>\n",
       "      <td>DF.L2.C2</td>\n",
       "      <td>0.029218</td>\n",
       "      <td>0.013485</td>\n",
       "      <td>0.026786</td>\n",
       "    </tr>\n",
       "    <tr>\n",
       "      <th>3</th>\n",
       "      <td>DF.L2.C1</td>\n",
       "      <td>0.027100</td>\n",
       "      <td>0.013322</td>\n",
       "      <td>0.025911</td>\n",
       "    </tr>\n",
       "    <tr>\n",
       "      <th>4</th>\n",
       "      <td>DF.L2.C4</td>\n",
       "      <td>0.025123</td>\n",
       "      <td>0.013586</td>\n",
       "      <td>0.025352</td>\n",
       "    </tr>\n",
       "    <tr>\n",
       "      <th>5</th>\n",
       "      <td>DF.L2.C6</td>\n",
       "      <td>0.022888</td>\n",
       "      <td>0.011362</td>\n",
       "      <td>0.021645</td>\n",
       "    </tr>\n",
       "    <tr>\n",
       "      <th>6</th>\n",
       "      <td>DF.L2.C5</td>\n",
       "      <td>0.019018</td>\n",
       "      <td>0.010049</td>\n",
       "      <td>0.019913</td>\n",
       "    </tr>\n",
       "    <tr>\n",
       "      <th>7</th>\n",
       "      <td>f190486d6</td>\n",
       "      <td>0.016699</td>\n",
       "      <td>0.006392</td>\n",
       "      <td>0.007749</td>\n",
       "    </tr>\n",
       "    <tr>\n",
       "      <th>8</th>\n",
       "      <td>15ace8c9f</td>\n",
       "      <td>0.013813</td>\n",
       "      <td>0.005489</td>\n",
       "      <td>0.008215</td>\n",
       "    </tr>\n",
       "    <tr>\n",
       "      <th>9</th>\n",
       "      <td>eeb9cd3aa</td>\n",
       "      <td>0.012451</td>\n",
       "      <td>0.004669</td>\n",
       "      <td>0.006315</td>\n",
       "    </tr>\n",
       "    <tr>\n",
       "      <th>10</th>\n",
       "      <td>024c577b9</td>\n",
       "      <td>0.011284</td>\n",
       "      <td>0.004510</td>\n",
       "      <td>0.006426</td>\n",
       "    </tr>\n",
       "  </tbody>\n",
       "</table>\n",
       "</div>"
      ],
      "text/plain": [
       "      Feature      Gain     Cover  Frequency\n",
       "1    DF.L2.C3  0.036050  0.013514   0.027066\n",
       "2    DF.L2.C2  0.029218  0.013485   0.026786\n",
       "3    DF.L2.C1  0.027100  0.013322   0.025911\n",
       "4    DF.L2.C4  0.025123  0.013586   0.025352\n",
       "5    DF.L2.C6  0.022888  0.011362   0.021645\n",
       "6    DF.L2.C5  0.019018  0.010049   0.019913\n",
       "7   f190486d6  0.016699  0.006392   0.007749\n",
       "8   15ace8c9f  0.013813  0.005489   0.008215\n",
       "9   eeb9cd3aa  0.012451  0.004669   0.006315\n",
       "10  024c577b9  0.011284  0.004510   0.006426"
      ]
     },
     "execution_count": 9,
     "metadata": {},
     "output_type": "execute_result"
    }
   ],
   "source": [
    "xgb_aec_fi = pd.read_csv('../output/feat_importance_xgb_aec.csv', index_col=0)\n",
    "xgb_aec_fi.head(10)"
   ]
  },
  {
   "cell_type": "code",
   "execution_count": 10,
   "metadata": {
    "ExecuteTime": {
     "end_time": "2018-07-01T01:33:34.595917Z",
     "start_time": "2018-07-01T01:32:57.726621Z"
    },
    "collapsed": true
   },
   "outputs": [],
   "source": [
    "sel_ratios = []\n",
    "for nrows in np.arange(1, len(xgb_aec_fi[6:]), 1):\n",
    "    sel_ratios.append(np.sum([x in sel_feats for x in xgb_aec_fi.loc[7:, 'Feature'][:nrows]]) / nrows)"
   ]
  },
  {
   "cell_type": "code",
   "execution_count": 11,
   "metadata": {
    "ExecuteTime": {
     "end_time": "2018-07-01T01:33:34.730214Z",
     "start_time": "2018-07-01T01:33:34.597934Z"
    }
   },
   "outputs": [
    {
     "data": {
      "image/png": "[encoded data removed]",
      "text/plain": [
       "<Figure size 432x288 with 1 Axes>"
      ]
     },
     "metadata": {},
     "output_type": "display_data"
    }
   ],
   "source": [
    "plt.plot(np.arange(1, len(xgb_aec_fi[6:]), 1), sel_ratios)\n",
    "plt.xlabel('num of top features')\n",
    "plt.ylabel('ratio selected')\n",
    "plt.show()"
   ]
  },
  {
   "cell_type": "code",
   "execution_count": null,
   "metadata": {
    "collapsed": true
   },
   "outputs": [],
   "source": []
  }
 ],
 "metadata": {
  "kernelspec": {
   "display_name": "Python 3",
   "language": "python",
   "name": "python3"
  },
  "language_info": {
   "codemirror_mode": {
    "name": "ipython",
    "version": 3
   },
   "file_extension": ".py",
   "mimetype": "text/x-python",
   "name": "python",
   "nbconvert_exporter": "python",
   "pygments_lexer": "ipython3",
   "version": "3.6.4"
  },
  "latex_envs": {
   "LaTeX_envs_menu_present": true,
   "autoclose": false,
   "autocomplete": true,
   "bibliofile": "biblio.bib",
   "cite_by": "apalike",
   "current_citInitial": 1,
   "eqLabelWithNumbers": true,
   "eqNumInitial": 1,
   "hotkeys": {
    "equation": "Ctrl-E",
    "itemize": "Ctrl-I"
   },
   "labels_anchors": false,
   "latex_user_defs": false,
   "report_style_numbering": false,
   "user_envs_cfg": false
  },
  "toc": {
   "nav_menu": {},
   "number_sections": true,
   "sideBar": true,
   "skip_h1_title": false,
   "title_cell": "Table of Contents",
   "title_sidebar": "Contents",
   "toc_cell": false,
   "toc_position": {},
   "toc_section_display": true,
   "toc_window_display": false
  }
 },
 "nbformat": 4,
 "nbformat_minor": 2
}
