{
 "cells": [
  {
   "cell_type": "markdown",
   "metadata": {},
   "source": [
    "## This kernel train random forest model with randomized search CV for hyperparameter tuning"
   ]
  },
  {
   "cell_type": "code",
   "execution_count": 1,
   "metadata": {
    "ExecuteTime": {
     "end_time": "2018-07-03T16:40:33.706304Z",
     "start_time": "2018-07-03T16:40:27.538297Z"
    },
    "collapsed": true
   },
   "outputs": [],
   "source": [
    "import pandas as pd\n",
    "import numpy as np\n",
    "from time import time\n",
    "from collections import OrderedDict\n",
    "from scipy.stats import randint as randint, uniform\n",
    "from sklearn.model_selection import KFold\n",
    "from sklearn.preprocessing import minmax_scale\n",
    "from sklearn.model_selection import RandomizedSearchCV\n",
    "from sklearn.ensemble import RandomForestRegressor\n",
    "from sklearn.metrics import mean_squared_error\n",
    "import matplotlib.pyplot as plt\n",
    "%matplotlib inline\n",
    "import seaborn as sns\n",
    "sns.set(color_codes=True)"
   ]
  },
  {
   "cell_type": "markdown",
   "metadata": {},
   "source": [
    "### Prepare the dataset"
   ]
  },
  {
   "cell_type": "code",
   "execution_count": 3,
   "metadata": {
    "ExecuteTime": {
     "end_time": "2018-07-03T16:42:18.335227Z",
     "start_time": "2018-07-03T16:42:18.330323Z"
    }
   },
   "outputs": [
    {
     "name": "stdout",
     "output_type": "stream",
     "text": [
      "number of features removed: 688\n"
     ]
    }
   ],
   "source": [
    "rmv_names_path = '../output/columns/forceremove.column.names'\n",
    "rmv_names = list(line.strip() for line in open(rmv_names_path, 'r'))\n",
    "print('number of features removed: {}'.format(len(rmv_names)))"
   ]
  },
  {
   "cell_type": "code",
   "execution_count": 4,
   "metadata": {
    "ExecuteTime": {
     "end_time": "2018-07-03T16:43:03.264059Z",
     "start_time": "2018-07-03T16:42:19.616926Z"
    }
   },
   "outputs": [
    {
     "name": "stdout",
     "output_type": "stream",
     "text": [
      "train set shape: (4459, 4993)\n",
      "test set shape: (49342, 4992)\n"
     ]
    }
   ],
   "source": [
    "train = pd.read_csv('../input/train.csv')\n",
    "test = pd.read_csv('../input/test.csv')\n",
    "print('train set shape: {}'.format(train.shape))\n",
    "print('test set shape: {}'.format(test.shape))"
   ]
  },
  {
   "cell_type": "code",
   "execution_count": 5,
   "metadata": {
    "ExecuteTime": {
     "end_time": "2018-07-03T16:43:03.876396Z",
     "start_time": "2018-07-03T16:43:03.265713Z"
    },
    "collapsed": true
   },
   "outputs": [],
   "source": [
    "y_train = np.log1p(train.target)\n",
    "train.drop(['ID', 'target'] + rmv_names, axis=1, inplace=True)\n",
    "test_ID = test.ID\n",
    "test.drop(['ID'] + rmv_names, axis=1, inplace=True)"
   ]
  },
  {
   "cell_type": "markdown",
   "metadata": {},
   "source": [
    "### Train model with RandomForest Regressor"
   ]
  },
  {
   "cell_type": "markdown",
   "metadata": {},
   "source": [
    "#### specify parameters and distributions to sample from"
   ]
  },
  {
   "cell_type": "code",
   "execution_count": 5,
   "metadata": {
    "ExecuteTime": {
     "end_time": "2018-07-03T00:34:34.776947Z",
     "start_time": "2018-07-03T00:34:34.769208Z"
    }
   },
   "outputs": [
    {
     "data": {
      "text/plain": [
       "RandomForestRegressor(bootstrap=True, criterion='mse', max_depth=None,\n",
       "           max_features='auto', max_leaf_nodes=None,\n",
       "           min_impurity_decrease=0.0, min_impurity_split=None,\n",
       "           min_samples_leaf=1, min_samples_split=2,\n",
       "           min_weight_fraction_leaf=0.0, n_estimators=2000, n_jobs=1,\n",
       "           oob_score=False, random_state=8668, verbose=0, warm_start=False)"
      ]
     },
     "execution_count": 5,
     "metadata": {},
     "output_type": "execute_result"
    }
   ],
   "source": [
    "params = {'n_estimators': 2000,\n",
    "          'oob_score': False,\n",
    "          'n_jobs': 1,\n",
    "          'random_state': 8668}\n",
    "clf = RandomForestRegressor()\n",
    "clf.set_params(**params)"
   ]
  },
  {
   "cell_type": "code",
   "execution_count": 6,
   "metadata": {
    "ExecuteTime": {
     "end_time": "2018-07-03T00:34:34.785018Z",
     "start_time": "2018-07-03T00:34:34.779380Z"
    },
    "collapsed": true
   },
   "outputs": [],
   "source": [
    "param_distr = {\"max_depth\": [3, 6, None],\n",
    "               \"max_features\": uniform(0, 1),\n",
    "               \"min_samples_split\": randint(2, 11),\n",
    "               \"min_samples_leaf\": randint(1, 11),\n",
    "               \"bootstrap\": [True, False]\n",
    "              }"
   ]
  },
  {
   "cell_type": "code",
   "execution_count": 7,
   "metadata": {
    "ExecuteTime": {
     "end_time": "2018-07-03T00:34:34.790615Z",
     "start_time": "2018-07-03T00:34:34.787043Z"
    },
    "collapsed": true
   },
   "outputs": [],
   "source": [
    "n_iter_search = 32\n",
    "random_search = RandomizedSearchCV(clf, param_distributions=param_distr, \n",
    "                                   n_iter=n_iter_search, \n",
    "                                   scoring='neg_mean_squared_error', \n",
    "                                   n_jobs=8, cv=4, verbose=2, random_state=4832, return_train_score=True)"
   ]
  },
  {
   "cell_type": "code",
   "execution_count": 8,
   "metadata": {
    "ExecuteTime": {
     "end_time": "2018-07-03T05:33:21.648946Z",
     "start_time": "2018-07-03T00:34:34.792505Z"
    },
    "scrolled": false
   },
   "outputs": [
    {
     "name": "stdout",
     "output_type": "stream",
     "text": [
      "Fitting 4 folds for each of 32 candidates, totalling 128 fits\n",
      "[CV] bootstrap=False, max_depth=6, max_features=0.19884724302209555, min_samples_leaf=2, min_samples_split=4 \n",
      "[CV] bootstrap=False, max_depth=6, max_features=0.19884724302209555, min_samples_leaf=2, min_samples_split=4 \n",
      "[CV] bootstrap=False, max_depth=6, max_features=0.19884724302209555, min_samples_leaf=2, min_samples_split=4 \n",
      "[CV] bootstrap=False, max_depth=6, max_features=0.19884724302209555, min_samples_leaf=2, min_samples_split=4 \n",
      "[CV] bootstrap=False, max_depth=None, max_features=0.2699032027445013, min_samples_leaf=3, min_samples_split=3 \n",
      "[CV] bootstrap=False, max_depth=None, max_features=0.2699032027445013, min_samples_leaf=3, min_samples_split=3 \n",
      "[CV] bootstrap=False, max_depth=None, max_features=0.2699032027445013, min_samples_leaf=3, min_samples_split=3 \n",
      "[CV] bootstrap=False, max_depth=None, max_features=0.2699032027445013, min_samples_leaf=3, min_samples_split=3 \n",
      "[CV]  bootstrap=False, max_depth=6, max_features=0.19884724302209555, min_samples_leaf=2, min_samples_split=4, total= 5.7min\n",
      "[CV] bootstrap=True, max_depth=6, max_features=0.9917561653711737, min_samples_leaf=6, min_samples_split=2 \n",
      "[CV]  bootstrap=False, max_depth=6, max_features=0.19884724302209555, min_samples_leaf=2, min_samples_split=4, total= 5.7min\n",
      "[CV] bootstrap=True, max_depth=6, max_features=0.9917561653711737, min_samples_leaf=6, min_samples_split=2 \n",
      "[CV]  bootstrap=False, max_depth=6, max_features=0.19884724302209555, min_samples_leaf=2, min_samples_split=4, total= 5.7min\n",
      "[CV] bootstrap=True, max_depth=6, max_features=0.9917561653711737, min_samples_leaf=6, min_samples_split=2 \n",
      "[CV]  bootstrap=False, max_depth=6, max_features=0.19884724302209555, min_samples_leaf=2, min_samples_split=4, total= 5.9min\n",
      "[CV] bootstrap=True, max_depth=6, max_features=0.9917561653711737, min_samples_leaf=6, min_samples_split=2 \n",
      "[CV]  bootstrap=True, max_depth=6, max_features=0.9917561653711737, min_samples_leaf=6, min_samples_split=2, total=18.2min\n",
      "[CV] bootstrap=False, max_depth=None, max_features=0.7391070028438858, min_samples_leaf=6, min_samples_split=7 \n",
      "[CV]  bootstrap=True, max_depth=6, max_features=0.9917561653711737, min_samples_leaf=6, min_samples_split=2, total=18.3min\n",
      "[CV] bootstrap=False, max_depth=None, max_features=0.7391070028438858, min_samples_leaf=6, min_samples_split=7 \n",
      "[CV]  bootstrap=True, max_depth=6, max_features=0.9917561653711737, min_samples_leaf=6, min_samples_split=2, total=18.5min\n",
      "[CV] bootstrap=False, max_depth=None, max_features=0.7391070028438858, min_samples_leaf=6, min_samples_split=7 \n",
      "[CV]  bootstrap=True, max_depth=6, max_features=0.9917561653711737, min_samples_leaf=6, min_samples_split=2, total=18.7min\n",
      "[CV] bootstrap=False, max_depth=None, max_features=0.7391070028438858, min_samples_leaf=6, min_samples_split=7 \n",
      "[CV]  bootstrap=False, max_depth=None, max_features=0.2699032027445013, min_samples_leaf=3, min_samples_split=3, total=39.5min\n",
      "[CV] bootstrap=False, max_depth=6, max_features=0.3585754029709072, min_samples_leaf=5, min_samples_split=9 \n",
      "[CV]  bootstrap=False, max_depth=None, max_features=0.2699032027445013, min_samples_leaf=3, min_samples_split=3, total=40.3min\n",
      "[CV] bootstrap=False, max_depth=6, max_features=0.3585754029709072, min_samples_leaf=5, min_samples_split=9 \n",
      "[CV]  bootstrap=False, max_depth=None, max_features=0.2699032027445013, min_samples_leaf=3, min_samples_split=3, total=40.7min\n",
      "[CV] bootstrap=False, max_depth=6, max_features=0.3585754029709072, min_samples_leaf=5, min_samples_split=9 \n",
      "[CV]  bootstrap=False, max_depth=None, max_features=0.2699032027445013, min_samples_leaf=3, min_samples_split=3, total=40.8min\n",
      "[CV] bootstrap=False, max_depth=6, max_features=0.3585754029709072, min_samples_leaf=5, min_samples_split=9 \n",
      "[CV]  bootstrap=False, max_depth=6, max_features=0.3585754029709072, min_samples_leaf=5, min_samples_split=9, total=10.0min\n",
      "[CV] bootstrap=False, max_depth=3, max_features=0.036191029689225274, min_samples_leaf=4, min_samples_split=2 \n",
      "[CV]  bootstrap=False, max_depth=3, max_features=0.036191029689225274, min_samples_leaf=4, min_samples_split=2, total=  30.7s\n",
      "[CV] bootstrap=False, max_depth=3, max_features=0.036191029689225274, min_samples_leaf=4, min_samples_split=2 \n",
      "[CV]  bootstrap=False, max_depth=6, max_features=0.3585754029709072, min_samples_leaf=5, min_samples_split=9, total= 9.8min\n",
      "[CV] bootstrap=False, max_depth=3, max_features=0.036191029689225274, min_samples_leaf=4, min_samples_split=2 \n",
      "[CV]  bootstrap=False, max_depth=6, max_features=0.3585754029709072, min_samples_leaf=5, min_samples_split=9, total= 9.7min\n",
      "[CV] bootstrap=False, max_depth=3, max_features=0.036191029689225274, min_samples_leaf=4, min_samples_split=2 \n",
      "[CV]  bootstrap=False, max_depth=3, max_features=0.036191029689225274, min_samples_leaf=4, min_samples_split=2, total=  29.9s\n",
      "[CV] bootstrap=True, max_depth=None, max_features=0.2703233753810498, min_samples_leaf=3, min_samples_split=8 \n",
      "[CV]  bootstrap=False, max_depth=3, max_features=0.036191029689225274, min_samples_leaf=4, min_samples_split=2, total=  30.2s\n",
      "[CV] bootstrap=True, max_depth=None, max_features=0.2703233753810498, min_samples_leaf=3, min_samples_split=8 \n",
      "[CV]  bootstrap=False, max_depth=6, max_features=0.3585754029709072, min_samples_leaf=5, min_samples_split=9, total=10.0min\n",
      "[CV] bootstrap=True, max_depth=None, max_features=0.2703233753810498, min_samples_leaf=3, min_samples_split=8 \n",
      "[CV]  bootstrap=False, max_depth=3, max_features=0.036191029689225274, min_samples_leaf=4, min_samples_split=2, total=  31.3s\n",
      "[CV] bootstrap=True, max_depth=None, max_features=0.2703233753810498, min_samples_leaf=3, min_samples_split=8 \n",
      "[CV]  bootstrap=True, max_depth=None, max_features=0.2703233753810498, min_samples_leaf=3, min_samples_split=8, total=25.6min\n",
      "[CV] bootstrap=True, max_depth=6, max_features=0.9923049663053465, min_samples_leaf=3, min_samples_split=9 \n",
      "[CV]  bootstrap=True, max_depth=None, max_features=0.2703233753810498, min_samples_leaf=3, min_samples_split=8, total=25.5min\n",
      "[CV] bootstrap=True, max_depth=6, max_features=0.9923049663053465, min_samples_leaf=3, min_samples_split=9 \n",
      "[CV]  bootstrap=True, max_depth=None, max_features=0.2703233753810498, min_samples_leaf=3, min_samples_split=8, total=25.9min\n",
      "[CV] bootstrap=True, max_depth=6, max_features=0.9923049663053465, min_samples_leaf=3, min_samples_split=9 \n",
      "[CV]  bootstrap=True, max_depth=None, max_features=0.2703233753810498, min_samples_leaf=3, min_samples_split=8, total=25.7min\n",
      "[CV] bootstrap=True, max_depth=6, max_features=0.9923049663053465, min_samples_leaf=3, min_samples_split=9 \n",
      "[CV]  bootstrap=True, max_depth=6, max_features=0.9923049663053465, min_samples_leaf=3, min_samples_split=9, total=18.3min\n",
      "[CV] bootstrap=True, max_depth=3, max_features=0.42895594613886634, min_samples_leaf=1, min_samples_split=4 \n"
     ]
    },
    {
     "name": "stderr",
     "output_type": "stream",
     "text": [
      "[Parallel(n_jobs=8)]: Done  25 tasks      | elapsed: 94.6min\n"
     ]
    },
    {
     "name": "stdout",
     "output_type": "stream",
     "text": [
      "[CV]  bootstrap=True, max_depth=6, max_features=0.9923049663053465, min_samples_leaf=3, min_samples_split=9, total=18.6min\n",
      "[CV] bootstrap=True, max_depth=3, max_features=0.42895594613886634, min_samples_leaf=1, min_samples_split=4 \n",
      "[CV]  bootstrap=True, max_depth=6, max_features=0.9923049663053465, min_samples_leaf=3, min_samples_split=9, total=18.4min\n",
      "[CV] bootstrap=True, max_depth=3, max_features=0.42895594613886634, min_samples_leaf=1, min_samples_split=4 \n",
      "[CV]  bootstrap=True, max_depth=6, max_features=0.9923049663053465, min_samples_leaf=3, min_samples_split=9, total=18.8min\n",
      "[CV] bootstrap=True, max_depth=3, max_features=0.42895594613886634, min_samples_leaf=1, min_samples_split=4 \n",
      "[CV]  bootstrap=True, max_depth=3, max_features=0.42895594613886634, min_samples_leaf=1, min_samples_split=4, total= 3.7min\n",
      "[CV] bootstrap=False, max_depth=None, max_features=0.39890964953933383, min_samples_leaf=2, min_samples_split=10 \n",
      "[CV]  bootstrap=True, max_depth=3, max_features=0.42895594613886634, min_samples_leaf=1, min_samples_split=4, total= 3.8min\n",
      "[CV] bootstrap=False, max_depth=None, max_features=0.39890964953933383, min_samples_leaf=2, min_samples_split=10 \n",
      "[CV]  bootstrap=True, max_depth=3, max_features=0.42895594613886634, min_samples_leaf=1, min_samples_split=4, total= 3.8min\n",
      "[CV] bootstrap=False, max_depth=None, max_features=0.39890964953933383, min_samples_leaf=2, min_samples_split=10 \n",
      "[CV]  bootstrap=True, max_depth=3, max_features=0.42895594613886634, min_samples_leaf=1, min_samples_split=4, total= 3.8min\n",
      "[CV] bootstrap=False, max_depth=None, max_features=0.39890964953933383, min_samples_leaf=2, min_samples_split=10 \n",
      "[CV]  bootstrap=False, max_depth=None, max_features=0.7391070028438858, min_samples_leaf=6, min_samples_split=7, total=80.3min\n",
      "[CV] bootstrap=True, max_depth=3, max_features=0.5022745118518462, min_samples_leaf=2, min_samples_split=10 \n",
      "[CV]  bootstrap=False, max_depth=None, max_features=0.7391070028438858, min_samples_leaf=6, min_samples_split=7, total=80.1min\n",
      "[CV] bootstrap=True, max_depth=3, max_features=0.5022745118518462, min_samples_leaf=2, min_samples_split=10 \n",
      "[CV]  bootstrap=False, max_depth=None, max_features=0.7391070028438858, min_samples_leaf=6, min_samples_split=7, total=82.6min\n",
      "[CV] bootstrap=True, max_depth=3, max_features=0.5022745118518462, min_samples_leaf=2, min_samples_split=10 \n",
      "[CV]  bootstrap=False, max_depth=None, max_features=0.7391070028438858, min_samples_leaf=6, min_samples_split=7, total=82.7min\n",
      "[CV] bootstrap=True, max_depth=3, max_features=0.5022745118518462, min_samples_leaf=2, min_samples_split=10 \n",
      "[CV]  bootstrap=True, max_depth=3, max_features=0.5022745118518462, min_samples_leaf=2, min_samples_split=10, total= 4.5min\n",
      "[CV] bootstrap=True, max_depth=None, max_features=0.1641300169983203, min_samples_leaf=6, min_samples_split=4 \n",
      "[CV]  bootstrap=True, max_depth=3, max_features=0.5022745118518462, min_samples_leaf=2, min_samples_split=10, total= 4.6min\n",
      "[CV] bootstrap=True, max_depth=None, max_features=0.1641300169983203, min_samples_leaf=6, min_samples_split=4 \n",
      "[CV]  bootstrap=True, max_depth=3, max_features=0.5022745118518462, min_samples_leaf=2, min_samples_split=10, total= 4.6min\n",
      "[CV] bootstrap=True, max_depth=None, max_features=0.1641300169983203, min_samples_leaf=6, min_samples_split=4 \n",
      "[CV]  bootstrap=True, max_depth=3, max_features=0.5022745118518462, min_samples_leaf=2, min_samples_split=10, total= 4.6min\n",
      "[CV] bootstrap=True, max_depth=None, max_features=0.1641300169983203, min_samples_leaf=6, min_samples_split=4 \n",
      "[CV]  bootstrap=True, max_depth=None, max_features=0.1641300169983203, min_samples_leaf=6, min_samples_split=4, total=12.7min\n",
      "[CV] bootstrap=True, max_depth=3, max_features=0.570263780749226, min_samples_leaf=8, min_samples_split=4 \n",
      "[CV]  bootstrap=True, max_depth=None, max_features=0.1641300169983203, min_samples_leaf=6, min_samples_split=4, total=12.9min\n",
      "[CV] bootstrap=True, max_depth=3, max_features=0.570263780749226, min_samples_leaf=8, min_samples_split=4 \n",
      "[CV]  bootstrap=True, max_depth=None, max_features=0.1641300169983203, min_samples_leaf=6, min_samples_split=4, total=13.2min\n",
      "[CV] bootstrap=True, max_depth=3, max_features=0.570263780749226, min_samples_leaf=8, min_samples_split=4 \n",
      "[CV]  bootstrap=True, max_depth=None, max_features=0.1641300169983203, min_samples_leaf=6, min_samples_split=4, total=13.0min\n",
      "[CV] bootstrap=True, max_depth=3, max_features=0.570263780749226, min_samples_leaf=8, min_samples_split=4 \n",
      "[CV]  bootstrap=True, max_depth=3, max_features=0.570263780749226, min_samples_leaf=8, min_samples_split=4, total= 5.2min\n",
      "[CV] bootstrap=True, max_depth=None, max_features=0.40119839211397557, min_samples_leaf=4, min_samples_split=8 \n",
      "[CV]  bootstrap=True, max_depth=3, max_features=0.570263780749226, min_samples_leaf=8, min_samples_split=4, total= 5.2min\n",
      "[CV] bootstrap=True, max_depth=None, max_features=0.40119839211397557, min_samples_leaf=4, min_samples_split=8 \n",
      "[CV]  bootstrap=True, max_depth=3, max_features=0.570263780749226, min_samples_leaf=8, min_samples_split=4, total= 5.1min\n",
      "[CV] bootstrap=True, max_depth=None, max_features=0.40119839211397557, min_samples_leaf=4, min_samples_split=8 \n",
      "[CV]  bootstrap=True, max_depth=3, max_features=0.570263780749226, min_samples_leaf=8, min_samples_split=4, total= 5.2min\n",
      "[CV] bootstrap=True, max_depth=None, max_features=0.40119839211397557, min_samples_leaf=4, min_samples_split=8 \n",
      "[CV]  bootstrap=True, max_depth=None, max_features=0.40119839211397557, min_samples_leaf=4, min_samples_split=8, total=34.1min\n",
      "[CV] bootstrap=False, max_depth=6, max_features=0.6198425057741686, min_samples_leaf=3, min_samples_split=3 \n",
      "[CV]  bootstrap=True, max_depth=None, max_features=0.40119839211397557, min_samples_leaf=4, min_samples_split=8, total=34.7min\n",
      "[CV] bootstrap=False, max_depth=6, max_features=0.6198425057741686, min_samples_leaf=3, min_samples_split=3 \n",
      "[CV]  bootstrap=False, max_depth=None, max_features=0.39890964953933383, min_samples_leaf=2, min_samples_split=10, total=65.2min\n",
      "[CV] bootstrap=False, max_depth=6, max_features=0.6198425057741686, min_samples_leaf=3, min_samples_split=3 \n",
      "[CV]  bootstrap=False, max_depth=None, max_features=0.39890964953933383, min_samples_leaf=2, min_samples_split=10, total=65.4min\n",
      "[CV] bootstrap=False, max_depth=6, max_features=0.6198425057741686, min_samples_leaf=3, min_samples_split=3 \n",
      "[CV]  bootstrap=True, max_depth=None, max_features=0.40119839211397557, min_samples_leaf=4, min_samples_split=8, total=34.8min\n",
      "[CV] bootstrap=True, max_depth=6, max_features=0.6306545029042706, min_samples_leaf=1, min_samples_split=7 \n",
      "[CV]  bootstrap=True, max_depth=None, max_features=0.40119839211397557, min_samples_leaf=4, min_samples_split=8, total=35.0min\n",
      "[CV] bootstrap=True, max_depth=6, max_features=0.6306545029042706, min_samples_leaf=1, min_samples_split=7 \n",
      "[CV]  bootstrap=False, max_depth=None, max_features=0.39890964953933383, min_samples_leaf=2, min_samples_split=10, total=66.0min\n",
      "[CV] bootstrap=True, max_depth=6, max_features=0.6306545029042706, min_samples_leaf=1, min_samples_split=7 \n",
      "[CV]  bootstrap=False, max_depth=None, max_features=0.39890964953933383, min_samples_leaf=2, min_samples_split=10, total=65.9min\n",
      "[CV] bootstrap=True, max_depth=6, max_features=0.6306545029042706, min_samples_leaf=1, min_samples_split=7 \n",
      "[CV]  bootstrap=True, max_depth=6, max_features=0.6306545029042706, min_samples_leaf=1, min_samples_split=7, total=10.9min\n",
      "[CV] bootstrap=True, max_depth=6, max_features=0.17073527567033164, min_samples_leaf=7, min_samples_split=3 \n",
      "[CV]  bootstrap=True, max_depth=6, max_features=0.6306545029042706, min_samples_leaf=1, min_samples_split=7, total=10.8min\n",
      "[CV] bootstrap=True, max_depth=6, max_features=0.17073527567033164, min_samples_leaf=7, min_samples_split=3 \n",
      "[CV]  bootstrap=True, max_depth=6, max_features=0.6306545029042706, min_samples_leaf=1, min_samples_split=7, total=10.8min\n",
      "[CV] bootstrap=True, max_depth=6, max_features=0.17073527567033164, min_samples_leaf=7, min_samples_split=3 \n",
      "[CV]  bootstrap=True, max_depth=6, max_features=0.6306545029042706, min_samples_leaf=1, min_samples_split=7, total=11.1min\n",
      "[CV] bootstrap=True, max_depth=6, max_features=0.17073527567033164, min_samples_leaf=7, min_samples_split=3 \n"
     ]
    },
    {
     "name": "stdout",
     "output_type": "stream",
     "text": [
      "[CV]  bootstrap=False, max_depth=6, max_features=0.6198425057741686, min_samples_leaf=3, min_samples_split=3, total=16.4min\n",
      "[CV] bootstrap=False, max_depth=6, max_features=0.14778004660893684, min_samples_leaf=8, min_samples_split=4 \n",
      "[CV]  bootstrap=False, max_depth=6, max_features=0.6198425057741686, min_samples_leaf=3, min_samples_split=3, total=16.3min\n",
      "[CV] bootstrap=False, max_depth=6, max_features=0.14778004660893684, min_samples_leaf=8, min_samples_split=4 \n",
      "[CV]  bootstrap=True, max_depth=6, max_features=0.17073527567033164, min_samples_leaf=7, min_samples_split=3, total= 2.9min\n",
      "[CV] bootstrap=False, max_depth=6, max_features=0.14778004660893684, min_samples_leaf=8, min_samples_split=4 \n",
      "[CV]  bootstrap=True, max_depth=6, max_features=0.17073527567033164, min_samples_leaf=7, min_samples_split=3, total= 2.9min\n",
      "[CV] bootstrap=False, max_depth=6, max_features=0.14778004660893684, min_samples_leaf=8, min_samples_split=4 \n",
      "[CV]  bootstrap=True, max_depth=6, max_features=0.17073527567033164, min_samples_leaf=7, min_samples_split=3, total= 2.9min\n",
      "[CV] bootstrap=True, max_depth=None, max_features=0.11951638658642105, min_samples_leaf=5, min_samples_split=10 \n",
      "[CV]  bootstrap=True, max_depth=6, max_features=0.17073527567033164, min_samples_leaf=7, min_samples_split=3, total= 2.9min\n",
      "[CV] bootstrap=True, max_depth=None, max_features=0.11951638658642105, min_samples_leaf=5, min_samples_split=10 \n",
      "[CV]  bootstrap=False, max_depth=6, max_features=0.6198425057741686, min_samples_leaf=3, min_samples_split=3, total=16.3min\n",
      "[CV] bootstrap=True, max_depth=None, max_features=0.11951638658642105, min_samples_leaf=5, min_samples_split=10 \n",
      "[CV]  bootstrap=False, max_depth=6, max_features=0.6198425057741686, min_samples_leaf=3, min_samples_split=3, total=15.8min\n",
      "[CV] bootstrap=True, max_depth=None, max_features=0.11951638658642105, min_samples_leaf=5, min_samples_split=10 \n",
      "[CV]  bootstrap=False, max_depth=6, max_features=0.14778004660893684, min_samples_leaf=8, min_samples_split=4, total= 3.9min\n",
      "[CV] bootstrap=False, max_depth=6, max_features=0.5434753386371954, min_samples_leaf=4, min_samples_split=3 \n",
      "[CV]  bootstrap=False, max_depth=6, max_features=0.14778004660893684, min_samples_leaf=8, min_samples_split=4, total= 4.0min\n",
      "[CV] bootstrap=False, max_depth=6, max_features=0.5434753386371954, min_samples_leaf=4, min_samples_split=3 \n",
      "[CV]  bootstrap=False, max_depth=6, max_features=0.14778004660893684, min_samples_leaf=8, min_samples_split=4, total= 4.0min\n",
      "[CV] bootstrap=False, max_depth=6, max_features=0.5434753386371954, min_samples_leaf=4, min_samples_split=3 \n",
      "[CV]  bootstrap=False, max_depth=6, max_features=0.14778004660893684, min_samples_leaf=8, min_samples_split=4, total= 4.1min\n",
      "[CV] bootstrap=False, max_depth=6, max_features=0.5434753386371954, min_samples_leaf=4, min_samples_split=3 \n",
      "[CV]  bootstrap=True, max_depth=None, max_features=0.11951638658642105, min_samples_leaf=5, min_samples_split=10, total= 9.2min\n",
      "[CV] bootstrap=True, max_depth=3, max_features=0.7668598523960009, min_samples_leaf=3, min_samples_split=7 \n",
      "[CV]  bootstrap=True, max_depth=None, max_features=0.11951638658642105, min_samples_leaf=5, min_samples_split=10, total= 9.3min\n",
      "[CV] bootstrap=True, max_depth=3, max_features=0.7668598523960009, min_samples_leaf=3, min_samples_split=7 \n",
      "[CV]  bootstrap=True, max_depth=None, max_features=0.11951638658642105, min_samples_leaf=5, min_samples_split=10, total= 9.3min\n",
      "[CV] bootstrap=True, max_depth=3, max_features=0.7668598523960009, min_samples_leaf=3, min_samples_split=7 \n",
      "[CV]  bootstrap=True, max_depth=None, max_features=0.11951638658642105, min_samples_leaf=5, min_samples_split=10, total= 9.4min\n",
      "[CV] bootstrap=True, max_depth=3, max_features=0.7668598523960009, min_samples_leaf=3, min_samples_split=7 \n",
      "[CV]  bootstrap=True, max_depth=3, max_features=0.7668598523960009, min_samples_leaf=3, min_samples_split=7, total= 6.1min\n",
      "[CV] bootstrap=False, max_depth=None, max_features=0.3342880228824172, min_samples_leaf=3, min_samples_split=8 \n",
      "[CV]  bootstrap=True, max_depth=3, max_features=0.7668598523960009, min_samples_leaf=3, min_samples_split=7, total= 6.1min\n",
      "[CV] bootstrap=False, max_depth=None, max_features=0.3342880228824172, min_samples_leaf=3, min_samples_split=8 \n",
      "[CV]  bootstrap=True, max_depth=3, max_features=0.7668598523960009, min_samples_leaf=3, min_samples_split=7, total= 6.1min\n",
      "[CV] bootstrap=False, max_depth=None, max_features=0.3342880228824172, min_samples_leaf=3, min_samples_split=8 \n",
      "[CV]  bootstrap=True, max_depth=3, max_features=0.7668598523960009, min_samples_leaf=3, min_samples_split=7, total= 6.2min\n",
      "[CV] bootstrap=False, max_depth=None, max_features=0.3342880228824172, min_samples_leaf=3, min_samples_split=8 \n",
      "[CV]  bootstrap=False, max_depth=6, max_features=0.5434753386371954, min_samples_leaf=4, min_samples_split=3, total=14.6min\n",
      "[CV] bootstrap=True, max_depth=6, max_features=0.2038256043044998, min_samples_leaf=5, min_samples_split=6 \n",
      "[CV]  bootstrap=False, max_depth=6, max_features=0.5434753386371954, min_samples_leaf=4, min_samples_split=3, total=14.6min\n",
      "[CV] bootstrap=True, max_depth=6, max_features=0.2038256043044998, min_samples_leaf=5, min_samples_split=6 \n",
      "[CV]  bootstrap=False, max_depth=6, max_features=0.5434753386371954, min_samples_leaf=4, min_samples_split=3, total=14.4min\n",
      "[CV] bootstrap=True, max_depth=6, max_features=0.2038256043044998, min_samples_leaf=5, min_samples_split=6 \n",
      "[CV]  bootstrap=False, max_depth=6, max_features=0.5434753386371954, min_samples_leaf=4, min_samples_split=3, total=14.9min\n",
      "[CV] bootstrap=True, max_depth=6, max_features=0.2038256043044998, min_samples_leaf=5, min_samples_split=6 \n",
      "[CV]  bootstrap=True, max_depth=6, max_features=0.2038256043044998, min_samples_leaf=5, min_samples_split=6, total= 4.0min\n",
      "[CV] bootstrap=True, max_depth=None, max_features=0.11528324754151764, min_samples_leaf=4, min_samples_split=3 \n",
      "[CV]  bootstrap=True, max_depth=6, max_features=0.2038256043044998, min_samples_leaf=5, min_samples_split=6, total= 4.0min\n",
      "[CV] bootstrap=True, max_depth=None, max_features=0.11528324754151764, min_samples_leaf=4, min_samples_split=3 \n",
      "[CV]  bootstrap=True, max_depth=6, max_features=0.2038256043044998, min_samples_leaf=5, min_samples_split=6, total= 4.1min\n",
      "[CV] bootstrap=True, max_depth=None, max_features=0.11528324754151764, min_samples_leaf=4, min_samples_split=3 \n",
      "[CV]  bootstrap=True, max_depth=6, max_features=0.2038256043044998, min_samples_leaf=5, min_samples_split=6, total= 4.0min\n",
      "[CV] bootstrap=True, max_depth=None, max_features=0.11528324754151764, min_samples_leaf=4, min_samples_split=3 \n",
      "[CV]  bootstrap=True, max_depth=None, max_features=0.11528324754151764, min_samples_leaf=4, min_samples_split=3, total=11.0min\n",
      "[CV] bootstrap=True, max_depth=6, max_features=0.7981573693769849, min_samples_leaf=6, min_samples_split=10 \n",
      "[CV]  bootstrap=True, max_depth=None, max_features=0.11528324754151764, min_samples_leaf=4, min_samples_split=3, total=11.2min\n",
      "[CV] bootstrap=True, max_depth=6, max_features=0.7981573693769849, min_samples_leaf=6, min_samples_split=10 \n",
      "[CV]  bootstrap=True, max_depth=None, max_features=0.11528324754151764, min_samples_leaf=4, min_samples_split=3, total=11.3min\n",
      "[CV] bootstrap=True, max_depth=6, max_features=0.7981573693769849, min_samples_leaf=6, min_samples_split=10 \n",
      "[CV]  bootstrap=True, max_depth=None, max_features=0.11528324754151764, min_samples_leaf=4, min_samples_split=3, total=11.2min\n",
      "[CV] bootstrap=True, max_depth=6, max_features=0.7981573693769849, min_samples_leaf=6, min_samples_split=10 \n",
      "[CV]  bootstrap=True, max_depth=6, max_features=0.7981573693769849, min_samples_leaf=6, min_samples_split=10, total=15.2min\n",
      "[CV] bootstrap=True, max_depth=3, max_features=0.4329081347255478, min_samples_leaf=7, min_samples_split=3 \n",
      "[CV]  bootstrap=True, max_depth=6, max_features=0.7981573693769849, min_samples_leaf=6, min_samples_split=10, total=15.0min\n",
      "[CV] bootstrap=True, max_depth=3, max_features=0.4329081347255478, min_samples_leaf=7, min_samples_split=3 \n",
      "[CV]  bootstrap=True, max_depth=6, max_features=0.7981573693769849, min_samples_leaf=6, min_samples_split=10, total=15.0min\n",
      "[CV] bootstrap=True, max_depth=3, max_features=0.4329081347255478, min_samples_leaf=7, min_samples_split=3 \n"
     ]
    },
    {
     "name": "stdout",
     "output_type": "stream",
     "text": [
      "[CV]  bootstrap=True, max_depth=6, max_features=0.7981573693769849, min_samples_leaf=6, min_samples_split=10, total=15.4min\n",
      "[CV] bootstrap=True, max_depth=3, max_features=0.4329081347255478, min_samples_leaf=7, min_samples_split=3 \n",
      "[CV]  bootstrap=True, max_depth=3, max_features=0.4329081347255478, min_samples_leaf=7, min_samples_split=3, total= 3.8min\n",
      "[CV] bootstrap=False, max_depth=6, max_features=0.9703257276912514, min_samples_leaf=8, min_samples_split=10 \n",
      "[CV]  bootstrap=True, max_depth=3, max_features=0.4329081347255478, min_samples_leaf=7, min_samples_split=3, total= 3.8min\n",
      "[CV] bootstrap=False, max_depth=6, max_features=0.9703257276912514, min_samples_leaf=8, min_samples_split=10 \n",
      "[CV]  bootstrap=True, max_depth=3, max_features=0.4329081347255478, min_samples_leaf=7, min_samples_split=3, total= 3.8min\n",
      "[CV] bootstrap=False, max_depth=6, max_features=0.9703257276912514, min_samples_leaf=8, min_samples_split=10 \n",
      "[CV]  bootstrap=True, max_depth=3, max_features=0.4329081347255478, min_samples_leaf=7, min_samples_split=3, total= 3.8min\n",
      "[CV] bootstrap=False, max_depth=6, max_features=0.9703257276912514, min_samples_leaf=8, min_samples_split=10 \n",
      "[CV]  bootstrap=False, max_depth=None, max_features=0.3342880228824172, min_samples_leaf=3, min_samples_split=8, total=47.2min\n",
      "[CV] bootstrap=True, max_depth=6, max_features=0.8377943187320539, min_samples_leaf=2, min_samples_split=7 \n",
      "[CV]  bootstrap=False, max_depth=None, max_features=0.3342880228824172, min_samples_leaf=3, min_samples_split=8, total=47.2min\n",
      "[CV] bootstrap=True, max_depth=6, max_features=0.8377943187320539, min_samples_leaf=2, min_samples_split=7 \n",
      "[CV]  bootstrap=False, max_depth=None, max_features=0.3342880228824172, min_samples_leaf=3, min_samples_split=8, total=47.7min\n",
      "[CV] bootstrap=True, max_depth=6, max_features=0.8377943187320539, min_samples_leaf=2, min_samples_split=7 \n",
      "[CV]  bootstrap=False, max_depth=None, max_features=0.3342880228824172, min_samples_leaf=3, min_samples_split=8, total=47.8min\n",
      "[CV] bootstrap=True, max_depth=6, max_features=0.8377943187320539, min_samples_leaf=2, min_samples_split=7 \n",
      "[CV]  bootstrap=False, max_depth=6, max_features=0.9703257276912514, min_samples_leaf=8, min_samples_split=10, total=25.0min\n",
      "[CV] bootstrap=True, max_depth=6, max_features=0.6171325909106306, min_samples_leaf=6, min_samples_split=2 \n",
      "[CV]  bootstrap=False, max_depth=6, max_features=0.9703257276912514, min_samples_leaf=8, min_samples_split=10, total=24.4min\n",
      "[CV] bootstrap=True, max_depth=6, max_features=0.6171325909106306, min_samples_leaf=6, min_samples_split=2 \n",
      "[CV]  bootstrap=True, max_depth=6, max_features=0.8377943187320539, min_samples_leaf=2, min_samples_split=7, total=14.5min\n",
      "[CV] bootstrap=True, max_depth=6, max_features=0.6171325909106306, min_samples_leaf=6, min_samples_split=2 \n",
      "[CV]  bootstrap=False, max_depth=6, max_features=0.9703257276912514, min_samples_leaf=8, min_samples_split=10, total=25.2min\n",
      "[CV] bootstrap=True, max_depth=6, max_features=0.6171325909106306, min_samples_leaf=6, min_samples_split=2 \n",
      "[CV]  bootstrap=True, max_depth=6, max_features=0.8377943187320539, min_samples_leaf=2, min_samples_split=7, total=14.4min\n",
      "[CV] bootstrap=True, max_depth=3, max_features=0.9487677037544234, min_samples_leaf=10, min_samples_split=3 \n",
      "[CV]  bootstrap=False, max_depth=6, max_features=0.9703257276912514, min_samples_leaf=8, min_samples_split=10, total=25.4min\n",
      "[CV] bootstrap=True, max_depth=3, max_features=0.9487677037544234, min_samples_leaf=10, min_samples_split=3 \n",
      "[CV]  bootstrap=True, max_depth=6, max_features=0.8377943187320539, min_samples_leaf=2, min_samples_split=7, total=14.4min\n",
      "[CV] bootstrap=True, max_depth=3, max_features=0.9487677037544234, min_samples_leaf=10, min_samples_split=3 \n",
      "[CV]  bootstrap=True, max_depth=6, max_features=0.8377943187320539, min_samples_leaf=2, min_samples_split=7, total=14.7min\n",
      "[CV] bootstrap=True, max_depth=3, max_features=0.9487677037544234, min_samples_leaf=10, min_samples_split=3 \n",
      "[CV]  bootstrap=True, max_depth=3, max_features=0.9487677037544234, min_samples_leaf=10, min_samples_split=3, total= 7.4min\n",
      "[CV] bootstrap=True, max_depth=None, max_features=0.11622585239685712, min_samples_leaf=7, min_samples_split=2 \n",
      "[CV]  bootstrap=True, max_depth=3, max_features=0.9487677037544234, min_samples_leaf=10, min_samples_split=3, total= 7.4min\n",
      "[CV] bootstrap=True, max_depth=None, max_features=0.11622585239685712, min_samples_leaf=7, min_samples_split=2 \n",
      "[CV]  bootstrap=True, max_depth=3, max_features=0.9487677037544234, min_samples_leaf=10, min_samples_split=3, total= 7.5min\n",
      "[CV] bootstrap=True, max_depth=None, max_features=0.11622585239685712, min_samples_leaf=7, min_samples_split=2 \n",
      "[CV]  bootstrap=True, max_depth=3, max_features=0.9487677037544234, min_samples_leaf=10, min_samples_split=3, total= 7.6min\n",
      "[CV] bootstrap=True, max_depth=None, max_features=0.11622585239685712, min_samples_leaf=7, min_samples_split=2 \n",
      "[CV]  bootstrap=True, max_depth=6, max_features=0.6171325909106306, min_samples_leaf=6, min_samples_split=2, total=10.3min\n",
      "[CV] bootstrap=False, max_depth=None, max_features=0.16970746805991188, min_samples_leaf=9, min_samples_split=3 \n",
      "[CV]  bootstrap=True, max_depth=6, max_features=0.6171325909106306, min_samples_leaf=6, min_samples_split=2, total=10.4min\n",
      "[CV] bootstrap=False, max_depth=None, max_features=0.16970746805991188, min_samples_leaf=9, min_samples_split=3 \n",
      "[CV]  bootstrap=True, max_depth=6, max_features=0.6171325909106306, min_samples_leaf=6, min_samples_split=2, total=10.4min\n",
      "[CV] bootstrap=False, max_depth=None, max_features=0.16970746805991188, min_samples_leaf=9, min_samples_split=3 \n",
      "[CV]  bootstrap=True, max_depth=6, max_features=0.6171325909106306, min_samples_leaf=6, min_samples_split=2, total=10.7min\n",
      "[CV] bootstrap=False, max_depth=None, max_features=0.16970746805991188, min_samples_leaf=9, min_samples_split=3 \n",
      "[CV]  bootstrap=True, max_depth=None, max_features=0.11622585239685712, min_samples_leaf=7, min_samples_split=2, total= 8.4min\n",
      "[CV]  bootstrap=True, max_depth=None, max_features=0.11622585239685712, min_samples_leaf=7, min_samples_split=2, total= 8.5min\n",
      "[CV]  bootstrap=True, max_depth=None, max_features=0.11622585239685712, min_samples_leaf=7, min_samples_split=2, total= 8.6min\n",
      "[CV]  bootstrap=True, max_depth=None, max_features=0.11622585239685712, min_samples_leaf=7, min_samples_split=2, total= 8.6min\n",
      "[CV]  bootstrap=False, max_depth=None, max_features=0.16970746805991188, min_samples_leaf=9, min_samples_split=3, total=14.2min\n",
      "[CV]  bootstrap=False, max_depth=None, max_features=0.16970746805991188, min_samples_leaf=9, min_samples_split=3, total=14.0min\n",
      "[CV]  bootstrap=False, max_depth=None, max_features=0.16970746805991188, min_samples_leaf=9, min_samples_split=3, total=13.9min\n",
      "[CV]  bootstrap=False, max_depth=None, max_features=0.16970746805991188, min_samples_leaf=9, min_samples_split=3, total=14.0min\n"
     ]
    },
    {
     "name": "stderr",
     "output_type": "stream",
     "text": [
      "[Parallel(n_jobs=8)]: Done 128 out of 128 | elapsed: 280.7min finished\n"
     ]
    },
    {
     "name": "stdout",
     "output_type": "stream",
     "text": [
      "RandomizedSearchCV took 17926.85 seconds for 32 candidates parameter settings.\n"
     ]
    }
   ],
   "source": [
    "start = time()\n",
    "random_search.fit(train, y_train)\n",
    "print(\"RandomizedSearchCV took %.2f seconds for %d candidates parameter settings.\" % ((time() - start), n_iter_search))"
   ]
  },
  {
   "cell_type": "code",
   "execution_count": 14,
   "metadata": {
    "ExecuteTime": {
     "end_time": "2018-07-03T05:41:57.488078Z",
     "start_time": "2018-07-03T05:41:57.463580Z"
    },
    "scrolled": false
   },
   "outputs": [
    {
     "data": {
      "text/html": [
       "<div>\n",
       "<style>\n",
       "    .dataframe thead tr:only-child th {\n",
       "        text-align: right;\n",
       "    }\n",
       "\n",
       "    .dataframe thead th {\n",
       "        text-align: left;\n",
       "    }\n",
       "\n",
       "    .dataframe tbody tr th {\n",
       "        vertical-align: top;\n",
       "    }\n",
       "</style>\n",
       "<table border=\"1\" class=\"dataframe\">\n",
       "  <thead>\n",
       "    <tr style=\"text-align: right;\">\n",
       "      <th></th>\n",
       "      <th>mean_fit_time</th>\n",
       "      <th>mean_score_time</th>\n",
       "      <th>mean_test_score</th>\n",
       "      <th>mean_train_score</th>\n",
       "      <th>param_bootstrap</th>\n",
       "      <th>param_max_depth</th>\n",
       "      <th>param_max_features</th>\n",
       "      <th>param_min_samples_leaf</th>\n",
       "      <th>param_min_samples_split</th>\n",
       "    </tr>\n",
       "  </thead>\n",
       "  <tbody>\n",
       "    <tr>\n",
       "      <th>0</th>\n",
       "      <td>345.311288</td>\n",
       "      <td>0.303371</td>\n",
       "      <td>-2.474091</td>\n",
       "      <td>-2.156342</td>\n",
       "      <td>False</td>\n",
       "      <td>6</td>\n",
       "      <td>0.198847</td>\n",
       "      <td>2</td>\n",
       "      <td>4</td>\n",
       "    </tr>\n",
       "    <tr>\n",
       "      <th>1</th>\n",
       "      <td>2416.266163</td>\n",
       "      <td>1.306735</td>\n",
       "      <td>-2.077900</td>\n",
       "      <td>-0.163972</td>\n",
       "      <td>False</td>\n",
       "      <td>None</td>\n",
       "      <td>0.269903</td>\n",
       "      <td>3</td>\n",
       "      <td>3</td>\n",
       "    </tr>\n",
       "    <tr>\n",
       "      <th>2</th>\n",
       "      <td>1105.797955</td>\n",
       "      <td>0.312099</td>\n",
       "      <td>-2.410534</td>\n",
       "      <td>-2.112925</td>\n",
       "      <td>True</td>\n",
       "      <td>6</td>\n",
       "      <td>0.991756</td>\n",
       "      <td>6</td>\n",
       "      <td>2</td>\n",
       "    </tr>\n",
       "    <tr>\n",
       "      <th>3</th>\n",
       "      <td>4884.298717</td>\n",
       "      <td>0.891159</td>\n",
       "      <td>-2.186199</td>\n",
       "      <td>-0.482989</td>\n",
       "      <td>False</td>\n",
       "      <td>None</td>\n",
       "      <td>0.739107</td>\n",
       "      <td>6</td>\n",
       "      <td>7</td>\n",
       "    </tr>\n",
       "    <tr>\n",
       "      <th>4</th>\n",
       "      <td>591.298427</td>\n",
       "      <td>0.274287</td>\n",
       "      <td>-2.444088</td>\n",
       "      <td>-2.121102</td>\n",
       "      <td>False</td>\n",
       "      <td>6</td>\n",
       "      <td>0.358575</td>\n",
       "      <td>5</td>\n",
       "      <td>9</td>\n",
       "    </tr>\n",
       "    <tr>\n",
       "      <th>5</th>\n",
       "      <td>30.342612</td>\n",
       "      <td>0.186332</td>\n",
       "      <td>-2.774360</td>\n",
       "      <td>-2.703432</td>\n",
       "      <td>False</td>\n",
       "      <td>3</td>\n",
       "      <td>0.036191</td>\n",
       "      <td>4</td>\n",
       "      <td>2</td>\n",
       "    </tr>\n",
       "    <tr>\n",
       "      <th>6</th>\n",
       "      <td>1540.686499</td>\n",
       "      <td>1.168308</td>\n",
       "      <td>-2.046739</td>\n",
       "      <td>-0.622629</td>\n",
       "      <td>True</td>\n",
       "      <td>None</td>\n",
       "      <td>0.270323</td>\n",
       "      <td>3</td>\n",
       "      <td>8</td>\n",
       "    </tr>\n",
       "    <tr>\n",
       "      <th>7</th>\n",
       "      <td>1110.998215</td>\n",
       "      <td>0.270112</td>\n",
       "      <td>-2.410932</td>\n",
       "      <td>-2.096096</td>\n",
       "      <td>True</td>\n",
       "      <td>6</td>\n",
       "      <td>0.992305</td>\n",
       "      <td>3</td>\n",
       "      <td>9</td>\n",
       "    </tr>\n",
       "    <tr>\n",
       "      <th>8</th>\n",
       "      <td>225.637775</td>\n",
       "      <td>0.197644</td>\n",
       "      <td>-2.672061</td>\n",
       "      <td>-2.570802</td>\n",
       "      <td>True</td>\n",
       "      <td>3</td>\n",
       "      <td>0.428956</td>\n",
       "      <td>1</td>\n",
       "      <td>4</td>\n",
       "    </tr>\n",
       "    <tr>\n",
       "      <th>9</th>\n",
       "      <td>3935.940616</td>\n",
       "      <td>1.342126</td>\n",
       "      <td>-2.111184</td>\n",
       "      <td>-0.112288</td>\n",
       "      <td>False</td>\n",
       "      <td>None</td>\n",
       "      <td>0.39891</td>\n",
       "      <td>2</td>\n",
       "      <td>10</td>\n",
       "    </tr>\n",
       "    <tr>\n",
       "      <th>10</th>\n",
       "      <td>274.801754</td>\n",
       "      <td>0.204571</td>\n",
       "      <td>-2.671663</td>\n",
       "      <td>-2.568701</td>\n",
       "      <td>True</td>\n",
       "      <td>3</td>\n",
       "      <td>0.502275</td>\n",
       "      <td>2</td>\n",
       "      <td>10</td>\n",
       "    </tr>\n",
       "    <tr>\n",
       "      <th>11</th>\n",
       "      <td>776.252306</td>\n",
       "      <td>0.858513</td>\n",
       "      <td>-2.068887</td>\n",
       "      <td>-1.053754</td>\n",
       "      <td>True</td>\n",
       "      <td>None</td>\n",
       "      <td>0.16413</td>\n",
       "      <td>6</td>\n",
       "      <td>4</td>\n",
       "    </tr>\n",
       "    <tr>\n",
       "      <th>12</th>\n",
       "      <td>308.764808</td>\n",
       "      <td>0.212960</td>\n",
       "      <td>-2.670785</td>\n",
       "      <td>-2.571666</td>\n",
       "      <td>True</td>\n",
       "      <td>3</td>\n",
       "      <td>0.570264</td>\n",
       "      <td>8</td>\n",
       "      <td>4</td>\n",
       "    </tr>\n",
       "    <tr>\n",
       "      <th>13</th>\n",
       "      <td>2079.770864</td>\n",
       "      <td>0.993422</td>\n",
       "      <td>-2.048692</td>\n",
       "      <td>-0.714279</td>\n",
       "      <td>True</td>\n",
       "      <td>None</td>\n",
       "      <td>0.401198</td>\n",
       "      <td>4</td>\n",
       "      <td>8</td>\n",
       "    </tr>\n",
       "    <tr>\n",
       "      <th>14</th>\n",
       "      <td>970.492588</td>\n",
       "      <td>0.235027</td>\n",
       "      <td>-2.457876</td>\n",
       "      <td>-2.091298</td>\n",
       "      <td>False</td>\n",
       "      <td>6</td>\n",
       "      <td>0.619843</td>\n",
       "      <td>3</td>\n",
       "      <td>3</td>\n",
       "    </tr>\n",
       "    <tr>\n",
       "      <th>15</th>\n",
       "      <td>653.554228</td>\n",
       "      <td>0.250513</td>\n",
       "      <td>-2.419058</td>\n",
       "      <td>-2.112993</td>\n",
       "      <td>True</td>\n",
       "      <td>6</td>\n",
       "      <td>0.630655</td>\n",
       "      <td>1</td>\n",
       "      <td>7</td>\n",
       "    </tr>\n",
       "    <tr>\n",
       "      <th>16</th>\n",
       "      <td>174.144486</td>\n",
       "      <td>0.232056</td>\n",
       "      <td>-2.476588</td>\n",
       "      <td>-2.251020</td>\n",
       "      <td>True</td>\n",
       "      <td>6</td>\n",
       "      <td>0.170735</td>\n",
       "      <td>7</td>\n",
       "      <td>3</td>\n",
       "    </tr>\n",
       "    <tr>\n",
       "      <th>17</th>\n",
       "      <td>239.082087</td>\n",
       "      <td>0.275222</td>\n",
       "      <td>-2.491071</td>\n",
       "      <td>-2.230993</td>\n",
       "      <td>False</td>\n",
       "      <td>6</td>\n",
       "      <td>0.14778</td>\n",
       "      <td>8</td>\n",
       "      <td>4</td>\n",
       "    </tr>\n",
       "    <tr>\n",
       "      <th>18</th>\n",
       "      <td>557.342522</td>\n",
       "      <td>0.802485</td>\n",
       "      <td>-2.063639</td>\n",
       "      <td>-0.974053</td>\n",
       "      <td>True</td>\n",
       "      <td>None</td>\n",
       "      <td>0.119516</td>\n",
       "      <td>5</td>\n",
       "      <td>10</td>\n",
       "    </tr>\n",
       "    <tr>\n",
       "      <th>19</th>\n",
       "      <td>877.797679</td>\n",
       "      <td>0.271924</td>\n",
       "      <td>-2.447897</td>\n",
       "      <td>-2.095957</td>\n",
       "      <td>False</td>\n",
       "      <td>6</td>\n",
       "      <td>0.543475</td>\n",
       "      <td>4</td>\n",
       "      <td>3</td>\n",
       "    </tr>\n",
       "    <tr>\n",
       "      <th>20</th>\n",
       "      <td>366.822235</td>\n",
       "      <td>0.175277</td>\n",
       "      <td>-2.671214</td>\n",
       "      <td>-2.562368</td>\n",
       "      <td>True</td>\n",
       "      <td>3</td>\n",
       "      <td>0.76686</td>\n",
       "      <td>3</td>\n",
       "      <td>7</td>\n",
       "    </tr>\n",
       "    <tr>\n",
       "      <th>21</th>\n",
       "      <td>2846.327411</td>\n",
       "      <td>1.072928</td>\n",
       "      <td>-2.088037</td>\n",
       "      <td>-0.181820</td>\n",
       "      <td>False</td>\n",
       "      <td>None</td>\n",
       "      <td>0.334288</td>\n",
       "      <td>3</td>\n",
       "      <td>8</td>\n",
       "    </tr>\n",
       "    <tr>\n",
       "      <th>22</th>\n",
       "      <td>240.536926</td>\n",
       "      <td>0.277119</td>\n",
       "      <td>-2.469024</td>\n",
       "      <td>-2.223442</td>\n",
       "      <td>True</td>\n",
       "      <td>6</td>\n",
       "      <td>0.203826</td>\n",
       "      <td>5</td>\n",
       "      <td>6</td>\n",
       "    </tr>\n",
       "    <tr>\n",
       "      <th>23</th>\n",
       "      <td>670.263987</td>\n",
       "      <td>1.044700</td>\n",
       "      <td>-2.052968</td>\n",
       "      <td>-0.833144</td>\n",
       "      <td>True</td>\n",
       "      <td>None</td>\n",
       "      <td>0.115283</td>\n",
       "      <td>4</td>\n",
       "      <td>3</td>\n",
       "    </tr>\n",
       "    <tr>\n",
       "      <th>24</th>\n",
       "      <td>908.988009</td>\n",
       "      <td>0.282227</td>\n",
       "      <td>-2.413379</td>\n",
       "      <td>-2.124271</td>\n",
       "      <td>True</td>\n",
       "      <td>6</td>\n",
       "      <td>0.798157</td>\n",
       "      <td>6</td>\n",
       "      <td>10</td>\n",
       "    </tr>\n",
       "    <tr>\n",
       "      <th>25</th>\n",
       "      <td>228.777354</td>\n",
       "      <td>0.191998</td>\n",
       "      <td>-2.671772</td>\n",
       "      <td>-2.576690</td>\n",
       "      <td>True</td>\n",
       "      <td>3</td>\n",
       "      <td>0.432908</td>\n",
       "      <td>7</td>\n",
       "      <td>3</td>\n",
       "    </tr>\n",
       "    <tr>\n",
       "      <th>26</th>\n",
       "      <td>1500.500331</td>\n",
       "      <td>0.219283</td>\n",
       "      <td>-2.726110</td>\n",
       "      <td>-2.313093</td>\n",
       "      <td>False</td>\n",
       "      <td>6</td>\n",
       "      <td>0.970326</td>\n",
       "      <td>8</td>\n",
       "      <td>10</td>\n",
       "    </tr>\n",
       "    <tr>\n",
       "      <th>27</th>\n",
       "      <td>869.554077</td>\n",
       "      <td>0.242526</td>\n",
       "      <td>-2.413181</td>\n",
       "      <td>-2.098182</td>\n",
       "      <td>True</td>\n",
       "      <td>6</td>\n",
       "      <td>0.837794</td>\n",
       "      <td>2</td>\n",
       "      <td>7</td>\n",
       "    </tr>\n",
       "    <tr>\n",
       "      <th>28</th>\n",
       "      <td>625.952107</td>\n",
       "      <td>0.286313</td>\n",
       "      <td>-2.417846</td>\n",
       "      <td>-2.139035</td>\n",
       "      <td>True</td>\n",
       "      <td>6</td>\n",
       "      <td>0.617133</td>\n",
       "      <td>6</td>\n",
       "      <td>2</td>\n",
       "    </tr>\n",
       "    <tr>\n",
       "      <th>29</th>\n",
       "      <td>449.202922</td>\n",
       "      <td>0.189269</td>\n",
       "      <td>-2.669411</td>\n",
       "      <td>-2.565066</td>\n",
       "      <td>True</td>\n",
       "      <td>3</td>\n",
       "      <td>0.948768</td>\n",
       "      <td>10</td>\n",
       "      <td>3</td>\n",
       "    </tr>\n",
       "    <tr>\n",
       "      <th>30</th>\n",
       "      <td>509.376006</td>\n",
       "      <td>0.713847</td>\n",
       "      <td>-2.083014</td>\n",
       "      <td>-1.197644</td>\n",
       "      <td>True</td>\n",
       "      <td>None</td>\n",
       "      <td>0.116226</td>\n",
       "      <td>7</td>\n",
       "      <td>2</td>\n",
       "    </tr>\n",
       "    <tr>\n",
       "      <th>31</th>\n",
       "      <td>841.747832</td>\n",
       "      <td>0.419401</td>\n",
       "      <td>-2.084482</td>\n",
       "      <td>-0.915646</td>\n",
       "      <td>False</td>\n",
       "      <td>None</td>\n",
       "      <td>0.169707</td>\n",
       "      <td>9</td>\n",
       "      <td>3</td>\n",
       "    </tr>\n",
       "  </tbody>\n",
       "</table>\n",
       "</div>"
      ],
      "text/plain": [
       "    mean_fit_time  mean_score_time  mean_test_score  mean_train_score  \\\n",
       "0      345.311288         0.303371        -2.474091         -2.156342   \n",
       "1     2416.266163         1.306735        -2.077900         -0.163972   \n",
       "2     1105.797955         0.312099        -2.410534         -2.112925   \n",
       "3     4884.298717         0.891159        -2.186199         -0.482989   \n",
       "4      591.298427         0.274287        -2.444088         -2.121102   \n",
       "5       30.342612         0.186332        -2.774360         -2.703432   \n",
       "6     1540.686499         1.168308        -2.046739         -0.622629   \n",
       "7     1110.998215         0.270112        -2.410932         -2.096096   \n",
       "8      225.637775         0.197644        -2.672061         -2.570802   \n",
       "9     3935.940616         1.342126        -2.111184         -0.112288   \n",
       "10     274.801754         0.204571        -2.671663         -2.568701   \n",
       "11     776.252306         0.858513        -2.068887         -1.053754   \n",
       "12     308.764808         0.212960        -2.670785         -2.571666   \n",
       "13    2079.770864         0.993422        -2.048692         -0.714279   \n",
       "14     970.492588         0.235027        -2.457876         -2.091298   \n",
       "15     653.554228         0.250513        -2.419058         -2.112993   \n",
       "16     174.144486         0.232056        -2.476588         -2.251020   \n",
       "17     239.082087         0.275222        -2.491071         -2.230993   \n",
       "18     557.342522         0.802485        -2.063639         -0.974053   \n",
       "19     877.797679         0.271924        -2.447897         -2.095957   \n",
       "20     366.822235         0.175277        -2.671214         -2.562368   \n",
       "21    2846.327411         1.072928        -2.088037         -0.181820   \n",
       "22     240.536926         0.277119        -2.469024         -2.223442   \n",
       "23     670.263987         1.044700        -2.052968         -0.833144   \n",
       "24     908.988009         0.282227        -2.413379         -2.124271   \n",
       "25     228.777354         0.191998        -2.671772         -2.576690   \n",
       "26    1500.500331         0.219283        -2.726110         -2.313093   \n",
       "27     869.554077         0.242526        -2.413181         -2.098182   \n",
       "28     625.952107         0.286313        -2.417846         -2.139035   \n",
       "29     449.202922         0.189269        -2.669411         -2.565066   \n",
       "30     509.376006         0.713847        -2.083014         -1.197644   \n",
       "31     841.747832         0.419401        -2.084482         -0.915646   \n",
       "\n",
       "   param_bootstrap param_max_depth param_max_features param_min_samples_leaf  \\\n",
       "0            False               6           0.198847                      2   \n",
       "1            False            None           0.269903                      3   \n",
       "2             True               6           0.991756                      6   \n",
       "3            False            None           0.739107                      6   \n",
       "4            False               6           0.358575                      5   \n",
       "5            False               3           0.036191                      4   \n",
       "6             True            None           0.270323                      3   \n",
       "7             True               6           0.992305                      3   \n",
       "8             True               3           0.428956                      1   \n",
       "9            False            None            0.39891                      2   \n",
       "10            True               3           0.502275                      2   \n",
       "11            True            None            0.16413                      6   \n",
       "12            True               3           0.570264                      8   \n",
       "13            True            None           0.401198                      4   \n",
       "14           False               6           0.619843                      3   \n",
       "15            True               6           0.630655                      1   \n",
       "16            True               6           0.170735                      7   \n",
       "17           False               6            0.14778                      8   \n",
       "18            True            None           0.119516                      5   \n",
       "19           False               6           0.543475                      4   \n",
       "20            True               3            0.76686                      3   \n",
       "21           False            None           0.334288                      3   \n",
       "22            True               6           0.203826                      5   \n",
       "23            True            None           0.115283                      4   \n",
       "24            True               6           0.798157                      6   \n",
       "25            True               3           0.432908                      7   \n",
       "26           False               6           0.970326                      8   \n",
       "27            True               6           0.837794                      2   \n",
       "28            True               6           0.617133                      6   \n",
       "29            True               3           0.948768                     10   \n",
       "30            True            None           0.116226                      7   \n",
       "31           False            None           0.169707                      9   \n",
       "\n",
       "   param_min_samples_split  \n",
       "0                        4  \n",
       "1                        3  \n",
       "2                        2  \n",
       "3                        7  \n",
       "4                        9  \n",
       "5                        2  \n",
       "6                        8  \n",
       "7                        9  \n",
       "8                        4  \n",
       "9                       10  \n",
       "10                      10  \n",
       "11                       4  \n",
       "12                       4  \n",
       "13                       8  \n",
       "14                       3  \n",
       "15                       7  \n",
       "16                       3  \n",
       "17                       4  \n",
       "18                      10  \n",
       "19                       3  \n",
       "20                       7  \n",
       "21                       8  \n",
       "22                       6  \n",
       "23                       3  \n",
       "24                      10  \n",
       "25                       3  \n",
       "26                      10  \n",
       "27                       7  \n",
       "28                       2  \n",
       "29                       3  \n",
       "30                       2  \n",
       "31                       3  "
      ]
     },
     "execution_count": 14,
     "metadata": {},
     "output_type": "execute_result"
    }
   ],
   "source": [
    "pd.DataFrame.from_dict(random_search.cv_results_).iloc[:,:9]"
   ]
  },
  {
   "cell_type": "code",
   "execution_count": 18,
   "metadata": {
    "ExecuteTime": {
     "end_time": "2018-07-03T05:46:57.164030Z",
     "start_time": "2018-07-03T05:46:57.153221Z"
    }
   },
   "outputs": [
    {
     "name": "stdout",
     "output_type": "stream",
     "text": [
      "Model with rank: 1\n",
      "Mean validation score: -2.047 (std: 0.111)\n",
      "Parameters: {'bootstrap': True, 'max_depth': None, 'max_features': 0.2703233753810498, 'min_samples_leaf': 3, 'min_samples_split': 8}\n",
      "Model with rank: 2\n",
      "Mean validation score: -2.049 (std: 0.112)\n",
      "Parameters: {'bootstrap': True, 'max_depth': None, 'max_features': 0.40119839211397557, 'min_samples_leaf': 4, 'min_samples_split': 8}\n",
      "Model with rank: 3\n",
      "Mean validation score: -2.053 (std: 0.111)\n",
      "Parameters: {'bootstrap': True, 'max_depth': None, 'max_features': 0.11528324754151764, 'min_samples_leaf': 4, 'min_samples_split': 3}\n"
     ]
    }
   ],
   "source": [
    "# Utility function to report best scores\n",
    "def report(results, n_top=3):\n",
    "    for i in range(1, n_top + 1):\n",
    "        candidates = np.flatnonzero(results['rank_test_score'] == i)\n",
    "        for candidate in candidates:\n",
    "            print(\"Model with rank: {0}\".format(i))\n",
    "            print(\"Mean validation score: {0:.3f} (std: {1:.3f})\".format(\n",
    "                  results['mean_test_score'][candidate],\n",
    "                  results['std_test_score'][candidate]))\n",
    "            print(\"Parameters: {0}\".format(results['params'][candidate]))\n",
    "report(random_search.cv_results_)"
   ]
  },
  {
   "cell_type": "code",
   "execution_count": 19,
   "metadata": {
    "ExecuteTime": {
     "end_time": "2018-07-03T05:47:56.248490Z",
     "start_time": "2018-07-03T05:47:56.244338Z"
    }
   },
   "outputs": [
    {
     "data": {
      "text/plain": [
       "RandomForestRegressor(bootstrap=True, criterion='mse', max_depth=None,\n",
       "           max_features=0.2703233753810498, max_leaf_nodes=None,\n",
       "           min_impurity_decrease=0.0, min_impurity_split=None,\n",
       "           min_samples_leaf=3, min_samples_split=8,\n",
       "           min_weight_fraction_leaf=0.0, n_estimators=2000, n_jobs=1,\n",
       "           oob_score=False, random_state=8668, verbose=0, warm_start=False)"
      ]
     },
     "execution_count": 19,
     "metadata": {},
     "output_type": "execute_result"
    }
   ],
   "source": [
    "random_search.best_estimator_"
   ]
  },
  {
   "cell_type": "markdown",
   "metadata": {},
   "source": [
    "#### Make predictions on test data with the best estimator"
   ]
  },
  {
   "cell_type": "code",
   "execution_count": 20,
   "metadata": {
    "ExecuteTime": {
     "end_time": "2018-07-03T05:56:07.185750Z",
     "start_time": "2018-07-03T05:55:26.199997Z"
    },
    "collapsed": true
   },
   "outputs": [],
   "source": [
    "sub_df = pd.DataFrame(test_ID, columns=['ID'])\n",
    "y_pred = random_search.predict(test)\n",
    "y_pred = np.exp(y_pred) - 1\n",
    "sub_df['target'] = y_pred"
   ]
  },
  {
   "cell_type": "code",
   "execution_count": 21,
   "metadata": {
    "ExecuteTime": {
     "end_time": "2018-07-03T05:56:15.733048Z",
     "start_time": "2018-07-03T05:56:15.608063Z"
    },
    "collapsed": true
   },
   "outputs": [],
   "source": [
    "sub_df.to_csv('../output/sub_rf_randomizedCV.csv', index=False)"
   ]
  },
  {
   "cell_type": "markdown",
   "metadata": {},
   "source": [
    "Conclusion : The best model gives 1.48 on public leader board.\n",
    "\n",
    "#### Plot oob error "
   ]
  },
  {
   "cell_type": "code",
   "execution_count": 6,
   "metadata": {
    "ExecuteTime": {
     "end_time": "2018-07-03T16:45:33.299806Z",
     "start_time": "2018-07-03T16:45:33.239940Z"
    },
    "collapsed": true
   },
   "outputs": [],
   "source": [
    "def _oob_errors_max_features(X_train, y_train):\n",
    "    min_est, max_est, delta_est = 100, 2000, 100\n",
    "    ensemble_clfs = [\n",
    "        (\"RandomForestRegressor, max_features=0.27\",\n",
    "         RandomForestRegressor(n_jobs=-1, oob_score=True, max_features=0.27, random_state=3668)),\n",
    "        (\"RandomForestRegressor, max_features='sqrt'\",\n",
    "         RandomForestRegressor(n_jobs=-1, oob_score=True, max_features=\"sqrt\", random_state=3668)),\n",
    "        (\"RandomForestRegressor, max_features='log2'\",\n",
    "         RandomForestRegressor(n_jobs=-1, max_features='log2', oob_score=True, random_state=3668)),\n",
    "        (\"RandomForestRegressor, max_features=None\",\n",
    "         RandomForestRegressor(n_jobs=-1, max_features=None, oob_score=True, random_state=3668))\n",
    "        ]\n",
    "    error_rate = OrderedDict((label, []) for label, _ in ensemble_clfs)\n",
    "    params = {\"max_depth\": None,\n",
    "              \"min_samples_split\": 8,\n",
    "              \"min_samples_leaf\": 3,\n",
    "              \"bootstrap\": True\n",
    "              }\n",
    "\n",
    "    for label, clf in ensemble_clfs:\n",
    "        clf.set_params(**params)\n",
    "        for i in range(min_est, max_est + 1, delta_est):\n",
    "            print(label, 'n_estimators: ', i, end='\\t')\n",
    "            start = time()\n",
    "            clf.set_params(n_estimators=i)\n",
    "            clf.fit(X_train, y_train)\n",
    "            oob_error = 1 - clf.oob_score_\n",
    "            error_rate[label].append((i, oob_error))\n",
    "            \n",
    "            end = time()\n",
    "            m, s = divmod(end-start, 60)\n",
    "            h, m = divmod(m, 60)\n",
    "            print(\"time elapsed: %d:%02d:%02d\" % (h, m, s))\n",
    "\n",
    "    for label, clf_err in error_rate.items():\n",
    "        xs, ys = zip(*clf_err)\n",
    "        plt.plot(xs, ys, label=label)\n",
    "\n",
    "    plt.xlim(min_est, max_est)\n",
    "    plt.xlabel(\"n_estimators\")\n",
    "    plt.ylabel(\"OOB error rate\")\n",
    "    plt.legend(loc=\"upper right\")\n",
    "    plt.tight_layout()\n",
    "    plt.show()"
   ]
  },
  {
   "cell_type": "code",
   "execution_count": 7,
   "metadata": {
    "ExecuteTime": {
     "end_time": "2018-07-03T21:31:01.695562Z",
     "start_time": "2018-07-03T16:45:34.244300Z"
    }
   },
   "outputs": [
    {
     "name": "stdout",
     "output_type": "stream",
     "text": [
      "RandomForestRegressor, max_features=0.27 n_estimators:  100\ttime elapsed: 0:00:29\n",
      "RandomForestRegressor, max_features=0.27 n_estimators:  200\ttime elapsed: 0:00:56\n",
      "RandomForestRegressor, max_features=0.27 n_estimators:  300\ttime elapsed: 0:01:24\n",
      "RandomForestRegressor, max_features=0.27 n_estimators:  400\ttime elapsed: 0:01:51\n",
      "RandomForestRegressor, max_features=0.27 n_estimators:  500\ttime elapsed: 0:02:19\n",
      "RandomForestRegressor, max_features=0.27 n_estimators:  600\ttime elapsed: 0:02:46\n",
      "RandomForestRegressor, max_features=0.27 n_estimators:  700\ttime elapsed: 0:03:14\n",
      "RandomForestRegressor, max_features=0.27 n_estimators:  800\ttime elapsed: 0:03:42\n",
      "RandomForestRegressor, max_features=0.27 n_estimators:  900\ttime elapsed: 0:04:09\n",
      "RandomForestRegressor, max_features=0.27 n_estimators:  1000\ttime elapsed: 0:04:41\n",
      "RandomForestRegressor, max_features=0.27 n_estimators:  1100\ttime elapsed: 0:05:07\n",
      "RandomForestRegressor, max_features=0.27 n_estimators:  1200\ttime elapsed: 0:05:32\n",
      "RandomForestRegressor, max_features=0.27 n_estimators:  1300\ttime elapsed: 0:06:07\n",
      "RandomForestRegressor, max_features=0.27 n_estimators:  1400\ttime elapsed: 0:04:13\n",
      "RandomForestRegressor, max_features=0.27 n_estimators:  1500\ttime elapsed: 0:04:20\n",
      "RandomForestRegressor, max_features=0.27 n_estimators:  1600\ttime elapsed: 0:04:39\n",
      "RandomForestRegressor, max_features=0.27 n_estimators:  1700\ttime elapsed: 0:04:55\n",
      "RandomForestRegressor, max_features=0.27 n_estimators:  1800\ttime elapsed: 0:05:14\n",
      "RandomForestRegressor, max_features=0.27 n_estimators:  1900\ttime elapsed: 0:05:28\n",
      "RandomForestRegressor, max_features=0.27 n_estimators:  2000\ttime elapsed: 0:05:46\n",
      "RandomForestRegressor, max_features='sqrt' n_estimators:  100\ttime elapsed: 0:00:03\n",
      "RandomForestRegressor, max_features='sqrt' n_estimators:  200\ttime elapsed: 0:00:06\n",
      "RandomForestRegressor, max_features='sqrt' n_estimators:  300\ttime elapsed: 0:00:10\n",
      "RandomForestRegressor, max_features='sqrt' n_estimators:  400\ttime elapsed: 0:00:13\n",
      "RandomForestRegressor, max_features='sqrt' n_estimators:  500\ttime elapsed: 0:00:17\n",
      "RandomForestRegressor, max_features='sqrt' n_estimators:  600\ttime elapsed: 0:00:20\n",
      "RandomForestRegressor, max_features='sqrt' n_estimators:  700\ttime elapsed: 0:00:24\n",
      "RandomForestRegressor, max_features='sqrt' n_estimators:  800\ttime elapsed: 0:00:27\n",
      "RandomForestRegressor, max_features='sqrt' n_estimators:  900\ttime elapsed: 0:00:31\n",
      "RandomForestRegressor, max_features='sqrt' n_estimators:  1000\ttime elapsed: 0:00:34\n",
      "RandomForestRegressor, max_features='sqrt' n_estimators:  1100\ttime elapsed: 0:00:38\n",
      "RandomForestRegressor, max_features='sqrt' n_estimators:  1200\ttime elapsed: 0:00:41\n",
      "RandomForestRegressor, max_features='sqrt' n_estimators:  1300\ttime elapsed: 0:00:44\n",
      "RandomForestRegressor, max_features='sqrt' n_estimators:  1400\ttime elapsed: 0:00:48\n",
      "RandomForestRegressor, max_features='sqrt' n_estimators:  1500\ttime elapsed: 0:00:52\n",
      "RandomForestRegressor, max_features='sqrt' n_estimators:  1600\ttime elapsed: 0:00:55\n",
      "RandomForestRegressor, max_features='sqrt' n_estimators:  1700\ttime elapsed: 0:00:58\n",
      "RandomForestRegressor, max_features='sqrt' n_estimators:  1800\ttime elapsed: 0:01:02\n",
      "RandomForestRegressor, max_features='sqrt' n_estimators:  1900\ttime elapsed: 0:01:06\n",
      "RandomForestRegressor, max_features='sqrt' n_estimators:  2000\ttime elapsed: 0:01:08\n",
      "RandomForestRegressor, max_features='log2' n_estimators:  100\ttime elapsed: 0:00:02\n",
      "RandomForestRegressor, max_features='log2' n_estimators:  200\ttime elapsed: 0:00:05\n",
      "RandomForestRegressor, max_features='log2' n_estimators:  300\ttime elapsed: 0:00:07\n",
      "RandomForestRegressor, max_features='log2' n_estimators:  400\ttime elapsed: 0:00:10\n",
      "RandomForestRegressor, max_features='log2' n_estimators:  500\ttime elapsed: 0:00:12\n",
      "RandomForestRegressor, max_features='log2' n_estimators:  600\ttime elapsed: 0:00:15\n",
      "RandomForestRegressor, max_features='log2' n_estimators:  700\ttime elapsed: 0:00:18\n",
      "RandomForestRegressor, max_features='log2' n_estimators:  800\ttime elapsed: 0:00:20\n",
      "RandomForestRegressor, max_features='log2' n_estimators:  900\ttime elapsed: 0:00:23\n",
      "RandomForestRegressor, max_features='log2' n_estimators:  1000\ttime elapsed: 0:00:26\n",
      "RandomForestRegressor, max_features='log2' n_estimators:  1100\ttime elapsed: 0:00:27\n",
      "RandomForestRegressor, max_features='log2' n_estimators:  1200\ttime elapsed: 0:00:30\n",
      "RandomForestRegressor, max_features='log2' n_estimators:  1300\ttime elapsed: 0:00:32\n",
      "RandomForestRegressor, max_features='log2' n_estimators:  1400\ttime elapsed: 0:00:35\n",
      "RandomForestRegressor, max_features='log2' n_estimators:  1500\ttime elapsed: 0:00:38\n",
      "RandomForestRegressor, max_features='log2' n_estimators:  1600\ttime elapsed: 0:00:40\n",
      "RandomForestRegressor, max_features='log2' n_estimators:  1700\ttime elapsed: 0:00:44\n",
      "RandomForestRegressor, max_features='log2' n_estimators:  1800\ttime elapsed: 0:00:46\n",
      "RandomForestRegressor, max_features='log2' n_estimators:  1900\ttime elapsed: 0:00:48\n",
      "RandomForestRegressor, max_features='log2' n_estimators:  2000\ttime elapsed: 0:00:51\n",
      "RandomForestRegressor, max_features=None n_estimators:  100\ttime elapsed: 0:00:54\n",
      "RandomForestRegressor, max_features=None n_estimators:  200\ttime elapsed: 0:01:47\n",
      "RandomForestRegressor, max_features=None n_estimators:  300\ttime elapsed: 0:02:42\n",
      "RandomForestRegressor, max_features=None n_estimators:  400\ttime elapsed: 0:03:34\n",
      "RandomForestRegressor, max_features=None n_estimators:  500\ttime elapsed: 0:04:27\n",
      "RandomForestRegressor, max_features=None n_estimators:  600\ttime elapsed: 0:05:21\n",
      "RandomForestRegressor, max_features=None n_estimators:  700\ttime elapsed: 0:06:16\n",
      "RandomForestRegressor, max_features=None n_estimators:  800\ttime elapsed: 0:07:10\n",
      "RandomForestRegressor, max_features=None n_estimators:  900\ttime elapsed: 0:08:01\n",
      "RandomForestRegressor, max_features=None n_estimators:  1000\ttime elapsed: 0:08:52\n",
      "RandomForestRegressor, max_features=None n_estimators:  1100\ttime elapsed: 0:09:45\n",
      "RandomForestRegressor, max_features=None n_estimators:  1200\ttime elapsed: 0:10:41\n",
      "RandomForestRegressor, max_features=None n_estimators:  1300\ttime elapsed: 0:11:35\n",
      "RandomForestRegressor, max_features=None n_estimators:  1400\ttime elapsed: 0:12:27\n",
      "RandomForestRegressor, max_features=None n_estimators:  1500\ttime elapsed: 0:13:22\n",
      "RandomForestRegressor, max_features=None n_estimators:  1600\ttime elapsed: 0:14:11\n",
      "RandomForestRegressor, max_features=None n_estimators:  1700\ttime elapsed: 0:15:06\n",
      "RandomForestRegressor, max_features=None n_estimators:  1800\ttime elapsed: 0:16:04\n",
      "RandomForestRegressor, max_features=None n_estimators:  1900\ttime elapsed: 0:17:05\n",
      "RandomForestRegressor, max_features=None n_estimators:  2000\ttime elapsed: 0:17:47\n"
     ]
    },
    {
     "data": {
      "image/png": "[encoded data removed]",
      "text/plain": [
       "<Figure size 432x288 with 1 Axes>"
      ]
     },
     "metadata": {},
     "output_type": "display_data"
    }
   ],
   "source": [
    "_oob_errors_max_features(train, y_train)"
   ]
  },
  {
   "cell_type": "markdown",
   "metadata": {},
   "source": [
    "### Retrain the best model with 10-fold CV, Output train and test MSE as a measure of performance"
   ]
  },
  {
   "cell_type": "code",
   "execution_count": 8,
   "metadata": {
    "ExecuteTime": {
     "end_time": "2018-07-03T21:31:01.716218Z",
     "start_time": "2018-07-03T21:31:01.696733Z"
    },
    "collapsed": true
   },
   "outputs": [],
   "source": [
    "def run_model(dtrain, dtest=None):\n",
    "    params = {'max_features': 0.27,\n",
    "              'bootstrap': True,\n",
    "              'criterion': 'mse',\n",
    "              'max_depth': None,\n",
    "              'n_estimators': 2000,\n",
    "              'min_samples_leaf': 3,\n",
    "              'min_samples_split': 8,\n",
    "              'oob_score': True,\n",
    "              'n_jobs': -1,\n",
    "              'random_state': 3668\n",
    "              }\n",
    "    clf = RandomForestRegressor()\n",
    "    clf.set_params(**params)\n",
    "    if dtest:\n",
    "        clf.fit(dtrain[0], dtrain[1])\n",
    "        y_train_pred, y_test_pred = clf.predict(dtrain[0]), clf.predict(dtest[0])\n",
    "        y_train_loss, y_test_loss = mean_squared_error(dtrain[1], y_train_pred), mean_squared_error(dtest[1], y_test_pred)\n",
    "        return clf, y_train_loss, y_test_loss\n",
    "    else:\n",
    "        clf.fit(dtrain[0], dtrain[1])\n",
    "        y_train_pred = clf.predict(dtrain[0])\n",
    "        y_train_loss = mean_squared_error(dtrain[1], y_train_pred)\n",
    "        return clf, y_train_loss"
   ]
  },
  {
   "cell_type": "code",
   "execution_count": 9,
   "metadata": {
    "ExecuteTime": {
     "end_time": "2018-07-03T21:31:01.883767Z",
     "start_time": "2018-07-03T21:31:01.717744Z"
    },
    "collapsed": true
   },
   "outputs": [],
   "source": [
    "def train_cv(X_train, y_train, X_test, n_folds=5):\n",
    "    cv_scores, y_preds = [], []\n",
    "    kf = KFold(n_splits=n_folds, shuffle=True, random_state=816)\n",
    "    for i, (train_ind, val_ind) in enumerate(kf.split(X_train)):\n",
    "        print(\"Running Fold\", i + 1, \"/\", n_folds, end='\\t')\n",
    "        train_x, val_x = X_train.iloc[train_ind, :], X_train.iloc[val_ind, :]\n",
    "        train_y, val_y = y_train.iloc[train_ind], y_train.iloc[val_ind]\n",
    "        clf, train_loss, val_loss = run_model((train_x, train_y), (val_x, val_y))\n",
    "        cv_scores.append([train_loss, val_loss])\n",
    "        y_pred = clf.predict(X_test)\n",
    "        y_preds.append(y_pred)\n",
    "        print(\"train_loss: {0:.6f}, val_loss: {1:.6f}\".format(train_loss, val_loss))\n",
    "        \n",
    "    y_pred = np.mean(np.array(y_preds), axis=0)    \n",
    "    mean_train_loss = np.mean([cv_scores[i][0] for i in range(len(cv_scores))])\n",
    "    mean_val_loss = np.mean([cv_scores[i][1] for i in range(len(cv_scores))])\n",
    "    print(\"train_loss mean: {0:.6f}, val_loss mean: {1:.6f}\".format(mean_train_loss, mean_val_loss))\n",
    "       \n",
    "    return y_pred"
   ]
  },
  {
   "cell_type": "code",
   "execution_count": 10,
   "metadata": {
    "ExecuteTime": {
     "end_time": "2018-07-03T22:23:42.111171Z",
     "start_time": "2018-07-03T21:31:01.886045Z"
    }
   },
   "outputs": [
    {
     "name": "stdout",
     "output_type": "stream",
     "text": [
      "Running Fold 1 / 10\ttrain_loss: 0.613823, val_loss: 2.103926\n",
      "Running Fold 2 / 10\ttrain_loss: 0.620117, val_loss: 1.938450\n",
      "Running Fold 3 / 10\ttrain_loss: 0.616563, val_loss: 2.033117\n",
      "Running Fold 4 / 10\ttrain_loss: 0.614277, val_loss: 2.021332\n",
      "Running Fold 5 / 10\ttrain_loss: 0.620374, val_loss: 1.915739\n",
      "Running Fold 6 / 10\ttrain_loss: 0.619880, val_loss: 1.970679\n",
      "Running Fold 7 / 10\ttrain_loss: 0.615819, val_loss: 2.177698\n",
      "Running Fold 8 / 10\ttrain_loss: 0.610681, val_loss: 2.282867\n",
      "Running Fold 9 / 10\ttrain_loss: 0.623420, val_loss: 1.856620\n",
      "Running Fold 10 / 10\ttrain_loss: 0.617032, val_loss: 1.988145\n",
      "train_loss mean: 0.617198, val_loss mean: 2.028857\n"
     ]
    }
   ],
   "source": [
    "y_pred = train_cv(train, y_train, test, n_folds=10)"
   ]
  },
  {
   "cell_type": "code",
   "execution_count": 11,
   "metadata": {
    "ExecuteTime": {
     "end_time": "2018-07-03T22:23:42.276264Z",
     "start_time": "2018-07-03T22:23:42.112499Z"
    },
    "collapsed": true
   },
   "outputs": [],
   "source": [
    "sub_df = pd.DataFrame(test_ID, columns=['ID'])\n",
    "y_pred = np.exp(y_pred) - 1\n",
    "sub_df['target'] = y_pred\n",
    "sub_df.to_csv('../output/sub_rf_10foldCV.csv', index=False)"
   ]
  },
  {
   "cell_type": "markdown",
   "metadata": {},
   "source": [
    "### Plot feature importance"
   ]
  },
  {
   "cell_type": "code",
   "execution_count": 30,
   "metadata": {
    "ExecuteTime": {
     "end_time": "2018-07-04T00:26:14.064392Z",
     "start_time": "2018-07-04T00:26:14.052303Z"
    },
    "collapsed": true
   },
   "outputs": [],
   "source": [
    "def _feature_importance(feat_names, importance, nrows):\n",
    "    feat_importances = pd.DataFrame({'feature': feat_names, 'importance': importance})\n",
    "    feat_importances = feat_importances.sort_values(by='importance', ascending=False)\n",
    "    #print(feat_importances[:nrows])\n",
    "\n",
    "    plt.style.use('ggplot')\n",
    "    feat_importances = feat_importances.sort_values(by='importance', ascending=True)[-nrows:]\n",
    "    feat_importances.plot(kind='barh', x='feature', y='importance', legend=False, figsize=(8, 12))\n",
    "    plt.title('Ramdom Forest Feature Importance')\n",
    "    plt.xlabel('relative importance')\n",
    "    plt.tight_layout()\n",
    "    plt.show()"
   ]
  },
  {
   "cell_type": "code",
   "execution_count": 18,
   "metadata": {
    "ExecuteTime": {
     "end_time": "2018-07-04T00:13:46.195382Z",
     "start_time": "2018-07-04T00:07:56.627428Z"
    },
    "scrolled": false
   },
   "outputs": [
    {
     "name": "stderr",
     "output_type": "stream",
     "text": [
      "[Parallel(n_jobs=-1)]: Done  42 tasks      | elapsed:    7.0s\n",
      "[Parallel(n_jobs=-1)]: Done 192 tasks      | elapsed:   31.9s\n",
      "[Parallel(n_jobs=-1)]: Done 442 tasks      | elapsed:  1.2min\n",
      "[Parallel(n_jobs=-1)]: Done 792 tasks      | elapsed:  2.0min\n",
      "[Parallel(n_jobs=-1)]: Done 1242 tasks      | elapsed:  3.2min\n",
      "[Parallel(n_jobs=-1)]: Done 1792 tasks      | elapsed:  4.5min\n",
      "[Parallel(n_jobs=-1)]: Done 2000 out of 2000 | elapsed:  5.1min finished\n"
     ]
    },
    {
     "name": "stdout",
     "output_type": "stream",
     "text": [
      "OOB error: 0.658\n"
     ]
    }
   ],
   "source": [
    "params = {'max_features': 0.27,\n",
    "          'bootstrap': True,\n",
    "          'max_depth': None,\n",
    "          'n_estimators': 2000,\n",
    "          'min_samples_leaf': 3,\n",
    "          'min_samples_split': 8,\n",
    "          'oob_score': True,\n",
    "          'n_jobs': -1,\n",
    "          'verbose': 1,\n",
    "          'random_state': 3668\n",
    "         }\n",
    "\n",
    "clf = RandomForestRegressor()\n",
    "clf.set_params(**params)\n",
    "clf.fit(train, y_train)\n",
    "print('OOB error: {0:.3f}'.format(1-clf.oob_score_))"
   ]
  },
  {
   "cell_type": "code",
   "execution_count": 31,
   "metadata": {
    "ExecuteTime": {
     "end_time": "2018-07-04T00:26:15.943325Z",
     "start_time": "2018-07-04T00:26:15.093439Z"
    },
    "scrolled": false
   },
   "outputs": [
    {
     "data": {
      "image/png": "[encoded data removed]",
      "text/plain": [
       "<Figure size 576x864 with 1 Axes>"
      ]
     },
     "metadata": {},
     "output_type": "display_data"
    }
   ],
   "source": [
    "_feature_importance(train.columns.values, clf.feature_importances_, nrows=50)"
   ]
  },
  {
   "cell_type": "code",
   "execution_count": null,
   "metadata": {
    "collapsed": true
   },
   "outputs": [],
   "source": []
  }
 ],
 "metadata": {
  "kernelspec": {
   "display_name": "Python 3",
   "language": "python",
   "name": "python3"
  },
  "language_info": {
   "codemirror_mode": {
    "name": "ipython",
    "version": 3
   },
   "file_extension": ".py",
   "mimetype": "text/x-python",
   "name": "python",
   "nbconvert_exporter": "python",
   "pygments_lexer": "ipython3",
   "version": "3.6.5"
  },
  "latex_envs": {
   "LaTeX_envs_menu_present": true,
   "autoclose": false,
   "autocomplete": true,
   "bibliofile": "biblio.bib",
   "cite_by": "apalike",
   "current_citInitial": 1,
   "eqLabelWithNumbers": true,
   "eqNumInitial": 1,
   "hotkeys": {
    "equation": "Ctrl-E",
    "itemize": "Ctrl-I"
   },
   "labels_anchors": false,
   "latex_user_defs": false,
   "report_style_numbering": false,
   "user_envs_cfg": false
  },
  "toc": {
   "colors": {
    "hover_highlight": "#DAA520",
    "navigate_num": "#000000",
    "navigate_text": "#333333",
    "running_highlight": "#FF0000",
    "selected_highlight": "#FFD700",
    "sidebar_border": "#EEEEEE",
    "wrapper_background": "#FFFFFF"
   },
   "moveMenuLeft": true,
   "nav_menu": {},
   "navigate_menu": true,
   "number_sections": true,
   "sideBar": true,
   "skip_h1_title": false,
   "threshold": 4,
   "title_cell": "Table of Contents",
   "title_sidebar": "Contents",
   "toc_cell": false,
   "toc_position": {},
   "toc_section_display": true,
   "toc_window_display": false,
   "widenNotebook": false
  }
 },
 "nbformat": 4,
 "nbformat_minor": 2
}
