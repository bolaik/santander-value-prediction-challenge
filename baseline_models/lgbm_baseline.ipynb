{
 "cells": [
  {
   "cell_type": "markdown",
   "metadata": {},
   "source": [
    "This notebook build a baseline model with light gbm (https://www.kaggle.com/rooshroosh/lightgbm-baseline-1-49-lb/notebook)"
   ]
  },
  {
   "cell_type": "code",
   "execution_count": 1,
   "metadata": {
    "ExecuteTime": {
     "end_time": "2018-06-30T20:48:21.468839Z",
     "start_time": "2018-06-30T20:48:20.115912Z"
    },
    "collapsed": true
   },
   "outputs": [],
   "source": [
    "import numpy as np\n",
    "import pandas as pd \n",
    "import lightgbm as lgb\n",
    "import time\n",
    "import matplotlib.pyplot as plt\n",
    "%matplotlib inline\n",
    "import seaborn as sns\n",
    "sns.set(color_codes=True)\n",
    "from sklearn.model_selection import KFold"
   ]
  },
  {
   "cell_type": "code",
   "execution_count": 2,
   "metadata": {
    "ExecuteTime": {
     "end_time": "2018-06-30T20:49:14.134383Z",
     "start_time": "2018-06-30T20:48:21.470084Z"
    },
    "collapsed": true
   },
   "outputs": [],
   "source": [
    "train = pd.read_csv('../input/train.csv')\n",
    "test = pd.read_csv('../input/test.csv')"
   ]
  },
  {
   "cell_type": "code",
   "execution_count": 3,
   "metadata": {
    "ExecuteTime": {
     "end_time": "2018-06-30T20:49:14.141355Z",
     "start_time": "2018-06-30T20:49:14.136536Z"
    }
   },
   "outputs": [
    {
     "name": "stdout",
     "output_type": "stream",
     "text": [
      "train set shape: (4459, 4993)\n",
      "test set shape: (49342, 4992)\n"
     ]
    }
   ],
   "source": [
    "print('train set shape: {}'.format(train.shape))\n",
    "print('test set shape: {}'.format(test.shape))"
   ]
  },
  {
   "cell_type": "code",
   "execution_count": 4,
   "metadata": {
    "ExecuteTime": {
     "end_time": "2018-06-30T20:49:15.266034Z",
     "start_time": "2018-06-30T20:49:14.143381Z"
    }
   },
   "outputs": [
    {
     "data": {
      "text/plain": [
       "(4459, 2894)"
      ]
     },
     "execution_count": 4,
     "metadata": {},
     "output_type": "execute_result"
    }
   ],
   "source": [
    "max((train==0).sum(axis=0)), min((train.iloc[:,2:]==0).sum(axis=0))"
   ]
  },
  {
   "cell_type": "code",
   "execution_count": 5,
   "metadata": {
    "ExecuteTime": {
     "end_time": "2018-06-30T20:49:15.731858Z",
     "start_time": "2018-06-30T20:49:15.267722Z"
    }
   },
   "outputs": [
    {
     "data": {
      "text/plain": [
       "d9a8615f3    4459\n",
       "3f93a3272    4459\n",
       "7d7182143    4459\n",
       "f006d9618    4459\n",
       "34eff114b    4459\n",
       "6bda21fee    4459\n",
       "c1b95c2ec    4459\n",
       "a7e39d23d    4459\n",
       "f6fac27c8    4459\n",
       "d98484125    4459\n",
       "dtype: int64"
      ]
     },
     "execution_count": 5,
     "metadata": {},
     "output_type": "execute_result"
    }
   ],
   "source": [
    "(train==0).sum(axis=0).sort_values(ascending=False).head(10)"
   ]
  },
  {
   "cell_type": "code",
   "execution_count": 6,
   "metadata": {
    "ExecuteTime": {
     "end_time": "2018-06-30T20:49:16.205095Z",
     "start_time": "2018-06-30T20:49:15.733304Z"
    }
   },
   "outputs": [
    {
     "data": {
      "text/plain": [
       "256"
      ]
     },
     "execution_count": 6,
     "metadata": {},
     "output_type": "execute_result"
    }
   ],
   "source": [
    "sum((train==0).sum(axis=0)==4459)"
   ]
  },
  {
   "cell_type": "code",
   "execution_count": 7,
   "metadata": {
    "ExecuteTime": {
     "end_time": "2018-06-30T20:49:16.803310Z",
     "start_time": "2018-06-30T20:49:16.206507Z"
    }
   },
   "outputs": [
    {
     "data": {
      "image/png": "[encoded data removed]",
      "text/plain": [
       "<Figure size 432x288 with 1 Axes>"
      ]
     },
     "metadata": {},
     "output_type": "display_data"
    }
   ],
   "source": [
    "(train==0).sum(axis=0).hist(bins=50)\n",
    "plt.show()"
   ]
  },
  {
   "cell_type": "code",
   "execution_count": 8,
   "metadata": {
    "ExecuteTime": {
     "end_time": "2018-06-30T20:49:16.970851Z",
     "start_time": "2018-06-30T20:49:16.805095Z"
    }
   },
   "outputs": [
    {
     "data": {
      "text/plain": [
       "<matplotlib.axes._subplots.AxesSubplot at 0x1398d52e8>"
      ]
     },
     "execution_count": 8,
     "metadata": {},
     "output_type": "execute_result"
    },
    {
     "data": {
      "image/png": "[encoded data removed]",
      "text/plain": [
       "<Figure size 432x288 with 1 Axes>"
      ]
     },
     "metadata": {},
     "output_type": "display_data"
    }
   ],
   "source": [
    "col = np.random.randint(low=2, high=4993, size=1)\n",
    "col = 'c5a231d81'\n",
    "col = 'target'\n",
    "np.log(train.loc[:,col]+1).hist(bins=50)"
   ]
  },
  {
   "cell_type": "code",
   "execution_count": 9,
   "metadata": {
    "ExecuteTime": {
     "end_time": "2018-06-30T20:49:17.031355Z",
     "start_time": "2018-06-30T20:49:16.972734Z"
    },
    "collapsed": true
   },
   "outputs": [],
   "source": [
    "Y_train = np.log(train.target+1)\n",
    "train.drop(['target'], axis=1, inplace=True)"
   ]
  },
  {
   "cell_type": "code",
   "execution_count": 10,
   "metadata": {
    "ExecuteTime": {
     "end_time": "2018-06-30T20:49:19.112235Z",
     "start_time": "2018-06-30T20:49:17.033353Z"
    },
    "collapsed": true
   },
   "outputs": [],
   "source": [
    "test_ID = test.ID\n",
    "test.drop(['ID'], axis=1, inplace=True)\n",
    "\n",
    "train_ID = train.ID\n",
    "train.drop(['ID'], axis=1, inplace=True)"
   ]
  },
  {
   "cell_type": "code",
   "execution_count": 11,
   "metadata": {
    "ExecuteTime": {
     "end_time": "2018-06-30T20:49:19.118020Z",
     "start_time": "2018-06-30T20:49:19.113965Z"
    },
    "collapsed": true
   },
   "outputs": [],
   "source": [
    "lgbm_params =  {\n",
    "    'task': 'train',\n",
    "    'boosting_type': 'gbdt',\n",
    "    'objective': 'regression',\n",
    "    'metric': 'rmse',\n",
    "    'max_depth': 8,\n",
    "    'num_leaves': 32,  # 63, 127, 255\n",
    "    'feature_fraction': 0.8, # 0.1, 0.01\n",
    "    'bagging_fraction': 0.8,\n",
    "    'learning_rate': 0.01, #0.00625,#125,#0.025,#05,\n",
    "    'verbose': 1\n",
    "}"
   ]
  },
  {
   "cell_type": "code",
   "execution_count": 12,
   "metadata": {
    "ExecuteTime": {
     "end_time": "2018-06-30T20:51:48.261139Z",
     "start_time": "2018-06-30T20:49:19.119853Z"
    }
   },
   "outputs": [
    {
     "name": "stdout",
     "output_type": "stream",
     "text": [
      "FOLD: 0\n",
      "Training until validation scores don't improve for 100 rounds.\n",
      "[100]\ttrain's rmse: 1.45828\tvalid's rmse: 1.51756\n",
      "[200]\ttrain's rmse: 1.31146\tvalid's rmse: 1.45778\n",
      "[300]\ttrain's rmse: 1.23213\tvalid's rmse: 1.43468\n",
      "[400]\ttrain's rmse: 1.18764\tvalid's rmse: 1.42788\n",
      "[500]\ttrain's rmse: 1.15144\tvalid's rmse: 1.42326\n",
      "[600]\ttrain's rmse: 1.12192\tvalid's rmse: 1.42134\n",
      "[700]\ttrain's rmse: 1.09884\tvalid's rmse: 1.42019\n",
      "[800]\ttrain's rmse: 1.07732\tvalid's rmse: 1.41926\n",
      "[900]\ttrain's rmse: 1.05726\tvalid's rmse: 1.41914\n",
      "[1000]\ttrain's rmse: 1.03871\tvalid's rmse: 1.4187\n",
      "[1100]\ttrain's rmse: 1.02106\tvalid's rmse: 1.41848\n",
      "Early stopping, best iteration is:\n",
      "[1048]\ttrain's rmse: 1.02967\tvalid's rmse: 1.41818\n",
      "fold finish after 28.963394165039062\n",
      "FOLD: 1\n",
      "Training until validation scores don't improve for 100 rounds.\n",
      "[100]\ttrain's rmse: 1.44929\tvalid's rmse: 1.57732\n",
      "[200]\ttrain's rmse: 1.3076\tvalid's rmse: 1.51834\n",
      "[300]\ttrain's rmse: 1.22607\tvalid's rmse: 1.49822\n",
      "[400]\ttrain's rmse: 1.18118\tvalid's rmse: 1.49314\n",
      "[500]\ttrain's rmse: 1.14779\tvalid's rmse: 1.49026\n",
      "[600]\ttrain's rmse: 1.11643\tvalid's rmse: 1.48799\n",
      "[700]\ttrain's rmse: 1.09072\tvalid's rmse: 1.4874\n",
      "[800]\ttrain's rmse: 1.06899\tvalid's rmse: 1.48651\n",
      "[900]\ttrain's rmse: 1.04722\tvalid's rmse: 1.48595\n",
      "[1000]\ttrain's rmse: 1.02778\tvalid's rmse: 1.4852\n",
      "Early stopping, best iteration is:\n",
      "[994]\ttrain's rmse: 1.02841\tvalid's rmse: 1.48508\n",
      "fold finish after 27.703686952590942\n",
      "FOLD: 2\n",
      "Training until validation scores don't improve for 100 rounds.\n",
      "[100]\ttrain's rmse: 1.46959\tvalid's rmse: 1.49975\n",
      "[200]\ttrain's rmse: 1.33083\tvalid's rmse: 1.42591\n",
      "[300]\ttrain's rmse: 1.25608\tvalid's rmse: 1.40128\n",
      "[400]\ttrain's rmse: 1.21065\tvalid's rmse: 1.39292\n",
      "[500]\ttrain's rmse: 1.16913\tvalid's rmse: 1.38797\n",
      "[600]\ttrain's rmse: 1.13884\tvalid's rmse: 1.38553\n",
      "[700]\ttrain's rmse: 1.1122\tvalid's rmse: 1.38397\n",
      "[800]\ttrain's rmse: 1.08786\tvalid's rmse: 1.38431\n",
      "[900]\ttrain's rmse: 1.06518\tvalid's rmse: 1.38368\n",
      "[1000]\ttrain's rmse: 1.04477\tvalid's rmse: 1.38361\n",
      "Early stopping, best iteration is:\n",
      "[960]\ttrain's rmse: 1.05343\tvalid's rmse: 1.38317\n",
      "fold finish after 30.70564317703247\n",
      "FOLD: 3\n",
      "Training until validation scores don't improve for 100 rounds.\n",
      "[100]\ttrain's rmse: 1.46088\tvalid's rmse: 1.54301\n",
      "[200]\ttrain's rmse: 1.31923\tvalid's rmse: 1.48409\n",
      "[300]\ttrain's rmse: 1.23991\tvalid's rmse: 1.46319\n",
      "[400]\ttrain's rmse: 1.19634\tvalid's rmse: 1.4552\n",
      "[500]\ttrain's rmse: 1.16098\tvalid's rmse: 1.45192\n",
      "[600]\ttrain's rmse: 1.13243\tvalid's rmse: 1.44969\n",
      "[700]\ttrain's rmse: 1.10584\tvalid's rmse: 1.44861\n",
      "[800]\ttrain's rmse: 1.08238\tvalid's rmse: 1.44858\n",
      "[900]\ttrain's rmse: 1.05973\tvalid's rmse: 1.44745\n",
      "Early stopping, best iteration is:\n",
      "[894]\ttrain's rmse: 1.06076\tvalid's rmse: 1.44731\n",
      "fold finish after 28.338683128356934\n",
      "FOLD: 4\n",
      "Training until validation scores don't improve for 100 rounds.\n",
      "[100]\ttrain's rmse: 1.44509\tvalid's rmse: 1.6498\n",
      "[200]\ttrain's rmse: 1.30152\tvalid's rmse: 1.5837\n",
      "[300]\ttrain's rmse: 1.22271\tvalid's rmse: 1.55811\n",
      "[400]\ttrain's rmse: 1.17662\tvalid's rmse: 1.54566\n",
      "[500]\ttrain's rmse: 1.14031\tvalid's rmse: 1.53837\n",
      "[600]\ttrain's rmse: 1.10967\tvalid's rmse: 1.53359\n",
      "[700]\ttrain's rmse: 1.08522\tvalid's rmse: 1.53027\n",
      "[800]\ttrain's rmse: 1.06395\tvalid's rmse: 1.5288\n",
      "[900]\ttrain's rmse: 1.0423\tvalid's rmse: 1.52697\n",
      "[1000]\ttrain's rmse: 1.02057\tvalid's rmse: 1.52496\n",
      "[1100]\ttrain's rmse: 1.00151\tvalid's rmse: 1.52376\n",
      "[1200]\ttrain's rmse: 0.984983\tvalid's rmse: 1.52257\n",
      "[1300]\ttrain's rmse: 0.970313\tvalid's rmse: 1.52296\n",
      "Early stopping, best iteration is:\n",
      "[1247]\ttrain's rmse: 0.977083\tvalid's rmse: 1.52226\n",
      "fold finish after 30.820504903793335\n"
     ]
    }
   ],
   "source": [
    "Y_target = []\n",
    "kf = KFold(n_splits=5, random_state=8668)\n",
    "for fold_id,(train_idx, val_idx) in enumerate(kf.split(train)):\n",
    "    print('FOLD:',fold_id)\n",
    "    X_train = train.values[train_idx]\n",
    "    y_train = Y_train.values[train_idx]\n",
    "    X_valid = train.values[val_idx]\n",
    "    y_valid =  Y_train.values[val_idx]\n",
    "    \n",
    "    \n",
    "    lgtrain = lgb.Dataset(X_train, y_train,\n",
    "                feature_name=train.columns.tolist(),\n",
    "    #             categorical_feature = categorical\n",
    "                         )\n",
    "\n",
    "    lgvalid = lgb.Dataset(X_valid, y_valid,\n",
    "                feature_name=train.columns.tolist(),\n",
    "    #             categorical_feature = categorical\n",
    "                         )\n",
    "\n",
    "    modelstart = time.time()\n",
    "    lgb_clf = lgb.train(\n",
    "        lgbm_params,\n",
    "        lgtrain,\n",
    "        num_boost_round=30000,\n",
    "        valid_sets=[lgtrain, lgvalid],\n",
    "        valid_names=['train','valid'],\n",
    "        early_stopping_rounds=100,\n",
    "        verbose_eval=100\n",
    "    )\n",
    "    \n",
    "    test_pred = lgb_clf.predict(test.values)\n",
    "    Y_target.append(np.exp(test_pred)-1)\n",
    "    print('fold finish after', time.time()-modelstart)"
   ]
  },
  {
   "cell_type": "markdown",
   "metadata": {},
   "source": [
    "Example plot of feature importance"
   ]
  },
  {
   "cell_type": "code",
   "execution_count": 13,
   "metadata": {
    "ExecuteTime": {
     "end_time": "2018-06-30T20:53:25.872243Z",
     "start_time": "2018-06-30T20:53:25.633421Z"
    }
   },
   "outputs": [
    {
     "data": {
      "image/png": "[encoded data removed]",
      "text/plain": [
       "<Figure size 432x288 with 1 Axes>"
      ]
     },
     "metadata": {},
     "output_type": "display_data"
    }
   ],
   "source": [
    "ax = lgb.plot_importance(lgb_clf, max_num_features=20)\n",
    "plt.show()"
   ]
  },
  {
   "cell_type": "code",
   "execution_count": 30,
   "metadata": {
    "ExecuteTime": {
     "end_time": "2018-06-30T21:08:21.776911Z",
     "start_time": "2018-06-30T21:08:21.735455Z"
    }
   },
   "outputs": [
    {
     "data": {
      "text/html": [
       "<div>\n",
       "<style>\n",
       "    .dataframe thead tr:only-child th {\n",
       "        text-align: right;\n",
       "    }\n",
       "\n",
       "    .dataframe thead th {\n",
       "        text-align: left;\n",
       "    }\n",
       "\n",
       "    .dataframe tbody tr th {\n",
       "        vertical-align: top;\n",
       "    }\n",
       "</style>\n",
       "<table border=\"1\" class=\"dataframe\">\n",
       "  <thead>\n",
       "    <tr style=\"text-align: right;\">\n",
       "      <th></th>\n",
       "      <th>feature</th>\n",
       "      <th>gain</th>\n",
       "      <th>split</th>\n",
       "    </tr>\n",
       "  </thead>\n",
       "  <tbody>\n",
       "    <tr>\n",
       "      <th>4358</th>\n",
       "      <td>f190486d6</td>\n",
       "      <td>12.508257</td>\n",
       "      <td>629</td>\n",
       "    </tr>\n",
       "    <tr>\n",
       "      <th>3660</th>\n",
       "      <td>eeb9cd3aa</td>\n",
       "      <td>5.662622</td>\n",
       "      <td>419</td>\n",
       "    </tr>\n",
       "    <tr>\n",
       "      <th>2500</th>\n",
       "      <td>58e2e02e6</td>\n",
       "      <td>3.781215</td>\n",
       "      <td>455</td>\n",
       "    </tr>\n",
       "    <tr>\n",
       "      <th>2755</th>\n",
       "      <td>9fd594eec</td>\n",
       "      <td>3.012605</td>\n",
       "      <td>305</td>\n",
       "    </tr>\n",
       "    <tr>\n",
       "      <th>4243</th>\n",
       "      <td>15ace8c9f</td>\n",
       "      <td>2.188851</td>\n",
       "      <td>286</td>\n",
       "    </tr>\n",
       "  </tbody>\n",
       "</table>\n",
       "</div>"
      ],
      "text/plain": [
       "        feature       gain  split\n",
       "4358  f190486d6  12.508257    629\n",
       "3660  eeb9cd3aa   5.662622    419\n",
       "2500  58e2e02e6   3.781215    455\n",
       "2755  9fd594eec   3.012605    305\n",
       "4243  15ace8c9f   2.188851    286"
      ]
     },
     "execution_count": 30,
     "metadata": {},
     "output_type": "execute_result"
    }
   ],
   "source": [
    "gain = lgb_clf.feature_importance('gain')\n",
    "feat_importance = pd.DataFrame({'feature':lgb_clf.feature_name(), 'split':lgb_clf.feature_importance('split'), 'gain':100 * gain / gain.sum()}).sort_values('gain', ascending=False)\n",
    "feat_importance.to_csv('../output/sub_lgb_bl_fe.csv', index=False)\n",
    "feat_importance.head()"
   ]
  },
  {
   "cell_type": "code",
   "execution_count": 15,
   "metadata": {
    "ExecuteTime": {
     "end_time": "2018-06-28T05:39:21.511108Z",
     "start_time": "2018-06-28T05:39:21.346879Z"
    },
    "collapsed": true
   },
   "outputs": [],
   "source": [
    "Y_target = np.array(Y_target)\n",
    "sub = pd.read_csv('../input/sample_submission.csv')\n",
    "sub['target'] = Y_target.mean(axis=0)\n",
    "sub.to_csv('../output/sub_lgb_baseline.csv', index=False)"
   ]
  },
  {
   "cell_type": "code",
   "execution_count": null,
   "metadata": {
    "collapsed": true
   },
   "outputs": [],
   "source": []
  }
 ],
 "metadata": {
  "kernelspec": {
   "display_name": "Python 3",
   "language": "python",
   "name": "python3"
  },
  "language_info": {
   "codemirror_mode": {
    "name": "ipython",
    "version": 3
   },
   "file_extension": ".py",
   "mimetype": "text/x-python",
   "name": "python",
   "nbconvert_exporter": "python",
   "pygments_lexer": "ipython3",
   "version": "3.6.4"
  },
  "latex_envs": {
   "LaTeX_envs_menu_present": true,
   "autoclose": false,
   "autocomplete": true,
   "bibliofile": "biblio.bib",
   "cite_by": "apalike",
   "current_citInitial": 1,
   "eqLabelWithNumbers": true,
   "eqNumInitial": 1,
   "hotkeys": {
    "equation": "Ctrl-E",
    "itemize": "Ctrl-I"
   },
   "labels_anchors": false,
   "latex_user_defs": false,
   "report_style_numbering": false,
   "user_envs_cfg": false
  },
  "toc": {
   "nav_menu": {},
   "number_sections": true,
   "sideBar": true,
   "skip_h1_title": false,
   "title_cell": "Table of Contents",
   "title_sidebar": "Contents",
   "toc_cell": false,
   "toc_position": {},
   "toc_section_display": true,
   "toc_window_display": false
  }
 },
 "nbformat": 4,
 "nbformat_minor": 2
}
