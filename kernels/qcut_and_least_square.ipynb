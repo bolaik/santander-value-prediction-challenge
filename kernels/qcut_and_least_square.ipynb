{
 "cells": [
  {
   "cell_type": "markdown",
   "metadata": {
    "_cell_guid": "b1076dfc-b9ad-4769-8c92-a6c4dae69d19",
    "_uuid": "8f2839f25d086af736a60e9eeb907d3b93b6e0e5",
    "collapsed": true
   },
   "source": [
    "A different way to do this problem is to use cuts, train a bunch of binary classifiers and then feed them into linalg or scipy optimize.  Note this is not optimized; I just slapped it together for learning! \n",
    "\n",
    "https://www.kaggle.com/scirpus/cut-and-run/notebook"
   ]
  },
  {
   "cell_type": "code",
   "execution_count": 1,
   "metadata": {
    "ExecuteTime": {
     "end_time": "2018-06-29T06:54:08.675311Z",
     "start_time": "2018-06-29T06:54:06.640857Z"
    },
    "_cell_guid": "79c7e3d0-c299-4dcb-8224-4455121ee9b0",
    "_uuid": "d629ff2d2480ee46fbb7e2d37f6b5fab8052498a",
    "collapsed": true
   },
   "outputs": [],
   "source": [
    "import gc\n",
    "import numpy as np\n",
    "import pandas as pd\n",
    "import lightgbm as lgbm\n",
    "from sklearn.model_selection import KFold\n",
    "from sklearn.metrics import mean_squared_error"
   ]
  },
  {
   "cell_type": "markdown",
   "metadata": {},
   "source": [
    "`DataFrame.insert(loc, column, value, allow_duplicates=False)`"
   ]
  },
  {
   "cell_type": "code",
   "execution_count": 2,
   "metadata": {
    "ExecuteTime": {
     "end_time": "2018-06-29T06:55:07.318503Z",
     "start_time": "2018-06-29T06:54:09.843643Z"
    },
    "_uuid": "afcd2797f99183cc301a8297f10fce8c80b6d9aa",
    "collapsed": true
   },
   "outputs": [],
   "source": [
    "train = pd.read_csv('../input/train.csv')\n",
    "test = pd.read_csv('../input/test.csv')\n",
    "train['target'] = np.log1p(train['target'])\n",
    "test.insert(1,'target',-1.0)"
   ]
  },
  {
   "cell_type": "code",
   "execution_count": 3,
   "metadata": {
    "ExecuteTime": {
     "end_time": "2018-06-29T06:55:07.530606Z",
     "start_time": "2018-06-29T06:55:07.320260Z"
    },
    "_uuid": "ee4f56910b7ad546324214072883d4150488f239",
    "collapsed": true
   },
   "outputs": [],
   "source": [
    "floatcolumns = []\n",
    "intcolumns = []\n",
    "\n",
    "for c in train.columns[2:]:\n",
    "    s = train[c].dtype\n",
    "    if(s=='float64'):\n",
    "        floatcolumns.append(c)\n",
    "    else:\n",
    "        intcolumns.append(c)"
   ]
  },
  {
   "cell_type": "code",
   "execution_count": 4,
   "metadata": {
    "ExecuteTime": {
     "end_time": "2018-06-29T06:55:15.356647Z",
     "start_time": "2018-06-29T06:55:07.532435Z"
    },
    "_uuid": "928e8c8a0d3e6930237607d97d2281620bb189b1"
   },
   "outputs": [
    {
     "data": {
      "text/plain": [
       "0"
      ]
     },
     "execution_count": 4,
     "metadata": {},
     "output_type": "execute_result"
    }
   ],
   "source": [
    "alldata = pd.concat([train,test])\n",
    "del train,test\n",
    "gc.collect()"
   ]
  },
  {
   "cell_type": "code",
   "execution_count": 5,
   "metadata": {
    "ExecuteTime": {
     "end_time": "2018-06-29T06:55:25.896450Z",
     "start_time": "2018-06-29T06:55:15.358801Z"
    },
    "_uuid": "742423cc03db00a315c54d8a5fd2005c13556d19"
   },
   "outputs": [
    {
     "data": {
      "text/plain": [
       "28"
      ]
     },
     "execution_count": 5,
     "metadata": {},
     "output_type": "execute_result"
    }
   ],
   "source": [
    "alldata['sumofzeros'] = (alldata[intcolumns]==0).sum(axis=1)\n",
    "train = alldata[alldata.target!=-1]\n",
    "test = alldata[alldata.target==-1]\n",
    "del alldata\n",
    "gc.collect()"
   ]
  },
  {
   "cell_type": "markdown",
   "metadata": {},
   "source": [
    "Quantile-based discretization:"
   ]
  },
  {
   "cell_type": "code",
   "execution_count": 6,
   "metadata": {
    "ExecuteTime": {
     "end_time": "2018-06-29T06:55:25.910736Z",
     "start_time": "2018-06-29T06:55:25.898762Z"
    },
    "_uuid": "35adb7e4bef4afde911a7daa059da3896cd91fb3",
    "collapsed": true
   },
   "outputs": [],
   "source": [
    "x = pd.qcut(train.target, 7, labels=[0, 1, 2, 3, 4, 5, 6])"
   ]
  },
  {
   "cell_type": "code",
   "execution_count": 7,
   "metadata": {
    "ExecuteTime": {
     "end_time": "2018-06-29T06:55:25.929085Z",
     "start_time": "2018-06-29T06:55:25.912704Z"
    },
    "_uuid": "e1071b263d41998ff0342fd6a0b11e7f0d792a82"
   },
   "outputs": [
    {
     "name": "stdout",
     "output_type": "stream",
     "text": [
      "label:0 range: 10.308985993422082 ~ 12.345838935721968\n",
      "label:1 range: 12.354496960983985 ~ 13.592368256649284\n",
      "label:2 range: 13.596111238258136 ~ 14.403297778421795\n",
      "label:3 range: 14.408469567642987 ~ 15.068273812173887\n",
      "label:4 range: 15.072076098936854 ~ 15.618320027115164\n",
      "label:5 range: 15.620515418416021 ~ 16.40327466837995\n",
      "label:6 range: 16.405777798910098 ~ 17.50439003707821\n"
     ]
    }
   ],
   "source": [
    "for a in [0, 1, 2, 3, 4, 5, 6]:\n",
    "    print(\"label:{} range: {} ~ {}\".format(a,train.target[x==a].min(),train.target[x==a].max()))"
   ]
  },
  {
   "cell_type": "markdown",
   "metadata": {},
   "source": [
    "General questions:\n",
    "- min_child_weight meaning?\n",
    "- max_depth why could be set to -1?"
   ]
  },
  {
   "cell_type": "code",
   "execution_count": 8,
   "metadata": {
    "ExecuteTime": {
     "end_time": "2018-06-29T06:55:25.937210Z",
     "start_time": "2018-06-29T06:55:25.931257Z"
    },
    "_uuid": "e929d432bec93a6c1b538f439c520e933210fcdd",
    "collapsed": true
   },
   "outputs": [],
   "source": [
    "lgbm_params =  {\n",
    "    'task': 'train',\n",
    "    'boosting_type': 'gbdt',\n",
    "    'objective': 'binary',\n",
    "    'metric': 'binary_logloss',\n",
    "    \"learning_rate\": 0.01,\n",
    "    \"feature_fraction\": .5,\n",
    "    \"bagging_fraction\": .5,\n",
    "    #'bagging_freq': 4,\n",
    "    \"max_depth\": -1,\n",
    "    \"num_leaves\": 100,\n",
    "    \"reg_alpha\": 0.3,\n",
    "    \"reg_lambda\": 0.1,\n",
    "    \"min_child_weight\":10,\n",
    "    'zero_as_missing':True\n",
    "}"
   ]
  },
  {
   "cell_type": "code",
   "execution_count": 9,
   "metadata": {
    "ExecuteTime": {
     "end_time": "2018-06-29T06:55:25.942202Z",
     "start_time": "2018-06-29T06:55:25.939374Z"
    },
    "_uuid": "6dcee1964b0dcfacca2f95801d41cd0ce0322174",
    "collapsed": true
   },
   "outputs": [],
   "source": [
    "feats = train.columns[2:]"
   ]
  },
  {
   "cell_type": "markdown",
   "metadata": {
    "_uuid": "4ee52ad4a2439449f451f36618f73133cb0a0e11"
   },
   "source": [
    "Use the block below - kernels are slow so I am giving you the \"best\" params"
   ]
  },
  {
   "cell_type": "code",
   "execution_count": 10,
   "metadata": {
    "ExecuteTime": {
     "end_time": "2018-06-29T07:03:23.358082Z",
     "start_time": "2018-06-29T06:55:25.944580Z"
    },
    "_uuid": "b8d97691aa828c247ee31b866b454dc3152c1543"
   },
   "outputs": [
    {
     "name": "stdout",
     "output_type": "stream",
     "text": [
      "Start LGB model 0 :\n",
      "[100]\tcv_agg's binary_logloss: 0.409078 + 0.00434919\n",
      "[200]\tcv_agg's binary_logloss: 0.343841 + 0.00740159\n",
      "[300]\tcv_agg's binary_logloss: 0.327712 + 0.00967397\n",
      "[400]\tcv_agg's binary_logloss: 0.325592 + 0.0114419\n",
      "Start LGB model 1 :\n",
      "[100]\tcv_agg's binary_logloss: 0.537729 + 0.00665311\n",
      "[200]\tcv_agg's binary_logloss: 0.500689 + 0.0105139\n",
      "[300]\tcv_agg's binary_logloss: 0.490717 + 0.0128444\n",
      "[400]\tcv_agg's binary_logloss: 0.490166 + 0.0151963\n",
      "Start LGB model 2 :\n",
      "[100]\tcv_agg's binary_logloss: 0.599443 + 0.00354913\n",
      "[200]\tcv_agg's binary_logloss: 0.573178 + 0.00699068\n",
      "[300]\tcv_agg's binary_logloss: 0.565735 + 0.00921225\n",
      "[400]\tcv_agg's binary_logloss: 0.564888 + 0.010625\n",
      "Start LGB model 3 :\n",
      "[100]\tcv_agg's binary_logloss: 0.606256 + 0.00441442\n",
      "[200]\tcv_agg's binary_logloss: 0.581638 + 0.00621337\n",
      "[300]\tcv_agg's binary_logloss: 0.575195 + 0.00738429\n",
      "[400]\tcv_agg's binary_logloss: 0.574007 + 0.00832521\n",
      "Start LGB model 4 :\n",
      "[100]\tcv_agg's binary_logloss: 0.54545 + 0.00188235\n",
      "[200]\tcv_agg's binary_logloss: 0.510572 + 0.00207511\n",
      "[300]\tcv_agg's binary_logloss: 0.502649 + 0.00188903\n",
      "[400]\tcv_agg's binary_logloss: 0.501787 + 0.00148943\n",
      "Start LGB model 5 :\n",
      "[100]\tcv_agg's binary_logloss: 0.414761 + 0.007752\n",
      "[200]\tcv_agg's binary_logloss: 0.353021 + 0.012094\n",
      "[300]\tcv_agg's binary_logloss: 0.338103 + 0.0141858\n",
      "[400]\tcv_agg's binary_logloss: 0.335376 + 0.0152807\n",
      "[500]\tcv_agg's binary_logloss: 0.335913 + 0.015691\n"
     ]
    }
   ],
   "source": [
    "bestparams = {}\n",
    "lgb_models = []\n",
    "for i in [0, 1, 2, 3, 4, 5]:\n",
    "    print('Start LGB model {} :'.format(i))\n",
    "    lgtrain = lgbm.Dataset(train[feats],x>i)\n",
    "    lgb_cv = lgbm.cv(\n",
    "        params = lgbm_params,\n",
    "        train_set = lgtrain,\n",
    "        num_boost_round=2000,\n",
    "        stratified=False,\n",
    "        nfold = 5,\n",
    "        verbose_eval=100,\n",
    "        seed = 42,\n",
    "        early_stopping_rounds=75)\n",
    "    \n",
    "    lgb_models.append(lgb_cv)\n",
    "    optimal_rounds = np.argmin(lgb_cv['binary_logloss-mean'])\n",
    "    best_cv_score = min(lgb_cv['binary_logloss-mean'])\n",
    "    bestparams[i] = (optimal_rounds,best_cv_score)\n",
    "    \n",
    "    del lgtrain\n",
    "    gc.collect()\n"
   ]
  },
  {
   "cell_type": "code",
   "execution_count": 11,
   "metadata": {
    "ExecuteTime": {
     "end_time": "2018-06-29T07:03:23.372042Z",
     "start_time": "2018-06-29T07:03:23.360235Z"
    }
   },
   "outputs": [
    {
     "data": {
      "text/plain": [
       "{0: (387, 0.32549223081879874),\n",
       " 1: (363, 0.4896434782858353),\n",
       " 2: (389, 0.5646998803516646),\n",
       " 3: (412, 0.5738770523457458),\n",
       " 4: (371, 0.5016286734255448),\n",
       " 5: (433, 0.3353076747094824)}"
      ]
     },
     "execution_count": 11,
     "metadata": {},
     "output_type": "execute_result"
    }
   ],
   "source": [
    "bestparams"
   ]
  },
  {
   "cell_type": "markdown",
   "metadata": {},
   "source": [
    "Train with given best parameters for number of steps:"
   ]
  },
  {
   "cell_type": "code",
   "execution_count": 12,
   "metadata": {
    "ExecuteTime": {
     "end_time": "2018-06-29T07:03:23.378038Z",
     "start_time": "2018-06-29T07:03:23.374068Z"
    },
    "_uuid": "b76d5a0fa60cb6d38103bade7e3b94902d4dbd3b",
    "collapsed": true
   },
   "outputs": [],
   "source": [
    "folds = KFold(n_splits=5, shuffle=True, random_state=8668)\n",
    "oof_preds = np.zeros((train.shape[0],6))\n",
    "sub_preds = np.zeros((test.shape[0],6))"
   ]
  },
  {
   "cell_type": "code",
   "execution_count": 13,
   "metadata": {
    "ExecuteTime": {
     "end_time": "2018-06-29T07:20:26.749804Z",
     "start_time": "2018-06-29T07:03:23.379867Z"
    },
    "_uuid": "9d55f4c85c12a5149435eab689efb0db0432f2c8"
   },
   "outputs": [
    {
     "name": "stdout",
     "output_type": "stream",
     "text": [
      "Start Model 0 with params 387, 0.32549223081879874 :\n",
      "Fold 0\n",
      "[200]\tvalid_0's binary_logloss: 0.340278\n",
      "Fold 1\n",
      "[200]\tvalid_0's binary_logloss: 0.338457\n",
      "Fold 2\n",
      "[200]\tvalid_0's binary_logloss: 0.351486\n",
      "Fold 3\n",
      "[200]\tvalid_0's binary_logloss: 0.315322\n",
      "Fold 4\n",
      "[200]\tvalid_0's binary_logloss: 0.362386\n",
      "Start Model 1 with params 363, 0.4896434782858353 :\n",
      "Fold 0\n",
      "[200]\tvalid_0's binary_logloss: 0.486414\n",
      "Fold 1\n",
      "[200]\tvalid_0's binary_logloss: 0.495586\n",
      "Fold 2\n",
      "[200]\tvalid_0's binary_logloss: 0.512938\n",
      "Fold 3\n",
      "[200]\tvalid_0's binary_logloss: 0.501193\n",
      "Fold 4\n",
      "[200]\tvalid_0's binary_logloss: 0.474956\n",
      "Start Model 2 with params 389, 0.5646998803516646 :\n",
      "Fold 0\n",
      "[200]\tvalid_0's binary_logloss: 0.554603\n",
      "Fold 1\n",
      "[200]\tvalid_0's binary_logloss: 0.558169\n",
      "Fold 2\n",
      "[200]\tvalid_0's binary_logloss: 0.580341\n",
      "Fold 3\n",
      "[200]\tvalid_0's binary_logloss: 0.572303\n",
      "Fold 4\n",
      "[200]\tvalid_0's binary_logloss: 0.549632\n",
      "Start Model 3 with params 412, 0.5738770523457458 :\n",
      "Fold 0\n",
      "[200]\tvalid_0's binary_logloss: 0.569519\n",
      "[400]\tvalid_0's binary_logloss: 0.553164\n",
      "Fold 1\n",
      "[200]\tvalid_0's binary_logloss: 0.565023\n",
      "[400]\tvalid_0's binary_logloss: 0.551182\n",
      "Fold 2\n",
      "[200]\tvalid_0's binary_logloss: 0.572022\n",
      "[400]\tvalid_0's binary_logloss: 0.565699\n",
      "Fold 3\n",
      "[200]\tvalid_0's binary_logloss: 0.582828\n",
      "[400]\tvalid_0's binary_logloss: 0.577164\n",
      "Fold 4\n",
      "[200]\tvalid_0's binary_logloss: 0.564609\n",
      "[400]\tvalid_0's binary_logloss: 0.551244\n",
      "Start Model 4 with params 371, 0.5016286734255448 :\n",
      "Fold 0\n",
      "[200]\tvalid_0's binary_logloss: 0.502392\n",
      "Fold 1\n",
      "[200]\tvalid_0's binary_logloss: 0.508905\n",
      "Fold 2\n",
      "[200]\tvalid_0's binary_logloss: 0.508017\n",
      "Fold 3\n",
      "[200]\tvalid_0's binary_logloss: 0.488895\n",
      "Fold 4\n",
      "[200]\tvalid_0's binary_logloss: 0.509062\n",
      "Start Model 5 with params 433, 0.3353076747094824 :\n",
      "Fold 0\n",
      "[200]\tvalid_0's binary_logloss: 0.359395\n",
      "[400]\tvalid_0's binary_logloss: 0.342875\n",
      "Fold 1\n",
      "[200]\tvalid_0's binary_logloss: 0.359544\n",
      "[400]\tvalid_0's binary_logloss: 0.344732\n",
      "Fold 2\n",
      "[200]\tvalid_0's binary_logloss: 0.351092\n",
      "[400]\tvalid_0's binary_logloss: 0.335034\n",
      "Fold 3\n",
      "[200]\tvalid_0's binary_logloss: 0.344203\n",
      "[400]\tvalid_0's binary_logloss: 0.32621\n",
      "Fold 4\n",
      "[200]\tvalid_0's binary_logloss: 0.344129\n",
      "[400]\tvalid_0's binary_logloss: 0.326212\n"
     ]
    }
   ],
   "source": [
    "for i in [0, 1, 2, 3, 4, 5]:\n",
    "    optimal_rounds, best_cv_score = bestparams[i]\n",
    "    print(\"Start Model {} with params {}, {} :\".format(i, optimal_rounds, best_cv_score))\n",
    "    for n_fold, (trn_idx, val_idx) in enumerate(folds.split(train)):\n",
    "        print(\"Fold {}\".format(n_fold))\n",
    "        trn_x, trn_y = train[feats].iloc[trn_idx], x[trn_idx]>i\n",
    "        val_x, val_y = train[feats].iloc[val_idx], x[val_idx]>i\n",
    "        \n",
    "        clf = lgbm.train(lgbm_params,\n",
    "                         train_set = lgbm.Dataset(trn_x,trn_y),\n",
    "                         valid_sets = lgbm.Dataset(val_x,val_y),\n",
    "                         num_boost_round = optimal_rounds + 1,\n",
    "                         verbose_eval=200)\n",
    "\n",
    "        oof_preds[val_idx,i] = clf.predict(val_x, num_iteration=optimal_rounds + 1)\n",
    "        sub_preds[:,i] += clf.predict(test[feats], num_iteration=optimal_rounds + 1) / folds.n_splits\n",
    "\n",
    "        del clf\n",
    "        del trn_x, trn_y, val_x, val_y\n",
    "        gc.collect()"
   ]
  },
  {
   "cell_type": "code",
   "execution_count": 14,
   "metadata": {
    "ExecuteTime": {
     "end_time": "2018-06-29T07:20:26.781603Z",
     "start_time": "2018-06-29T07:20:26.766089Z"
    },
    "_uuid": "afd0238960c0c7489c9f7364797ef160beb43abd",
    "collapsed": true
   },
   "outputs": [],
   "source": [
    "off_preds_withbias = np.hstack([oof_preds,np.ones(shape=(oof_preds.shape[0],1))])\n",
    "sub_preds_withbias = np.hstack([sub_preds,np.ones(shape=(sub_preds.shape[0],1))])"
   ]
  },
  {
   "cell_type": "code",
   "execution_count": 15,
   "metadata": {
    "ExecuteTime": {
     "end_time": "2018-06-29T07:20:26.800164Z",
     "start_time": "2018-06-29T07:20:26.783177Z"
    }
   },
   "outputs": [
    {
     "data": {
      "text/html": [
       "<div>\n",
       "<style>\n",
       "    .dataframe thead tr:only-child th {\n",
       "        text-align: right;\n",
       "    }\n",
       "\n",
       "    .dataframe thead th {\n",
       "        text-align: left;\n",
       "    }\n",
       "\n",
       "    .dataframe tbody tr th {\n",
       "        vertical-align: top;\n",
       "    }\n",
       "</style>\n",
       "<table border=\"1\" class=\"dataframe\">\n",
       "  <thead>\n",
       "    <tr style=\"text-align: right;\">\n",
       "      <th></th>\n",
       "      <th>0</th>\n",
       "      <th>1</th>\n",
       "      <th>2</th>\n",
       "      <th>3</th>\n",
       "      <th>4</th>\n",
       "      <th>5</th>\n",
       "      <th>6</th>\n",
       "    </tr>\n",
       "  </thead>\n",
       "  <tbody>\n",
       "    <tr>\n",
       "      <th>0</th>\n",
       "      <td>0.955381</td>\n",
       "      <td>0.928161</td>\n",
       "      <td>0.681111</td>\n",
       "      <td>0.222671</td>\n",
       "      <td>0.130019</td>\n",
       "      <td>0.036149</td>\n",
       "      <td>1.0</td>\n",
       "    </tr>\n",
       "    <tr>\n",
       "      <th>1</th>\n",
       "      <td>0.966263</td>\n",
       "      <td>0.835979</td>\n",
       "      <td>0.580033</td>\n",
       "      <td>0.130780</td>\n",
       "      <td>0.098927</td>\n",
       "      <td>0.029068</td>\n",
       "      <td>1.0</td>\n",
       "    </tr>\n",
       "    <tr>\n",
       "      <th>2</th>\n",
       "      <td>0.921431</td>\n",
       "      <td>0.810885</td>\n",
       "      <td>0.725055</td>\n",
       "      <td>0.691308</td>\n",
       "      <td>0.338809</td>\n",
       "      <td>0.124334</td>\n",
       "      <td>1.0</td>\n",
       "    </tr>\n",
       "    <tr>\n",
       "      <th>3</th>\n",
       "      <td>0.909655</td>\n",
       "      <td>0.732198</td>\n",
       "      <td>0.576642</td>\n",
       "      <td>0.351515</td>\n",
       "      <td>0.282206</td>\n",
       "      <td>0.091151</td>\n",
       "      <td>1.0</td>\n",
       "    </tr>\n",
       "    <tr>\n",
       "      <th>4</th>\n",
       "      <td>0.951261</td>\n",
       "      <td>0.908978</td>\n",
       "      <td>0.722071</td>\n",
       "      <td>0.566446</td>\n",
       "      <td>0.275572</td>\n",
       "      <td>0.079777</td>\n",
       "      <td>1.0</td>\n",
       "    </tr>\n",
       "  </tbody>\n",
       "</table>\n",
       "</div>"
      ],
      "text/plain": [
       "          0         1         2         3         4         5    6\n",
       "0  0.955381  0.928161  0.681111  0.222671  0.130019  0.036149  1.0\n",
       "1  0.966263  0.835979  0.580033  0.130780  0.098927  0.029068  1.0\n",
       "2  0.921431  0.810885  0.725055  0.691308  0.338809  0.124334  1.0\n",
       "3  0.909655  0.732198  0.576642  0.351515  0.282206  0.091151  1.0\n",
       "4  0.951261  0.908978  0.722071  0.566446  0.275572  0.079777  1.0"
      ]
     },
     "execution_count": 15,
     "metadata": {},
     "output_type": "execute_result"
    }
   ],
   "source": [
    "# for validation set\n",
    "pd.DataFrame(off_preds_withbias).head()"
   ]
  },
  {
   "cell_type": "code",
   "execution_count": 16,
   "metadata": {
    "ExecuteTime": {
     "end_time": "2018-06-29T07:20:26.811304Z",
     "start_time": "2018-06-29T07:20:26.801875Z"
    }
   },
   "outputs": [
    {
     "data": {
      "text/html": [
       "<div>\n",
       "<style>\n",
       "    .dataframe thead tr:only-child th {\n",
       "        text-align: right;\n",
       "    }\n",
       "\n",
       "    .dataframe thead th {\n",
       "        text-align: left;\n",
       "    }\n",
       "\n",
       "    .dataframe tbody tr th {\n",
       "        vertical-align: top;\n",
       "    }\n",
       "</style>\n",
       "<table border=\"1\" class=\"dataframe\">\n",
       "  <thead>\n",
       "    <tr style=\"text-align: right;\">\n",
       "      <th></th>\n",
       "      <th>0</th>\n",
       "      <th>1</th>\n",
       "      <th>2</th>\n",
       "      <th>3</th>\n",
       "      <th>4</th>\n",
       "      <th>5</th>\n",
       "      <th>6</th>\n",
       "    </tr>\n",
       "  </thead>\n",
       "  <tbody>\n",
       "    <tr>\n",
       "      <th>0</th>\n",
       "      <td>0.880080</td>\n",
       "      <td>0.688157</td>\n",
       "      <td>0.426635</td>\n",
       "      <td>0.309395</td>\n",
       "      <td>0.280014</td>\n",
       "      <td>0.111254</td>\n",
       "      <td>1.0</td>\n",
       "    </tr>\n",
       "    <tr>\n",
       "      <th>1</th>\n",
       "      <td>0.868473</td>\n",
       "      <td>0.673920</td>\n",
       "      <td>0.548743</td>\n",
       "      <td>0.356798</td>\n",
       "      <td>0.243292</td>\n",
       "      <td>0.108166</td>\n",
       "      <td>1.0</td>\n",
       "    </tr>\n",
       "    <tr>\n",
       "      <th>2</th>\n",
       "      <td>0.908824</td>\n",
       "      <td>0.607314</td>\n",
       "      <td>0.700101</td>\n",
       "      <td>0.483961</td>\n",
       "      <td>0.275328</td>\n",
       "      <td>0.099588</td>\n",
       "      <td>1.0</td>\n",
       "    </tr>\n",
       "    <tr>\n",
       "      <th>3</th>\n",
       "      <td>0.955987</td>\n",
       "      <td>0.887864</td>\n",
       "      <td>0.862819</td>\n",
       "      <td>0.662578</td>\n",
       "      <td>0.547929</td>\n",
       "      <td>0.496419</td>\n",
       "      <td>1.0</td>\n",
       "    </tr>\n",
       "    <tr>\n",
       "      <th>4</th>\n",
       "      <td>0.895302</td>\n",
       "      <td>0.765471</td>\n",
       "      <td>0.649119</td>\n",
       "      <td>0.518052</td>\n",
       "      <td>0.346987</td>\n",
       "      <td>0.187197</td>\n",
       "      <td>1.0</td>\n",
       "    </tr>\n",
       "  </tbody>\n",
       "</table>\n",
       "</div>"
      ],
      "text/plain": [
       "          0         1         2         3         4         5    6\n",
       "0  0.880080  0.688157  0.426635  0.309395  0.280014  0.111254  1.0\n",
       "1  0.868473  0.673920  0.548743  0.356798  0.243292  0.108166  1.0\n",
       "2  0.908824  0.607314  0.700101  0.483961  0.275328  0.099588  1.0\n",
       "3  0.955987  0.887864  0.862819  0.662578  0.547929  0.496419  1.0\n",
       "4  0.895302  0.765471  0.649119  0.518052  0.346987  0.187197  1.0"
      ]
     },
     "execution_count": 16,
     "metadata": {},
     "output_type": "execute_result"
    }
   ],
   "source": [
    "# for test set\n",
    "pd.DataFrame(sub_preds_withbias).head()"
   ]
  },
  {
   "cell_type": "code",
   "execution_count": 17,
   "metadata": {
    "ExecuteTime": {
     "end_time": "2018-06-29T07:20:26.832817Z",
     "start_time": "2018-06-29T07:20:26.812623Z"
    },
    "_uuid": "a3246d4415e84427a81c1c39af900cd354292dcf",
    "collapsed": true
   },
   "outputs": [],
   "source": [
    "params = np.linalg.lstsq(off_preds_withbias, train.target, rcond=None)"
   ]
  },
  {
   "cell_type": "code",
   "execution_count": 18,
   "metadata": {
    "ExecuteTime": {
     "end_time": "2018-06-29T07:20:26.841991Z",
     "start_time": "2018-06-29T07:20:26.835039Z"
    },
    "_uuid": "412d0e18d464779fbd74728364302d4ce1c8ad41"
   },
   "outputs": [
    {
     "name": "stdout",
     "output_type": "stream",
     "text": [
      "1.397079680635988\n"
     ]
    }
   ],
   "source": [
    "trainpreds = np.dot(off_preds_withbias,params[0])\n",
    "print(np.sqrt(mean_squared_error(train.target,trainpreds)))"
   ]
  },
  {
   "cell_type": "code",
   "execution_count": 19,
   "metadata": {
    "ExecuteTime": {
     "end_time": "2018-06-29T07:20:27.063145Z",
     "start_time": "2018-06-29T07:20:26.843662Z"
    },
    "_uuid": "36ec120521837962230f4f0fc34d55f902ebf6a9",
    "collapsed": true
   },
   "outputs": [],
   "source": [
    "testpreds = np.dot(sub_preds_withbias,params[0])\n",
    "sub = pd.DataFrame({'ID':test.ID, 'target':np.expm1(testpreds)})\n",
    "sub.to_csv('../output/sub_qcut.csv',index=False)"
   ]
  },
  {
   "cell_type": "markdown",
   "metadata": {},
   "source": [
    "This model gives 1.86 and 1.43 on Leader board, based on different input random seeds. Thus suffers from high variability."
   ]
  }
 ],
 "metadata": {
  "kernelspec": {
   "display_name": "Python 3",
   "language": "python",
   "name": "python3"
  },
  "language_info": {
   "codemirror_mode": {
    "name": "ipython",
    "version": 3
   },
   "file_extension": ".py",
   "mimetype": "text/x-python",
   "name": "python",
   "nbconvert_exporter": "python",
   "pygments_lexer": "ipython3",
   "version": "3.6.4"
  },
  "latex_envs": {
   "LaTeX_envs_menu_present": true,
   "autoclose": false,
   "autocomplete": true,
   "bibliofile": "biblio.bib",
   "cite_by": "apalike",
   "current_citInitial": 1,
   "eqLabelWithNumbers": true,
   "eqNumInitial": 1,
   "hotkeys": {
    "equation": "Ctrl-E",
    "itemize": "Ctrl-I"
   },
   "labels_anchors": false,
   "latex_user_defs": false,
   "report_style_numbering": false,
   "user_envs_cfg": false
  },
  "toc": {
   "nav_menu": {},
   "number_sections": true,
   "sideBar": true,
   "skip_h1_title": false,
   "title_cell": "Table of Contents",
   "title_sidebar": "Contents",
   "toc_cell": false,
   "toc_position": {},
   "toc_section_display": true,
   "toc_window_display": false
  }
 },
 "nbformat": 4,
 "nbformat_minor": 1
}
